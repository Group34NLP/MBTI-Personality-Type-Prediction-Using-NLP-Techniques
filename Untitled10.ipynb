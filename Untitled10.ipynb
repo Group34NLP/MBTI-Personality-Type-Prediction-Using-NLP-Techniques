{
  "nbformat": 4,
  "nbformat_minor": 0,
  "metadata": {
    "colab": {
      "name": "Untitled10.ipynb",
      "provenance": [],
      "collapsed_sections": []
    },
    "kernelspec": {
      "name": "python3",
      "display_name": "Python 3"
    },
    "language_info": {
      "name": "python"
    },
    "accelerator": "TPU",
    "widgets": {
      "application/vnd.jupyter.widget-state+json": {
        "eaab18ee791b4d009269a2b3161d3a6d": {
          "model_module": "@jupyter-widgets/controls",
          "model_name": "HBoxModel",
          "model_module_version": "1.5.0",
          "state": {
            "_dom_classes": [],
            "_model_module": "@jupyter-widgets/controls",
            "_model_module_version": "1.5.0",
            "_model_name": "HBoxModel",
            "_view_count": null,
            "_view_module": "@jupyter-widgets/controls",
            "_view_module_version": "1.5.0",
            "_view_name": "HBoxView",
            "box_style": "",
            "children": [
              "IPY_MODEL_f233951ebf0d49209ed04000ab81f6f4",
              "IPY_MODEL_17b18d2b14a9491cba69a91f7fedab08",
              "IPY_MODEL_a9e76577dcce4e10a8e8a9d6733d325c"
            ],
            "layout": "IPY_MODEL_f14c4818a4b74be89ed5df4cc4fc96e9"
          }
        },
        "f233951ebf0d49209ed04000ab81f6f4": {
          "model_module": "@jupyter-widgets/controls",
          "model_name": "HTMLModel",
          "model_module_version": "1.5.0",
          "state": {
            "_dom_classes": [],
            "_model_module": "@jupyter-widgets/controls",
            "_model_module_version": "1.5.0",
            "_model_name": "HTMLModel",
            "_view_count": null,
            "_view_module": "@jupyter-widgets/controls",
            "_view_module_version": "1.5.0",
            "_view_name": "HTMLView",
            "description": "",
            "description_tooltip": null,
            "layout": "IPY_MODEL_4bf81109a4fc43058a725e462534675a",
            "placeholder": "​",
            "style": "IPY_MODEL_4b391beafd904fdd9f0ed7410f54c2f7",
            "value": "100%"
          }
        },
        "17b18d2b14a9491cba69a91f7fedab08": {
          "model_module": "@jupyter-widgets/controls",
          "model_name": "FloatProgressModel",
          "model_module_version": "1.5.0",
          "state": {
            "_dom_classes": [],
            "_model_module": "@jupyter-widgets/controls",
            "_model_module_version": "1.5.0",
            "_model_name": "FloatProgressModel",
            "_view_count": null,
            "_view_module": "@jupyter-widgets/controls",
            "_view_module_version": "1.5.0",
            "_view_name": "ProgressView",
            "bar_style": "success",
            "description": "",
            "description_tooltip": null,
            "layout": "IPY_MODEL_e99fb5ef992c49bc87e5b20b9742aa50",
            "max": 8675,
            "min": 0,
            "orientation": "horizontal",
            "style": "IPY_MODEL_96813c5710114e4fa5eb5b255ebf8543",
            "value": 8675
          }
        },
        "a9e76577dcce4e10a8e8a9d6733d325c": {
          "model_module": "@jupyter-widgets/controls",
          "model_name": "HTMLModel",
          "model_module_version": "1.5.0",
          "state": {
            "_dom_classes": [],
            "_model_module": "@jupyter-widgets/controls",
            "_model_module_version": "1.5.0",
            "_model_name": "HTMLModel",
            "_view_count": null,
            "_view_module": "@jupyter-widgets/controls",
            "_view_module_version": "1.5.0",
            "_view_name": "HTMLView",
            "description": "",
            "description_tooltip": null,
            "layout": "IPY_MODEL_aacb1f5548f141998753ea27c490c5e2",
            "placeholder": "​",
            "style": "IPY_MODEL_b265806a950748cf8649eeacf7b1e979",
            "value": " 8675/8675 [00:21&lt;00:00, 576.85it/s]"
          }
        },
        "f14c4818a4b74be89ed5df4cc4fc96e9": {
          "model_module": "@jupyter-widgets/base",
          "model_name": "LayoutModel",
          "model_module_version": "1.2.0",
          "state": {
            "_model_module": "@jupyter-widgets/base",
            "_model_module_version": "1.2.0",
            "_model_name": "LayoutModel",
            "_view_count": null,
            "_view_module": "@jupyter-widgets/base",
            "_view_module_version": "1.2.0",
            "_view_name": "LayoutView",
            "align_content": null,
            "align_items": null,
            "align_self": null,
            "border": null,
            "bottom": null,
            "display": null,
            "flex": null,
            "flex_flow": null,
            "grid_area": null,
            "grid_auto_columns": null,
            "grid_auto_flow": null,
            "grid_auto_rows": null,
            "grid_column": null,
            "grid_gap": null,
            "grid_row": null,
            "grid_template_areas": null,
            "grid_template_columns": null,
            "grid_template_rows": null,
            "height": null,
            "justify_content": null,
            "justify_items": null,
            "left": null,
            "margin": null,
            "max_height": null,
            "max_width": null,
            "min_height": null,
            "min_width": null,
            "object_fit": null,
            "object_position": null,
            "order": null,
            "overflow": null,
            "overflow_x": null,
            "overflow_y": null,
            "padding": null,
            "right": null,
            "top": null,
            "visibility": null,
            "width": null
          }
        },
        "4bf81109a4fc43058a725e462534675a": {
          "model_module": "@jupyter-widgets/base",
          "model_name": "LayoutModel",
          "model_module_version": "1.2.0",
          "state": {
            "_model_module": "@jupyter-widgets/base",
            "_model_module_version": "1.2.0",
            "_model_name": "LayoutModel",
            "_view_count": null,
            "_view_module": "@jupyter-widgets/base",
            "_view_module_version": "1.2.0",
            "_view_name": "LayoutView",
            "align_content": null,
            "align_items": null,
            "align_self": null,
            "border": null,
            "bottom": null,
            "display": null,
            "flex": null,
            "flex_flow": null,
            "grid_area": null,
            "grid_auto_columns": null,
            "grid_auto_flow": null,
            "grid_auto_rows": null,
            "grid_column": null,
            "grid_gap": null,
            "grid_row": null,
            "grid_template_areas": null,
            "grid_template_columns": null,
            "grid_template_rows": null,
            "height": null,
            "justify_content": null,
            "justify_items": null,
            "left": null,
            "margin": null,
            "max_height": null,
            "max_width": null,
            "min_height": null,
            "min_width": null,
            "object_fit": null,
            "object_position": null,
            "order": null,
            "overflow": null,
            "overflow_x": null,
            "overflow_y": null,
            "padding": null,
            "right": null,
            "top": null,
            "visibility": null,
            "width": null
          }
        },
        "4b391beafd904fdd9f0ed7410f54c2f7": {
          "model_module": "@jupyter-widgets/controls",
          "model_name": "DescriptionStyleModel",
          "model_module_version": "1.5.0",
          "state": {
            "_model_module": "@jupyter-widgets/controls",
            "_model_module_version": "1.5.0",
            "_model_name": "DescriptionStyleModel",
            "_view_count": null,
            "_view_module": "@jupyter-widgets/base",
            "_view_module_version": "1.2.0",
            "_view_name": "StyleView",
            "description_width": ""
          }
        },
        "e99fb5ef992c49bc87e5b20b9742aa50": {
          "model_module": "@jupyter-widgets/base",
          "model_name": "LayoutModel",
          "model_module_version": "1.2.0",
          "state": {
            "_model_module": "@jupyter-widgets/base",
            "_model_module_version": "1.2.0",
            "_model_name": "LayoutModel",
            "_view_count": null,
            "_view_module": "@jupyter-widgets/base",
            "_view_module_version": "1.2.0",
            "_view_name": "LayoutView",
            "align_content": null,
            "align_items": null,
            "align_self": null,
            "border": null,
            "bottom": null,
            "display": null,
            "flex": null,
            "flex_flow": null,
            "grid_area": null,
            "grid_auto_columns": null,
            "grid_auto_flow": null,
            "grid_auto_rows": null,
            "grid_column": null,
            "grid_gap": null,
            "grid_row": null,
            "grid_template_areas": null,
            "grid_template_columns": null,
            "grid_template_rows": null,
            "height": null,
            "justify_content": null,
            "justify_items": null,
            "left": null,
            "margin": null,
            "max_height": null,
            "max_width": null,
            "min_height": null,
            "min_width": null,
            "object_fit": null,
            "object_position": null,
            "order": null,
            "overflow": null,
            "overflow_x": null,
            "overflow_y": null,
            "padding": null,
            "right": null,
            "top": null,
            "visibility": null,
            "width": null
          }
        },
        "96813c5710114e4fa5eb5b255ebf8543": {
          "model_module": "@jupyter-widgets/controls",
          "model_name": "ProgressStyleModel",
          "model_module_version": "1.5.0",
          "state": {
            "_model_module": "@jupyter-widgets/controls",
            "_model_module_version": "1.5.0",
            "_model_name": "ProgressStyleModel",
            "_view_count": null,
            "_view_module": "@jupyter-widgets/base",
            "_view_module_version": "1.2.0",
            "_view_name": "StyleView",
            "bar_color": null,
            "description_width": ""
          }
        },
        "aacb1f5548f141998753ea27c490c5e2": {
          "model_module": "@jupyter-widgets/base",
          "model_name": "LayoutModel",
          "model_module_version": "1.2.0",
          "state": {
            "_model_module": "@jupyter-widgets/base",
            "_model_module_version": "1.2.0",
            "_model_name": "LayoutModel",
            "_view_count": null,
            "_view_module": "@jupyter-widgets/base",
            "_view_module_version": "1.2.0",
            "_view_name": "LayoutView",
            "align_content": null,
            "align_items": null,
            "align_self": null,
            "border": null,
            "bottom": null,
            "display": null,
            "flex": null,
            "flex_flow": null,
            "grid_area": null,
            "grid_auto_columns": null,
            "grid_auto_flow": null,
            "grid_auto_rows": null,
            "grid_column": null,
            "grid_gap": null,
            "grid_row": null,
            "grid_template_areas": null,
            "grid_template_columns": null,
            "grid_template_rows": null,
            "height": null,
            "justify_content": null,
            "justify_items": null,
            "left": null,
            "margin": null,
            "max_height": null,
            "max_width": null,
            "min_height": null,
            "min_width": null,
            "object_fit": null,
            "object_position": null,
            "order": null,
            "overflow": null,
            "overflow_x": null,
            "overflow_y": null,
            "padding": null,
            "right": null,
            "top": null,
            "visibility": null,
            "width": null
          }
        },
        "b265806a950748cf8649eeacf7b1e979": {
          "model_module": "@jupyter-widgets/controls",
          "model_name": "DescriptionStyleModel",
          "model_module_version": "1.5.0",
          "state": {
            "_model_module": "@jupyter-widgets/controls",
            "_model_module_version": "1.5.0",
            "_model_name": "DescriptionStyleModel",
            "_view_count": null,
            "_view_module": "@jupyter-widgets/base",
            "_view_module_version": "1.2.0",
            "_view_name": "StyleView",
            "description_width": ""
          }
        },
        "d0ec3a58f898466aa8e431b1eb3871f6": {
          "model_module": "@jupyter-widgets/controls",
          "model_name": "HBoxModel",
          "model_module_version": "1.5.0",
          "state": {
            "_dom_classes": [],
            "_model_module": "@jupyter-widgets/controls",
            "_model_module_version": "1.5.0",
            "_model_name": "HBoxModel",
            "_view_count": null,
            "_view_module": "@jupyter-widgets/controls",
            "_view_module_version": "1.5.0",
            "_view_name": "HBoxView",
            "box_style": "",
            "children": [
              "IPY_MODEL_ef728a56f8214691a3d1b698b40bccc5",
              "IPY_MODEL_f2fbb31355a440d2a805341893915991",
              "IPY_MODEL_e29396d4b4644235bbd6e669725e76b8"
            ],
            "layout": "IPY_MODEL_3b1ce286269d43819a59a7409965bfbb"
          }
        },
        "ef728a56f8214691a3d1b698b40bccc5": {
          "model_module": "@jupyter-widgets/controls",
          "model_name": "HTMLModel",
          "model_module_version": "1.5.0",
          "state": {
            "_dom_classes": [],
            "_model_module": "@jupyter-widgets/controls",
            "_model_module_version": "1.5.0",
            "_model_name": "HTMLModel",
            "_view_count": null,
            "_view_module": "@jupyter-widgets/controls",
            "_view_module_version": "1.5.0",
            "_view_name": "HTMLView",
            "description": "",
            "description_tooltip": null,
            "layout": "IPY_MODEL_9114374edede49e7b5adc85a10288e83",
            "placeholder": "​",
            "style": "IPY_MODEL_79d9861ea7b840598c635dd17016eabd",
            "value": "100%"
          }
        },
        "f2fbb31355a440d2a805341893915991": {
          "model_module": "@jupyter-widgets/controls",
          "model_name": "FloatProgressModel",
          "model_module_version": "1.5.0",
          "state": {
            "_dom_classes": [],
            "_model_module": "@jupyter-widgets/controls",
            "_model_module_version": "1.5.0",
            "_model_name": "FloatProgressModel",
            "_view_count": null,
            "_view_module": "@jupyter-widgets/controls",
            "_view_module_version": "1.5.0",
            "_view_name": "ProgressView",
            "bar_style": "success",
            "description": "",
            "description_tooltip": null,
            "layout": "IPY_MODEL_93a70a6a8a9547ff9169edb8f88b87a3",
            "max": 6940,
            "min": 0,
            "orientation": "horizontal",
            "style": "IPY_MODEL_17ede8e05a80463cb054c3eb5b8487ba",
            "value": 6940
          }
        },
        "e29396d4b4644235bbd6e669725e76b8": {
          "model_module": "@jupyter-widgets/controls",
          "model_name": "HTMLModel",
          "model_module_version": "1.5.0",
          "state": {
            "_dom_classes": [],
            "_model_module": "@jupyter-widgets/controls",
            "_model_module_version": "1.5.0",
            "_model_name": "HTMLModel",
            "_view_count": null,
            "_view_module": "@jupyter-widgets/controls",
            "_view_module_version": "1.5.0",
            "_view_name": "HTMLView",
            "description": "",
            "description_tooltip": null,
            "layout": "IPY_MODEL_f69a3abaa90942629abe5e8a6ff948e7",
            "placeholder": "​",
            "style": "IPY_MODEL_8430f0639d184e2fbd9ceb80f7f176c6",
            "value": " 6940/6940 [04:28&lt;00:00, 28.52it/s]"
          }
        },
        "3b1ce286269d43819a59a7409965bfbb": {
          "model_module": "@jupyter-widgets/base",
          "model_name": "LayoutModel",
          "model_module_version": "1.2.0",
          "state": {
            "_model_module": "@jupyter-widgets/base",
            "_model_module_version": "1.2.0",
            "_model_name": "LayoutModel",
            "_view_count": null,
            "_view_module": "@jupyter-widgets/base",
            "_view_module_version": "1.2.0",
            "_view_name": "LayoutView",
            "align_content": null,
            "align_items": null,
            "align_self": null,
            "border": null,
            "bottom": null,
            "display": null,
            "flex": null,
            "flex_flow": null,
            "grid_area": null,
            "grid_auto_columns": null,
            "grid_auto_flow": null,
            "grid_auto_rows": null,
            "grid_column": null,
            "grid_gap": null,
            "grid_row": null,
            "grid_template_areas": null,
            "grid_template_columns": null,
            "grid_template_rows": null,
            "height": null,
            "justify_content": null,
            "justify_items": null,
            "left": null,
            "margin": null,
            "max_height": null,
            "max_width": null,
            "min_height": null,
            "min_width": null,
            "object_fit": null,
            "object_position": null,
            "order": null,
            "overflow": null,
            "overflow_x": null,
            "overflow_y": null,
            "padding": null,
            "right": null,
            "top": null,
            "visibility": null,
            "width": null
          }
        },
        "9114374edede49e7b5adc85a10288e83": {
          "model_module": "@jupyter-widgets/base",
          "model_name": "LayoutModel",
          "model_module_version": "1.2.0",
          "state": {
            "_model_module": "@jupyter-widgets/base",
            "_model_module_version": "1.2.0",
            "_model_name": "LayoutModel",
            "_view_count": null,
            "_view_module": "@jupyter-widgets/base",
            "_view_module_version": "1.2.0",
            "_view_name": "LayoutView",
            "align_content": null,
            "align_items": null,
            "align_self": null,
            "border": null,
            "bottom": null,
            "display": null,
            "flex": null,
            "flex_flow": null,
            "grid_area": null,
            "grid_auto_columns": null,
            "grid_auto_flow": null,
            "grid_auto_rows": null,
            "grid_column": null,
            "grid_gap": null,
            "grid_row": null,
            "grid_template_areas": null,
            "grid_template_columns": null,
            "grid_template_rows": null,
            "height": null,
            "justify_content": null,
            "justify_items": null,
            "left": null,
            "margin": null,
            "max_height": null,
            "max_width": null,
            "min_height": null,
            "min_width": null,
            "object_fit": null,
            "object_position": null,
            "order": null,
            "overflow": null,
            "overflow_x": null,
            "overflow_y": null,
            "padding": null,
            "right": null,
            "top": null,
            "visibility": null,
            "width": null
          }
        },
        "79d9861ea7b840598c635dd17016eabd": {
          "model_module": "@jupyter-widgets/controls",
          "model_name": "DescriptionStyleModel",
          "model_module_version": "1.5.0",
          "state": {
            "_model_module": "@jupyter-widgets/controls",
            "_model_module_version": "1.5.0",
            "_model_name": "DescriptionStyleModel",
            "_view_count": null,
            "_view_module": "@jupyter-widgets/base",
            "_view_module_version": "1.2.0",
            "_view_name": "StyleView",
            "description_width": ""
          }
        },
        "93a70a6a8a9547ff9169edb8f88b87a3": {
          "model_module": "@jupyter-widgets/base",
          "model_name": "LayoutModel",
          "model_module_version": "1.2.0",
          "state": {
            "_model_module": "@jupyter-widgets/base",
            "_model_module_version": "1.2.0",
            "_model_name": "LayoutModel",
            "_view_count": null,
            "_view_module": "@jupyter-widgets/base",
            "_view_module_version": "1.2.0",
            "_view_name": "LayoutView",
            "align_content": null,
            "align_items": null,
            "align_self": null,
            "border": null,
            "bottom": null,
            "display": null,
            "flex": null,
            "flex_flow": null,
            "grid_area": null,
            "grid_auto_columns": null,
            "grid_auto_flow": null,
            "grid_auto_rows": null,
            "grid_column": null,
            "grid_gap": null,
            "grid_row": null,
            "grid_template_areas": null,
            "grid_template_columns": null,
            "grid_template_rows": null,
            "height": null,
            "justify_content": null,
            "justify_items": null,
            "left": null,
            "margin": null,
            "max_height": null,
            "max_width": null,
            "min_height": null,
            "min_width": null,
            "object_fit": null,
            "object_position": null,
            "order": null,
            "overflow": null,
            "overflow_x": null,
            "overflow_y": null,
            "padding": null,
            "right": null,
            "top": null,
            "visibility": null,
            "width": null
          }
        },
        "17ede8e05a80463cb054c3eb5b8487ba": {
          "model_module": "@jupyter-widgets/controls",
          "model_name": "ProgressStyleModel",
          "model_module_version": "1.5.0",
          "state": {
            "_model_module": "@jupyter-widgets/controls",
            "_model_module_version": "1.5.0",
            "_model_name": "ProgressStyleModel",
            "_view_count": null,
            "_view_module": "@jupyter-widgets/base",
            "_view_module_version": "1.2.0",
            "_view_name": "StyleView",
            "bar_color": null,
            "description_width": ""
          }
        },
        "f69a3abaa90942629abe5e8a6ff948e7": {
          "model_module": "@jupyter-widgets/base",
          "model_name": "LayoutModel",
          "model_module_version": "1.2.0",
          "state": {
            "_model_module": "@jupyter-widgets/base",
            "_model_module_version": "1.2.0",
            "_model_name": "LayoutModel",
            "_view_count": null,
            "_view_module": "@jupyter-widgets/base",
            "_view_module_version": "1.2.0",
            "_view_name": "LayoutView",
            "align_content": null,
            "align_items": null,
            "align_self": null,
            "border": null,
            "bottom": null,
            "display": null,
            "flex": null,
            "flex_flow": null,
            "grid_area": null,
            "grid_auto_columns": null,
            "grid_auto_flow": null,
            "grid_auto_rows": null,
            "grid_column": null,
            "grid_gap": null,
            "grid_row": null,
            "grid_template_areas": null,
            "grid_template_columns": null,
            "grid_template_rows": null,
            "height": null,
            "justify_content": null,
            "justify_items": null,
            "left": null,
            "margin": null,
            "max_height": null,
            "max_width": null,
            "min_height": null,
            "min_width": null,
            "object_fit": null,
            "object_position": null,
            "order": null,
            "overflow": null,
            "overflow_x": null,
            "overflow_y": null,
            "padding": null,
            "right": null,
            "top": null,
            "visibility": null,
            "width": null
          }
        },
        "8430f0639d184e2fbd9ceb80f7f176c6": {
          "model_module": "@jupyter-widgets/controls",
          "model_name": "DescriptionStyleModel",
          "model_module_version": "1.5.0",
          "state": {
            "_model_module": "@jupyter-widgets/controls",
            "_model_module_version": "1.5.0",
            "_model_name": "DescriptionStyleModel",
            "_view_count": null,
            "_view_module": "@jupyter-widgets/base",
            "_view_module_version": "1.2.0",
            "_view_name": "StyleView",
            "description_width": ""
          }
        },
        "e6df180b09ee4ccf84bf087d87080433": {
          "model_module": "@jupyter-widgets/controls",
          "model_name": "HBoxModel",
          "model_module_version": "1.5.0",
          "state": {
            "_dom_classes": [],
            "_model_module": "@jupyter-widgets/controls",
            "_model_module_version": "1.5.0",
            "_model_name": "HBoxModel",
            "_view_count": null,
            "_view_module": "@jupyter-widgets/controls",
            "_view_module_version": "1.5.0",
            "_view_name": "HBoxView",
            "box_style": "",
            "children": [
              "IPY_MODEL_6657a1dd09f647b5a84e419b9737637e",
              "IPY_MODEL_e332af453a7643979bd53ff50483ff12",
              "IPY_MODEL_8ad7a88c37db4326a45829cd33933388"
            ],
            "layout": "IPY_MODEL_473591577e0b40c38ed1d51b110c72f7"
          }
        },
        "6657a1dd09f647b5a84e419b9737637e": {
          "model_module": "@jupyter-widgets/controls",
          "model_name": "HTMLModel",
          "model_module_version": "1.5.0",
          "state": {
            "_dom_classes": [],
            "_model_module": "@jupyter-widgets/controls",
            "_model_module_version": "1.5.0",
            "_model_name": "HTMLModel",
            "_view_count": null,
            "_view_module": "@jupyter-widgets/controls",
            "_view_module_version": "1.5.0",
            "_view_name": "HTMLView",
            "description": "",
            "description_tooltip": null,
            "layout": "IPY_MODEL_c091603f2c5443aaba3be7f2b5e0d842",
            "placeholder": "​",
            "style": "IPY_MODEL_fb3527ac2b7045d2afc2c1a160a9f10f",
            "value": "100%"
          }
        },
        "e332af453a7643979bd53ff50483ff12": {
          "model_module": "@jupyter-widgets/controls",
          "model_name": "FloatProgressModel",
          "model_module_version": "1.5.0",
          "state": {
            "_dom_classes": [],
            "_model_module": "@jupyter-widgets/controls",
            "_model_module_version": "1.5.0",
            "_model_name": "FloatProgressModel",
            "_view_count": null,
            "_view_module": "@jupyter-widgets/controls",
            "_view_module_version": "1.5.0",
            "_view_name": "ProgressView",
            "bar_style": "success",
            "description": "",
            "description_tooltip": null,
            "layout": "IPY_MODEL_a0cb7da46dda468493bf2487f35496ed",
            "max": 1735,
            "min": 0,
            "orientation": "horizontal",
            "style": "IPY_MODEL_eea17fcbeecd415da5b82826fac13034",
            "value": 1735
          }
        },
        "8ad7a88c37db4326a45829cd33933388": {
          "model_module": "@jupyter-widgets/controls",
          "model_name": "HTMLModel",
          "model_module_version": "1.5.0",
          "state": {
            "_dom_classes": [],
            "_model_module": "@jupyter-widgets/controls",
            "_model_module_version": "1.5.0",
            "_model_name": "HTMLModel",
            "_view_count": null,
            "_view_module": "@jupyter-widgets/controls",
            "_view_module_version": "1.5.0",
            "_view_name": "HTMLView",
            "description": "",
            "description_tooltip": null,
            "layout": "IPY_MODEL_43b4db4a43f64897a9467fca97c05d54",
            "placeholder": "​",
            "style": "IPY_MODEL_0a7fec47ff464793b5a4c4308faa25df",
            "value": " 1735/1735 [01:06&lt;00:00, 25.46it/s]"
          }
        },
        "473591577e0b40c38ed1d51b110c72f7": {
          "model_module": "@jupyter-widgets/base",
          "model_name": "LayoutModel",
          "model_module_version": "1.2.0",
          "state": {
            "_model_module": "@jupyter-widgets/base",
            "_model_module_version": "1.2.0",
            "_model_name": "LayoutModel",
            "_view_count": null,
            "_view_module": "@jupyter-widgets/base",
            "_view_module_version": "1.2.0",
            "_view_name": "LayoutView",
            "align_content": null,
            "align_items": null,
            "align_self": null,
            "border": null,
            "bottom": null,
            "display": null,
            "flex": null,
            "flex_flow": null,
            "grid_area": null,
            "grid_auto_columns": null,
            "grid_auto_flow": null,
            "grid_auto_rows": null,
            "grid_column": null,
            "grid_gap": null,
            "grid_row": null,
            "grid_template_areas": null,
            "grid_template_columns": null,
            "grid_template_rows": null,
            "height": null,
            "justify_content": null,
            "justify_items": null,
            "left": null,
            "margin": null,
            "max_height": null,
            "max_width": null,
            "min_height": null,
            "min_width": null,
            "object_fit": null,
            "object_position": null,
            "order": null,
            "overflow": null,
            "overflow_x": null,
            "overflow_y": null,
            "padding": null,
            "right": null,
            "top": null,
            "visibility": null,
            "width": null
          }
        },
        "c091603f2c5443aaba3be7f2b5e0d842": {
          "model_module": "@jupyter-widgets/base",
          "model_name": "LayoutModel",
          "model_module_version": "1.2.0",
          "state": {
            "_model_module": "@jupyter-widgets/base",
            "_model_module_version": "1.2.0",
            "_model_name": "LayoutModel",
            "_view_count": null,
            "_view_module": "@jupyter-widgets/base",
            "_view_module_version": "1.2.0",
            "_view_name": "LayoutView",
            "align_content": null,
            "align_items": null,
            "align_self": null,
            "border": null,
            "bottom": null,
            "display": null,
            "flex": null,
            "flex_flow": null,
            "grid_area": null,
            "grid_auto_columns": null,
            "grid_auto_flow": null,
            "grid_auto_rows": null,
            "grid_column": null,
            "grid_gap": null,
            "grid_row": null,
            "grid_template_areas": null,
            "grid_template_columns": null,
            "grid_template_rows": null,
            "height": null,
            "justify_content": null,
            "justify_items": null,
            "left": null,
            "margin": null,
            "max_height": null,
            "max_width": null,
            "min_height": null,
            "min_width": null,
            "object_fit": null,
            "object_position": null,
            "order": null,
            "overflow": null,
            "overflow_x": null,
            "overflow_y": null,
            "padding": null,
            "right": null,
            "top": null,
            "visibility": null,
            "width": null
          }
        },
        "fb3527ac2b7045d2afc2c1a160a9f10f": {
          "model_module": "@jupyter-widgets/controls",
          "model_name": "DescriptionStyleModel",
          "model_module_version": "1.5.0",
          "state": {
            "_model_module": "@jupyter-widgets/controls",
            "_model_module_version": "1.5.0",
            "_model_name": "DescriptionStyleModel",
            "_view_count": null,
            "_view_module": "@jupyter-widgets/base",
            "_view_module_version": "1.2.0",
            "_view_name": "StyleView",
            "description_width": ""
          }
        },
        "a0cb7da46dda468493bf2487f35496ed": {
          "model_module": "@jupyter-widgets/base",
          "model_name": "LayoutModel",
          "model_module_version": "1.2.0",
          "state": {
            "_model_module": "@jupyter-widgets/base",
            "_model_module_version": "1.2.0",
            "_model_name": "LayoutModel",
            "_view_count": null,
            "_view_module": "@jupyter-widgets/base",
            "_view_module_version": "1.2.0",
            "_view_name": "LayoutView",
            "align_content": null,
            "align_items": null,
            "align_self": null,
            "border": null,
            "bottom": null,
            "display": null,
            "flex": null,
            "flex_flow": null,
            "grid_area": null,
            "grid_auto_columns": null,
            "grid_auto_flow": null,
            "grid_auto_rows": null,
            "grid_column": null,
            "grid_gap": null,
            "grid_row": null,
            "grid_template_areas": null,
            "grid_template_columns": null,
            "grid_template_rows": null,
            "height": null,
            "justify_content": null,
            "justify_items": null,
            "left": null,
            "margin": null,
            "max_height": null,
            "max_width": null,
            "min_height": null,
            "min_width": null,
            "object_fit": null,
            "object_position": null,
            "order": null,
            "overflow": null,
            "overflow_x": null,
            "overflow_y": null,
            "padding": null,
            "right": null,
            "top": null,
            "visibility": null,
            "width": null
          }
        },
        "eea17fcbeecd415da5b82826fac13034": {
          "model_module": "@jupyter-widgets/controls",
          "model_name": "ProgressStyleModel",
          "model_module_version": "1.5.0",
          "state": {
            "_model_module": "@jupyter-widgets/controls",
            "_model_module_version": "1.5.0",
            "_model_name": "ProgressStyleModel",
            "_view_count": null,
            "_view_module": "@jupyter-widgets/base",
            "_view_module_version": "1.2.0",
            "_view_name": "StyleView",
            "bar_color": null,
            "description_width": ""
          }
        },
        "43b4db4a43f64897a9467fca97c05d54": {
          "model_module": "@jupyter-widgets/base",
          "model_name": "LayoutModel",
          "model_module_version": "1.2.0",
          "state": {
            "_model_module": "@jupyter-widgets/base",
            "_model_module_version": "1.2.0",
            "_model_name": "LayoutModel",
            "_view_count": null,
            "_view_module": "@jupyter-widgets/base",
            "_view_module_version": "1.2.0",
            "_view_name": "LayoutView",
            "align_content": null,
            "align_items": null,
            "align_self": null,
            "border": null,
            "bottom": null,
            "display": null,
            "flex": null,
            "flex_flow": null,
            "grid_area": null,
            "grid_auto_columns": null,
            "grid_auto_flow": null,
            "grid_auto_rows": null,
            "grid_column": null,
            "grid_gap": null,
            "grid_row": null,
            "grid_template_areas": null,
            "grid_template_columns": null,
            "grid_template_rows": null,
            "height": null,
            "justify_content": null,
            "justify_items": null,
            "left": null,
            "margin": null,
            "max_height": null,
            "max_width": null,
            "min_height": null,
            "min_width": null,
            "object_fit": null,
            "object_position": null,
            "order": null,
            "overflow": null,
            "overflow_x": null,
            "overflow_y": null,
            "padding": null,
            "right": null,
            "top": null,
            "visibility": null,
            "width": null
          }
        },
        "0a7fec47ff464793b5a4c4308faa25df": {
          "model_module": "@jupyter-widgets/controls",
          "model_name": "DescriptionStyleModel",
          "model_module_version": "1.5.0",
          "state": {
            "_model_module": "@jupyter-widgets/controls",
            "_model_module_version": "1.5.0",
            "_model_name": "DescriptionStyleModel",
            "_view_count": null,
            "_view_module": "@jupyter-widgets/base",
            "_view_module_version": "1.2.0",
            "_view_name": "StyleView",
            "description_width": ""
          }
        },
        "8c777c12e1b04aa59abdb9e62a16c6ca": {
          "model_module": "@jupyter-widgets/controls",
          "model_name": "HBoxModel",
          "model_module_version": "1.5.0",
          "state": {
            "_dom_classes": [],
            "_model_module": "@jupyter-widgets/controls",
            "_model_module_version": "1.5.0",
            "_model_name": "HBoxModel",
            "_view_count": null,
            "_view_module": "@jupyter-widgets/controls",
            "_view_module_version": "1.5.0",
            "_view_name": "HBoxView",
            "box_style": "",
            "children": [
              "IPY_MODEL_6d90a633c2234c339ed238f952092d6b",
              "IPY_MODEL_e1ec677b96054030aec35fd0ee9db9e2",
              "IPY_MODEL_23a85aa614404f36a93ee61afa1f3f63"
            ],
            "layout": "IPY_MODEL_b36922e1bb1e4d95b11d11a4d6e075e5"
          }
        },
        "6d90a633c2234c339ed238f952092d6b": {
          "model_module": "@jupyter-widgets/controls",
          "model_name": "HTMLModel",
          "model_module_version": "1.5.0",
          "state": {
            "_dom_classes": [],
            "_model_module": "@jupyter-widgets/controls",
            "_model_module_version": "1.5.0",
            "_model_name": "HTMLModel",
            "_view_count": null,
            "_view_module": "@jupyter-widgets/controls",
            "_view_module_version": "1.5.0",
            "_view_name": "HTMLView",
            "description": "",
            "description_tooltip": null,
            "layout": "IPY_MODEL_0b2a48cfa33747bf914b65bd8b2c7b4b",
            "placeholder": "​",
            "style": "IPY_MODEL_208d6ff78ca34305aa96af1dcbc0699b",
            "value": "Downloading: 100%"
          }
        },
        "e1ec677b96054030aec35fd0ee9db9e2": {
          "model_module": "@jupyter-widgets/controls",
          "model_name": "FloatProgressModel",
          "model_module_version": "1.5.0",
          "state": {
            "_dom_classes": [],
            "_model_module": "@jupyter-widgets/controls",
            "_model_module_version": "1.5.0",
            "_model_name": "FloatProgressModel",
            "_view_count": null,
            "_view_module": "@jupyter-widgets/controls",
            "_view_module_version": "1.5.0",
            "_view_name": "ProgressView",
            "bar_style": "success",
            "description": "",
            "description_tooltip": null,
            "layout": "IPY_MODEL_b478720af85f4011902f957c173ea35a",
            "max": 571,
            "min": 0,
            "orientation": "horizontal",
            "style": "IPY_MODEL_e97b8b4548774fa4a237b2c306b00404",
            "value": 571
          }
        },
        "23a85aa614404f36a93ee61afa1f3f63": {
          "model_module": "@jupyter-widgets/controls",
          "model_name": "HTMLModel",
          "model_module_version": "1.5.0",
          "state": {
            "_dom_classes": [],
            "_model_module": "@jupyter-widgets/controls",
            "_model_module_version": "1.5.0",
            "_model_name": "HTMLModel",
            "_view_count": null,
            "_view_module": "@jupyter-widgets/controls",
            "_view_module_version": "1.5.0",
            "_view_name": "HTMLView",
            "description": "",
            "description_tooltip": null,
            "layout": "IPY_MODEL_ed2ab3efd2cf4764bcc2519cbb70d75e",
            "placeholder": "​",
            "style": "IPY_MODEL_c702ad1ee47a4c50bf51ed08f8e54c20",
            "value": " 571/571 [00:00&lt;00:00, 16.7kB/s]"
          }
        },
        "b36922e1bb1e4d95b11d11a4d6e075e5": {
          "model_module": "@jupyter-widgets/base",
          "model_name": "LayoutModel",
          "model_module_version": "1.2.0",
          "state": {
            "_model_module": "@jupyter-widgets/base",
            "_model_module_version": "1.2.0",
            "_model_name": "LayoutModel",
            "_view_count": null,
            "_view_module": "@jupyter-widgets/base",
            "_view_module_version": "1.2.0",
            "_view_name": "LayoutView",
            "align_content": null,
            "align_items": null,
            "align_self": null,
            "border": null,
            "bottom": null,
            "display": null,
            "flex": null,
            "flex_flow": null,
            "grid_area": null,
            "grid_auto_columns": null,
            "grid_auto_flow": null,
            "grid_auto_rows": null,
            "grid_column": null,
            "grid_gap": null,
            "grid_row": null,
            "grid_template_areas": null,
            "grid_template_columns": null,
            "grid_template_rows": null,
            "height": null,
            "justify_content": null,
            "justify_items": null,
            "left": null,
            "margin": null,
            "max_height": null,
            "max_width": null,
            "min_height": null,
            "min_width": null,
            "object_fit": null,
            "object_position": null,
            "order": null,
            "overflow": null,
            "overflow_x": null,
            "overflow_y": null,
            "padding": null,
            "right": null,
            "top": null,
            "visibility": null,
            "width": null
          }
        },
        "0b2a48cfa33747bf914b65bd8b2c7b4b": {
          "model_module": "@jupyter-widgets/base",
          "model_name": "LayoutModel",
          "model_module_version": "1.2.0",
          "state": {
            "_model_module": "@jupyter-widgets/base",
            "_model_module_version": "1.2.0",
            "_model_name": "LayoutModel",
            "_view_count": null,
            "_view_module": "@jupyter-widgets/base",
            "_view_module_version": "1.2.0",
            "_view_name": "LayoutView",
            "align_content": null,
            "align_items": null,
            "align_self": null,
            "border": null,
            "bottom": null,
            "display": null,
            "flex": null,
            "flex_flow": null,
            "grid_area": null,
            "grid_auto_columns": null,
            "grid_auto_flow": null,
            "grid_auto_rows": null,
            "grid_column": null,
            "grid_gap": null,
            "grid_row": null,
            "grid_template_areas": null,
            "grid_template_columns": null,
            "grid_template_rows": null,
            "height": null,
            "justify_content": null,
            "justify_items": null,
            "left": null,
            "margin": null,
            "max_height": null,
            "max_width": null,
            "min_height": null,
            "min_width": null,
            "object_fit": null,
            "object_position": null,
            "order": null,
            "overflow": null,
            "overflow_x": null,
            "overflow_y": null,
            "padding": null,
            "right": null,
            "top": null,
            "visibility": null,
            "width": null
          }
        },
        "208d6ff78ca34305aa96af1dcbc0699b": {
          "model_module": "@jupyter-widgets/controls",
          "model_name": "DescriptionStyleModel",
          "model_module_version": "1.5.0",
          "state": {
            "_model_module": "@jupyter-widgets/controls",
            "_model_module_version": "1.5.0",
            "_model_name": "DescriptionStyleModel",
            "_view_count": null,
            "_view_module": "@jupyter-widgets/base",
            "_view_module_version": "1.2.0",
            "_view_name": "StyleView",
            "description_width": ""
          }
        },
        "b478720af85f4011902f957c173ea35a": {
          "model_module": "@jupyter-widgets/base",
          "model_name": "LayoutModel",
          "model_module_version": "1.2.0",
          "state": {
            "_model_module": "@jupyter-widgets/base",
            "_model_module_version": "1.2.0",
            "_model_name": "LayoutModel",
            "_view_count": null,
            "_view_module": "@jupyter-widgets/base",
            "_view_module_version": "1.2.0",
            "_view_name": "LayoutView",
            "align_content": null,
            "align_items": null,
            "align_self": null,
            "border": null,
            "bottom": null,
            "display": null,
            "flex": null,
            "flex_flow": null,
            "grid_area": null,
            "grid_auto_columns": null,
            "grid_auto_flow": null,
            "grid_auto_rows": null,
            "grid_column": null,
            "grid_gap": null,
            "grid_row": null,
            "grid_template_areas": null,
            "grid_template_columns": null,
            "grid_template_rows": null,
            "height": null,
            "justify_content": null,
            "justify_items": null,
            "left": null,
            "margin": null,
            "max_height": null,
            "max_width": null,
            "min_height": null,
            "min_width": null,
            "object_fit": null,
            "object_position": null,
            "order": null,
            "overflow": null,
            "overflow_x": null,
            "overflow_y": null,
            "padding": null,
            "right": null,
            "top": null,
            "visibility": null,
            "width": null
          }
        },
        "e97b8b4548774fa4a237b2c306b00404": {
          "model_module": "@jupyter-widgets/controls",
          "model_name": "ProgressStyleModel",
          "model_module_version": "1.5.0",
          "state": {
            "_model_module": "@jupyter-widgets/controls",
            "_model_module_version": "1.5.0",
            "_model_name": "ProgressStyleModel",
            "_view_count": null,
            "_view_module": "@jupyter-widgets/base",
            "_view_module_version": "1.2.0",
            "_view_name": "StyleView",
            "bar_color": null,
            "description_width": ""
          }
        },
        "ed2ab3efd2cf4764bcc2519cbb70d75e": {
          "model_module": "@jupyter-widgets/base",
          "model_name": "LayoutModel",
          "model_module_version": "1.2.0",
          "state": {
            "_model_module": "@jupyter-widgets/base",
            "_model_module_version": "1.2.0",
            "_model_name": "LayoutModel",
            "_view_count": null,
            "_view_module": "@jupyter-widgets/base",
            "_view_module_version": "1.2.0",
            "_view_name": "LayoutView",
            "align_content": null,
            "align_items": null,
            "align_self": null,
            "border": null,
            "bottom": null,
            "display": null,
            "flex": null,
            "flex_flow": null,
            "grid_area": null,
            "grid_auto_columns": null,
            "grid_auto_flow": null,
            "grid_auto_rows": null,
            "grid_column": null,
            "grid_gap": null,
            "grid_row": null,
            "grid_template_areas": null,
            "grid_template_columns": null,
            "grid_template_rows": null,
            "height": null,
            "justify_content": null,
            "justify_items": null,
            "left": null,
            "margin": null,
            "max_height": null,
            "max_width": null,
            "min_height": null,
            "min_width": null,
            "object_fit": null,
            "object_position": null,
            "order": null,
            "overflow": null,
            "overflow_x": null,
            "overflow_y": null,
            "padding": null,
            "right": null,
            "top": null,
            "visibility": null,
            "width": null
          }
        },
        "c702ad1ee47a4c50bf51ed08f8e54c20": {
          "model_module": "@jupyter-widgets/controls",
          "model_name": "DescriptionStyleModel",
          "model_module_version": "1.5.0",
          "state": {
            "_model_module": "@jupyter-widgets/controls",
            "_model_module_version": "1.5.0",
            "_model_name": "DescriptionStyleModel",
            "_view_count": null,
            "_view_module": "@jupyter-widgets/base",
            "_view_module_version": "1.2.0",
            "_view_name": "StyleView",
            "description_width": ""
          }
        },
        "4dd9932cb3e043528064f452e1941621": {
          "model_module": "@jupyter-widgets/controls",
          "model_name": "HBoxModel",
          "model_module_version": "1.5.0",
          "state": {
            "_dom_classes": [],
            "_model_module": "@jupyter-widgets/controls",
            "_model_module_version": "1.5.0",
            "_model_name": "HBoxModel",
            "_view_count": null,
            "_view_module": "@jupyter-widgets/controls",
            "_view_module_version": "1.5.0",
            "_view_name": "HBoxView",
            "box_style": "",
            "children": [
              "IPY_MODEL_c50d6cb205804f3fb8de0a9e73243f2a",
              "IPY_MODEL_0349c6235e6444b5ab5928fc4c84faca",
              "IPY_MODEL_b2b7b0395a5d4a7d872faaad04a34557"
            ],
            "layout": "IPY_MODEL_416007c684ad424b9a6e0531b93ba530"
          }
        },
        "c50d6cb205804f3fb8de0a9e73243f2a": {
          "model_module": "@jupyter-widgets/controls",
          "model_name": "HTMLModel",
          "model_module_version": "1.5.0",
          "state": {
            "_dom_classes": [],
            "_model_module": "@jupyter-widgets/controls",
            "_model_module_version": "1.5.0",
            "_model_name": "HTMLModel",
            "_view_count": null,
            "_view_module": "@jupyter-widgets/controls",
            "_view_module_version": "1.5.0",
            "_view_name": "HTMLView",
            "description": "",
            "description_tooltip": null,
            "layout": "IPY_MODEL_d50c60584b0f463baeaa464f6c71abd4",
            "placeholder": "​",
            "style": "IPY_MODEL_7015955ca4d14ecb9fcf32a079a6fa03",
            "value": "Downloading: 100%"
          }
        },
        "0349c6235e6444b5ab5928fc4c84faca": {
          "model_module": "@jupyter-widgets/controls",
          "model_name": "FloatProgressModel",
          "model_module_version": "1.5.0",
          "state": {
            "_dom_classes": [],
            "_model_module": "@jupyter-widgets/controls",
            "_model_module_version": "1.5.0",
            "_model_name": "FloatProgressModel",
            "_view_count": null,
            "_view_module": "@jupyter-widgets/controls",
            "_view_module_version": "1.5.0",
            "_view_name": "ProgressView",
            "bar_style": "success",
            "description": "",
            "description_tooltip": null,
            "layout": "IPY_MODEL_f9f31c3cc3db4b00855a4c380e2b4823",
            "max": 1472569832,
            "min": 0,
            "orientation": "horizontal",
            "style": "IPY_MODEL_f30b2dc1ee9c4623bf0cf761b4a5c93a",
            "value": 1472569832
          }
        },
        "b2b7b0395a5d4a7d872faaad04a34557": {
          "model_module": "@jupyter-widgets/controls",
          "model_name": "HTMLModel",
          "model_module_version": "1.5.0",
          "state": {
            "_dom_classes": [],
            "_model_module": "@jupyter-widgets/controls",
            "_model_module_version": "1.5.0",
            "_model_name": "HTMLModel",
            "_view_count": null,
            "_view_module": "@jupyter-widgets/controls",
            "_view_module_version": "1.5.0",
            "_view_name": "HTMLView",
            "description": "",
            "description_tooltip": null,
            "layout": "IPY_MODEL_0c53b912b17748edba413bcd10d84fd9",
            "placeholder": "​",
            "style": "IPY_MODEL_912c14d72f1f4e2f8d7eb497c18d520b",
            "value": " 1.37G/1.37G [00:52&lt;00:00, 47.3MB/s]"
          }
        },
        "416007c684ad424b9a6e0531b93ba530": {
          "model_module": "@jupyter-widgets/base",
          "model_name": "LayoutModel",
          "model_module_version": "1.2.0",
          "state": {
            "_model_module": "@jupyter-widgets/base",
            "_model_module_version": "1.2.0",
            "_model_name": "LayoutModel",
            "_view_count": null,
            "_view_module": "@jupyter-widgets/base",
            "_view_module_version": "1.2.0",
            "_view_name": "LayoutView",
            "align_content": null,
            "align_items": null,
            "align_self": null,
            "border": null,
            "bottom": null,
            "display": null,
            "flex": null,
            "flex_flow": null,
            "grid_area": null,
            "grid_auto_columns": null,
            "grid_auto_flow": null,
            "grid_auto_rows": null,
            "grid_column": null,
            "grid_gap": null,
            "grid_row": null,
            "grid_template_areas": null,
            "grid_template_columns": null,
            "grid_template_rows": null,
            "height": null,
            "justify_content": null,
            "justify_items": null,
            "left": null,
            "margin": null,
            "max_height": null,
            "max_width": null,
            "min_height": null,
            "min_width": null,
            "object_fit": null,
            "object_position": null,
            "order": null,
            "overflow": null,
            "overflow_x": null,
            "overflow_y": null,
            "padding": null,
            "right": null,
            "top": null,
            "visibility": null,
            "width": null
          }
        },
        "d50c60584b0f463baeaa464f6c71abd4": {
          "model_module": "@jupyter-widgets/base",
          "model_name": "LayoutModel",
          "model_module_version": "1.2.0",
          "state": {
            "_model_module": "@jupyter-widgets/base",
            "_model_module_version": "1.2.0",
            "_model_name": "LayoutModel",
            "_view_count": null,
            "_view_module": "@jupyter-widgets/base",
            "_view_module_version": "1.2.0",
            "_view_name": "LayoutView",
            "align_content": null,
            "align_items": null,
            "align_self": null,
            "border": null,
            "bottom": null,
            "display": null,
            "flex": null,
            "flex_flow": null,
            "grid_area": null,
            "grid_auto_columns": null,
            "grid_auto_flow": null,
            "grid_auto_rows": null,
            "grid_column": null,
            "grid_gap": null,
            "grid_row": null,
            "grid_template_areas": null,
            "grid_template_columns": null,
            "grid_template_rows": null,
            "height": null,
            "justify_content": null,
            "justify_items": null,
            "left": null,
            "margin": null,
            "max_height": null,
            "max_width": null,
            "min_height": null,
            "min_width": null,
            "object_fit": null,
            "object_position": null,
            "order": null,
            "overflow": null,
            "overflow_x": null,
            "overflow_y": null,
            "padding": null,
            "right": null,
            "top": null,
            "visibility": null,
            "width": null
          }
        },
        "7015955ca4d14ecb9fcf32a079a6fa03": {
          "model_module": "@jupyter-widgets/controls",
          "model_name": "DescriptionStyleModel",
          "model_module_version": "1.5.0",
          "state": {
            "_model_module": "@jupyter-widgets/controls",
            "_model_module_version": "1.5.0",
            "_model_name": "DescriptionStyleModel",
            "_view_count": null,
            "_view_module": "@jupyter-widgets/base",
            "_view_module_version": "1.2.0",
            "_view_name": "StyleView",
            "description_width": ""
          }
        },
        "f9f31c3cc3db4b00855a4c380e2b4823": {
          "model_module": "@jupyter-widgets/base",
          "model_name": "LayoutModel",
          "model_module_version": "1.2.0",
          "state": {
            "_model_module": "@jupyter-widgets/base",
            "_model_module_version": "1.2.0",
            "_model_name": "LayoutModel",
            "_view_count": null,
            "_view_module": "@jupyter-widgets/base",
            "_view_module_version": "1.2.0",
            "_view_name": "LayoutView",
            "align_content": null,
            "align_items": null,
            "align_self": null,
            "border": null,
            "bottom": null,
            "display": null,
            "flex": null,
            "flex_flow": null,
            "grid_area": null,
            "grid_auto_columns": null,
            "grid_auto_flow": null,
            "grid_auto_rows": null,
            "grid_column": null,
            "grid_gap": null,
            "grid_row": null,
            "grid_template_areas": null,
            "grid_template_columns": null,
            "grid_template_rows": null,
            "height": null,
            "justify_content": null,
            "justify_items": null,
            "left": null,
            "margin": null,
            "max_height": null,
            "max_width": null,
            "min_height": null,
            "min_width": null,
            "object_fit": null,
            "object_position": null,
            "order": null,
            "overflow": null,
            "overflow_x": null,
            "overflow_y": null,
            "padding": null,
            "right": null,
            "top": null,
            "visibility": null,
            "width": null
          }
        },
        "f30b2dc1ee9c4623bf0cf761b4a5c93a": {
          "model_module": "@jupyter-widgets/controls",
          "model_name": "ProgressStyleModel",
          "model_module_version": "1.5.0",
          "state": {
            "_model_module": "@jupyter-widgets/controls",
            "_model_module_version": "1.5.0",
            "_model_name": "ProgressStyleModel",
            "_view_count": null,
            "_view_module": "@jupyter-widgets/base",
            "_view_module_version": "1.2.0",
            "_view_name": "StyleView",
            "bar_color": null,
            "description_width": ""
          }
        },
        "0c53b912b17748edba413bcd10d84fd9": {
          "model_module": "@jupyter-widgets/base",
          "model_name": "LayoutModel",
          "model_module_version": "1.2.0",
          "state": {
            "_model_module": "@jupyter-widgets/base",
            "_model_module_version": "1.2.0",
            "_model_name": "LayoutModel",
            "_view_count": null,
            "_view_module": "@jupyter-widgets/base",
            "_view_module_version": "1.2.0",
            "_view_name": "LayoutView",
            "align_content": null,
            "align_items": null,
            "align_self": null,
            "border": null,
            "bottom": null,
            "display": null,
            "flex": null,
            "flex_flow": null,
            "grid_area": null,
            "grid_auto_columns": null,
            "grid_auto_flow": null,
            "grid_auto_rows": null,
            "grid_column": null,
            "grid_gap": null,
            "grid_row": null,
            "grid_template_areas": null,
            "grid_template_columns": null,
            "grid_template_rows": null,
            "height": null,
            "justify_content": null,
            "justify_items": null,
            "left": null,
            "margin": null,
            "max_height": null,
            "max_width": null,
            "min_height": null,
            "min_width": null,
            "object_fit": null,
            "object_position": null,
            "order": null,
            "overflow": null,
            "overflow_x": null,
            "overflow_y": null,
            "padding": null,
            "right": null,
            "top": null,
            "visibility": null,
            "width": null
          }
        },
        "912c14d72f1f4e2f8d7eb497c18d520b": {
          "model_module": "@jupyter-widgets/controls",
          "model_name": "DescriptionStyleModel",
          "model_module_version": "1.5.0",
          "state": {
            "_model_module": "@jupyter-widgets/controls",
            "_model_module_version": "1.5.0",
            "_model_name": "DescriptionStyleModel",
            "_view_count": null,
            "_view_module": "@jupyter-widgets/base",
            "_view_module_version": "1.2.0",
            "_view_name": "StyleView",
            "description_width": ""
          }
        },
        "3302b47e03cc468a9cde1aab91a73aa6": {
          "model_module": "@jupyter-widgets/controls",
          "model_name": "HBoxModel",
          "model_module_version": "1.5.0",
          "state": {
            "_dom_classes": [],
            "_model_module": "@jupyter-widgets/controls",
            "_model_module_version": "1.5.0",
            "_model_name": "HBoxModel",
            "_view_count": null,
            "_view_module": "@jupyter-widgets/controls",
            "_view_module_version": "1.5.0",
            "_view_name": "HBoxView",
            "box_style": "",
            "children": [
              "IPY_MODEL_8114e19a57c54e9f8b1b23178c20b6d5",
              "IPY_MODEL_e2f24c0f5d61444fb9f193e2de729489",
              "IPY_MODEL_b33b1ce9fdc24eac891f622344ea28ba"
            ],
            "layout": "IPY_MODEL_fde242ede8664cab8eb3646b537c0231"
          }
        },
        "8114e19a57c54e9f8b1b23178c20b6d5": {
          "model_module": "@jupyter-widgets/controls",
          "model_name": "HTMLModel",
          "model_module_version": "1.5.0",
          "state": {
            "_dom_classes": [],
            "_model_module": "@jupyter-widgets/controls",
            "_model_module_version": "1.5.0",
            "_model_name": "HTMLModel",
            "_view_count": null,
            "_view_module": "@jupyter-widgets/controls",
            "_view_module_version": "1.5.0",
            "_view_name": "HTMLView",
            "description": "",
            "description_tooltip": null,
            "layout": "IPY_MODEL_dbe791aadbd342c4ab3aa68b21125207",
            "placeholder": "​",
            "style": "IPY_MODEL_97f5a27352e34c7fb960216ea010e435",
            "value": "100%"
          }
        },
        "e2f24c0f5d61444fb9f193e2de729489": {
          "model_module": "@jupyter-widgets/controls",
          "model_name": "FloatProgressModel",
          "model_module_version": "1.5.0",
          "state": {
            "_dom_classes": [],
            "_model_module": "@jupyter-widgets/controls",
            "_model_module_version": "1.5.0",
            "_model_name": "FloatProgressModel",
            "_view_count": null,
            "_view_module": "@jupyter-widgets/controls",
            "_view_module_version": "1.5.0",
            "_view_name": "ProgressView",
            "bar_style": "success",
            "description": "",
            "description_tooltip": null,
            "layout": "IPY_MODEL_47a1c83908874c2bb79e467f3380e44d",
            "max": 1,
            "min": 0,
            "orientation": "horizontal",
            "style": "IPY_MODEL_ad1cba1c422048d983fe0cad3a0c9524",
            "value": 1
          }
        },
        "b33b1ce9fdc24eac891f622344ea28ba": {
          "model_module": "@jupyter-widgets/controls",
          "model_name": "HTMLModel",
          "model_module_version": "1.5.0",
          "state": {
            "_dom_classes": [],
            "_model_module": "@jupyter-widgets/controls",
            "_model_module_version": "1.5.0",
            "_model_name": "HTMLModel",
            "_view_count": null,
            "_view_module": "@jupyter-widgets/controls",
            "_view_module_version": "1.5.0",
            "_view_name": "HTMLView",
            "description": "",
            "description_tooltip": null,
            "layout": "IPY_MODEL_1615037f7cff446daaee82aae4e4f918",
            "placeholder": "​",
            "style": "IPY_MODEL_d115fa98e42f491ea5cb537fc6d62dce",
            "value": " 1/1 [00:00&lt;00:00, 14.76it/s]"
          }
        },
        "fde242ede8664cab8eb3646b537c0231": {
          "model_module": "@jupyter-widgets/base",
          "model_name": "LayoutModel",
          "model_module_version": "1.2.0",
          "state": {
            "_model_module": "@jupyter-widgets/base",
            "_model_module_version": "1.2.0",
            "_model_name": "LayoutModel",
            "_view_count": null,
            "_view_module": "@jupyter-widgets/base",
            "_view_module_version": "1.2.0",
            "_view_name": "LayoutView",
            "align_content": null,
            "align_items": null,
            "align_self": null,
            "border": null,
            "bottom": null,
            "display": null,
            "flex": null,
            "flex_flow": null,
            "grid_area": null,
            "grid_auto_columns": null,
            "grid_auto_flow": null,
            "grid_auto_rows": null,
            "grid_column": null,
            "grid_gap": null,
            "grid_row": null,
            "grid_template_areas": null,
            "grid_template_columns": null,
            "grid_template_rows": null,
            "height": null,
            "justify_content": null,
            "justify_items": null,
            "left": null,
            "margin": null,
            "max_height": null,
            "max_width": null,
            "min_height": null,
            "min_width": null,
            "object_fit": null,
            "object_position": null,
            "order": null,
            "overflow": null,
            "overflow_x": null,
            "overflow_y": null,
            "padding": null,
            "right": null,
            "top": null,
            "visibility": null,
            "width": null
          }
        },
        "dbe791aadbd342c4ab3aa68b21125207": {
          "model_module": "@jupyter-widgets/base",
          "model_name": "LayoutModel",
          "model_module_version": "1.2.0",
          "state": {
            "_model_module": "@jupyter-widgets/base",
            "_model_module_version": "1.2.0",
            "_model_name": "LayoutModel",
            "_view_count": null,
            "_view_module": "@jupyter-widgets/base",
            "_view_module_version": "1.2.0",
            "_view_name": "LayoutView",
            "align_content": null,
            "align_items": null,
            "align_self": null,
            "border": null,
            "bottom": null,
            "display": null,
            "flex": null,
            "flex_flow": null,
            "grid_area": null,
            "grid_auto_columns": null,
            "grid_auto_flow": null,
            "grid_auto_rows": null,
            "grid_column": null,
            "grid_gap": null,
            "grid_row": null,
            "grid_template_areas": null,
            "grid_template_columns": null,
            "grid_template_rows": null,
            "height": null,
            "justify_content": null,
            "justify_items": null,
            "left": null,
            "margin": null,
            "max_height": null,
            "max_width": null,
            "min_height": null,
            "min_width": null,
            "object_fit": null,
            "object_position": null,
            "order": null,
            "overflow": null,
            "overflow_x": null,
            "overflow_y": null,
            "padding": null,
            "right": null,
            "top": null,
            "visibility": null,
            "width": null
          }
        },
        "97f5a27352e34c7fb960216ea010e435": {
          "model_module": "@jupyter-widgets/controls",
          "model_name": "DescriptionStyleModel",
          "model_module_version": "1.5.0",
          "state": {
            "_model_module": "@jupyter-widgets/controls",
            "_model_module_version": "1.5.0",
            "_model_name": "DescriptionStyleModel",
            "_view_count": null,
            "_view_module": "@jupyter-widgets/base",
            "_view_module_version": "1.2.0",
            "_view_name": "StyleView",
            "description_width": ""
          }
        },
        "47a1c83908874c2bb79e467f3380e44d": {
          "model_module": "@jupyter-widgets/base",
          "model_name": "LayoutModel",
          "model_module_version": "1.2.0",
          "state": {
            "_model_module": "@jupyter-widgets/base",
            "_model_module_version": "1.2.0",
            "_model_name": "LayoutModel",
            "_view_count": null,
            "_view_module": "@jupyter-widgets/base",
            "_view_module_version": "1.2.0",
            "_view_name": "LayoutView",
            "align_content": null,
            "align_items": null,
            "align_self": null,
            "border": null,
            "bottom": null,
            "display": null,
            "flex": null,
            "flex_flow": null,
            "grid_area": null,
            "grid_auto_columns": null,
            "grid_auto_flow": null,
            "grid_auto_rows": null,
            "grid_column": null,
            "grid_gap": null,
            "grid_row": null,
            "grid_template_areas": null,
            "grid_template_columns": null,
            "grid_template_rows": null,
            "height": null,
            "justify_content": null,
            "justify_items": null,
            "left": null,
            "margin": null,
            "max_height": null,
            "max_width": null,
            "min_height": null,
            "min_width": null,
            "object_fit": null,
            "object_position": null,
            "order": null,
            "overflow": null,
            "overflow_x": null,
            "overflow_y": null,
            "padding": null,
            "right": null,
            "top": null,
            "visibility": null,
            "width": null
          }
        },
        "ad1cba1c422048d983fe0cad3a0c9524": {
          "model_module": "@jupyter-widgets/controls",
          "model_name": "ProgressStyleModel",
          "model_module_version": "1.5.0",
          "state": {
            "_model_module": "@jupyter-widgets/controls",
            "_model_module_version": "1.5.0",
            "_model_name": "ProgressStyleModel",
            "_view_count": null,
            "_view_module": "@jupyter-widgets/base",
            "_view_module_version": "1.2.0",
            "_view_name": "StyleView",
            "bar_color": null,
            "description_width": ""
          }
        },
        "1615037f7cff446daaee82aae4e4f918": {
          "model_module": "@jupyter-widgets/base",
          "model_name": "LayoutModel",
          "model_module_version": "1.2.0",
          "state": {
            "_model_module": "@jupyter-widgets/base",
            "_model_module_version": "1.2.0",
            "_model_name": "LayoutModel",
            "_view_count": null,
            "_view_module": "@jupyter-widgets/base",
            "_view_module_version": "1.2.0",
            "_view_name": "LayoutView",
            "align_content": null,
            "align_items": null,
            "align_self": null,
            "border": null,
            "bottom": null,
            "display": null,
            "flex": null,
            "flex_flow": null,
            "grid_area": null,
            "grid_auto_columns": null,
            "grid_auto_flow": null,
            "grid_auto_rows": null,
            "grid_column": null,
            "grid_gap": null,
            "grid_row": null,
            "grid_template_areas": null,
            "grid_template_columns": null,
            "grid_template_rows": null,
            "height": null,
            "justify_content": null,
            "justify_items": null,
            "left": null,
            "margin": null,
            "max_height": null,
            "max_width": null,
            "min_height": null,
            "min_width": null,
            "object_fit": null,
            "object_position": null,
            "order": null,
            "overflow": null,
            "overflow_x": null,
            "overflow_y": null,
            "padding": null,
            "right": null,
            "top": null,
            "visibility": null,
            "width": null
          }
        },
        "d115fa98e42f491ea5cb537fc6d62dce": {
          "model_module": "@jupyter-widgets/controls",
          "model_name": "DescriptionStyleModel",
          "model_module_version": "1.5.0",
          "state": {
            "_model_module": "@jupyter-widgets/controls",
            "_model_module_version": "1.5.0",
            "_model_name": "DescriptionStyleModel",
            "_view_count": null,
            "_view_module": "@jupyter-widgets/base",
            "_view_module_version": "1.2.0",
            "_view_name": "StyleView",
            "description_width": ""
          }
        }
      }
    }
  },
  "cells": [
    {
      "cell_type": "code",
      "execution_count": null,
      "metadata": {
        "colab": {
          "base_uri": "https://localhost:8080/",
          "height": 206
        },
        "id": "8R8_eWw4oh4a",
        "outputId": "efd5947b-e0d0-4dce-a808-23cc8477fdbb"
      },
      "outputs": [
        {
          "output_type": "execute_result",
          "data": {
            "text/plain": [
              "   type                                              posts\n",
              "0  INFJ  'http://www.youtube.com/watch?v=qsXHcwe3krw|||...\n",
              "1  ENTP  'I'm finding the lack of me in these posts ver...\n",
              "2  INTP  'Good one  _____   https://www.youtube.com/wat...\n",
              "3  INTJ  'Dear INTP,   I enjoyed our conversation the o...\n",
              "4  ENTJ  'You're fired.|||That's another silly misconce..."
            ],
            "text/html": [
              "\n",
              "  <div id=\"df-fc5898c9-b95b-4dcc-8297-877f665be2d3\">\n",
              "    <div class=\"colab-df-container\">\n",
              "      <div>\n",
              "<style scoped>\n",
              "    .dataframe tbody tr th:only-of-type {\n",
              "        vertical-align: middle;\n",
              "    }\n",
              "\n",
              "    .dataframe tbody tr th {\n",
              "        vertical-align: top;\n",
              "    }\n",
              "\n",
              "    .dataframe thead th {\n",
              "        text-align: right;\n",
              "    }\n",
              "</style>\n",
              "<table border=\"1\" class=\"dataframe\">\n",
              "  <thead>\n",
              "    <tr style=\"text-align: right;\">\n",
              "      <th></th>\n",
              "      <th>type</th>\n",
              "      <th>posts</th>\n",
              "    </tr>\n",
              "  </thead>\n",
              "  <tbody>\n",
              "    <tr>\n",
              "      <th>0</th>\n",
              "      <td>INFJ</td>\n",
              "      <td>'http://www.youtube.com/watch?v=qsXHcwe3krw|||...</td>\n",
              "    </tr>\n",
              "    <tr>\n",
              "      <th>1</th>\n",
              "      <td>ENTP</td>\n",
              "      <td>'I'm finding the lack of me in these posts ver...</td>\n",
              "    </tr>\n",
              "    <tr>\n",
              "      <th>2</th>\n",
              "      <td>INTP</td>\n",
              "      <td>'Good one  _____   https://www.youtube.com/wat...</td>\n",
              "    </tr>\n",
              "    <tr>\n",
              "      <th>3</th>\n",
              "      <td>INTJ</td>\n",
              "      <td>'Dear INTP,   I enjoyed our conversation the o...</td>\n",
              "    </tr>\n",
              "    <tr>\n",
              "      <th>4</th>\n",
              "      <td>ENTJ</td>\n",
              "      <td>'You're fired.|||That's another silly misconce...</td>\n",
              "    </tr>\n",
              "  </tbody>\n",
              "</table>\n",
              "</div>\n",
              "      <button class=\"colab-df-convert\" onclick=\"convertToInteractive('df-fc5898c9-b95b-4dcc-8297-877f665be2d3')\"\n",
              "              title=\"Convert this dataframe to an interactive table.\"\n",
              "              style=\"display:none;\">\n",
              "        \n",
              "  <svg xmlns=\"http://www.w3.org/2000/svg\" height=\"24px\"viewBox=\"0 0 24 24\"\n",
              "       width=\"24px\">\n",
              "    <path d=\"M0 0h24v24H0V0z\" fill=\"none\"/>\n",
              "    <path d=\"M18.56 5.44l.94 2.06.94-2.06 2.06-.94-2.06-.94-.94-2.06-.94 2.06-2.06.94zm-11 1L8.5 8.5l.94-2.06 2.06-.94-2.06-.94L8.5 2.5l-.94 2.06-2.06.94zm10 10l.94 2.06.94-2.06 2.06-.94-2.06-.94-.94-2.06-.94 2.06-2.06.94z\"/><path d=\"M17.41 7.96l-1.37-1.37c-.4-.4-.92-.59-1.43-.59-.52 0-1.04.2-1.43.59L10.3 9.45l-7.72 7.72c-.78.78-.78 2.05 0 2.83L4 21.41c.39.39.9.59 1.41.59.51 0 1.02-.2 1.41-.59l7.78-7.78 2.81-2.81c.8-.78.8-2.07 0-2.86zM5.41 20L4 18.59l7.72-7.72 1.47 1.35L5.41 20z\"/>\n",
              "  </svg>\n",
              "      </button>\n",
              "      \n",
              "  <style>\n",
              "    .colab-df-container {\n",
              "      display:flex;\n",
              "      flex-wrap:wrap;\n",
              "      gap: 12px;\n",
              "    }\n",
              "\n",
              "    .colab-df-convert {\n",
              "      background-color: #E8F0FE;\n",
              "      border: none;\n",
              "      border-radius: 50%;\n",
              "      cursor: pointer;\n",
              "      display: none;\n",
              "      fill: #1967D2;\n",
              "      height: 32px;\n",
              "      padding: 0 0 0 0;\n",
              "      width: 32px;\n",
              "    }\n",
              "\n",
              "    .colab-df-convert:hover {\n",
              "      background-color: #E2EBFA;\n",
              "      box-shadow: 0px 1px 2px rgba(60, 64, 67, 0.3), 0px 1px 3px 1px rgba(60, 64, 67, 0.15);\n",
              "      fill: #174EA6;\n",
              "    }\n",
              "\n",
              "    [theme=dark] .colab-df-convert {\n",
              "      background-color: #3B4455;\n",
              "      fill: #D2E3FC;\n",
              "    }\n",
              "\n",
              "    [theme=dark] .colab-df-convert:hover {\n",
              "      background-color: #434B5C;\n",
              "      box-shadow: 0px 1px 3px 1px rgba(0, 0, 0, 0.15);\n",
              "      filter: drop-shadow(0px 1px 2px rgba(0, 0, 0, 0.3));\n",
              "      fill: #FFFFFF;\n",
              "    }\n",
              "  </style>\n",
              "\n",
              "      <script>\n",
              "        const buttonEl =\n",
              "          document.querySelector('#df-fc5898c9-b95b-4dcc-8297-877f665be2d3 button.colab-df-convert');\n",
              "        buttonEl.style.display =\n",
              "          google.colab.kernel.accessAllowed ? 'block' : 'none';\n",
              "\n",
              "        async function convertToInteractive(key) {\n",
              "          const element = document.querySelector('#df-fc5898c9-b95b-4dcc-8297-877f665be2d3');\n",
              "          const dataTable =\n",
              "            await google.colab.kernel.invokeFunction('convertToInteractive',\n",
              "                                                     [key], {});\n",
              "          if (!dataTable) return;\n",
              "\n",
              "          const docLinkHtml = 'Like what you see? Visit the ' +\n",
              "            '<a target=\"_blank\" href=https://colab.research.google.com/notebooks/data_table.ipynb>data table notebook</a>'\n",
              "            + ' to learn more about interactive tables.';\n",
              "          element.innerHTML = '';\n",
              "          dataTable['output_type'] = 'display_data';\n",
              "          await google.colab.output.renderOutput(dataTable, element);\n",
              "          const docLink = document.createElement('div');\n",
              "          docLink.innerHTML = docLinkHtml;\n",
              "          element.appendChild(docLink);\n",
              "        }\n",
              "      </script>\n",
              "    </div>\n",
              "  </div>\n",
              "  "
            ]
          },
          "metadata": {},
          "execution_count": 76
        }
      ],
      "source": [
        "from tqdm.notebook import tqdm\n",
        "import numpy as np\n",
        "import pandas as pd\n",
        "import tensorflow as tf\n",
        "from tensorflow import keras\n",
        "import matplotlib.pyplot as plt\n",
        "from sklearn.metrics import accuracy_score\n",
        "from nltk.stem import WordNetLemmatizer\n",
        "from sklearn.model_selection import train_test_split\n",
        "import regex as re\n",
        "import seaborn as sns\n",
        "from keras import backend as K\n",
        "import plotly.express as px\n",
        "\n",
        "\n",
        "data=pd.read_csv('/content/mbti_1.csv')\n",
        "data.head()"
      ]
    },
    {
      "cell_type": "code",
      "source": [
        "data.shape"
      ],
      "metadata": {
        "colab": {
          "base_uri": "https://localhost:8080/"
        },
        "id": "810DVSbvMQLl",
        "outputId": "24e074f9-8471-467d-bb91-7cf5b7253711"
      },
      "execution_count": null,
      "outputs": [
        {
          "output_type": "execute_result",
          "data": {
            "text/plain": [
              "(8675, 2)"
            ]
          },
          "metadata": {},
          "execution_count": 77
        }
      ]
    },
    {
      "cell_type": "code",
      "source": [
        "mbti = {'I':'Introversion', 'E':'Extroversion', 'N':'Intuition', \n",
        "        'S':'Sensing', 'T':'Thinking', 'F': 'Feeling', \n",
        "        'J':'Judging', 'P': 'Perceiving'}"
      ],
      "metadata": {
        "id": "rGVLzdd_Ldqv"
      },
      "execution_count": null,
      "outputs": []
    },
    {
      "cell_type": "code",
      "source": [
        "#Check if TPU is available\n",
        "from __future__ import absolute_import\n",
        "from __future__ import division\n",
        "from __future__ import print_function\n",
        "\n",
        "from tensorflow.python.distribute.cluster_resolver.tpu.tpu_cluster_resolver import is_running_in_gce  # pylint: disable=unused-import\n",
        "from tensorflow.python.distribute.cluster_resolver.tpu.tpu_cluster_resolver import TPUClusterResolver\n",
        "from tensorflow.python.util.tf_export import tf_export\n",
        "\n",
        "\n",
        "use_tpu = True\n",
        "try:\n",
        "    tpu = tf.distribute.cluster_resolver.TPUClusterResolver()  # TPU detection\n",
        "    print('Running on TPU ', tpu.cluster_spec().as_dict()['worker'])\n",
        "except ValueError:\n",
        "    tpu = None\n",
        "\n",
        "if tpu:\n",
        "    tf.config.experimental_connect_to_cluster(tpu)\n",
        "    tf.tpu.experimental.initialize_tpu_system(tpu)\n",
        "    strategy = tf.distribute.experimental.TPUStrategy(tpu)\n",
        "else:\n",
        "    strategy = tf.distribute.MirroredStrategy()\n",
        "\n",
        "print(\"REPLICAS: \", strategy.num_replicas_in_sync)"
      ],
      "metadata": {
        "colab": {
          "base_uri": "https://localhost:8080/"
        },
        "id": "OnjuvUtw2usN",
        "outputId": "614020a9-8ff4-4a4e-b615-4aa6e8f3460a"
      },
      "execution_count": null,
      "outputs": [
        {
          "output_type": "stream",
          "name": "stdout",
          "text": [
            "Running on TPU  ['10.118.233.250:8470']\n",
            "INFO:tensorflow:Deallocate tpu buffers before initializing tpu system.\n"
          ]
        },
        {
          "output_type": "stream",
          "name": "stderr",
          "text": [
            "INFO:tensorflow:Deallocate tpu buffers before initializing tpu system.\n"
          ]
        },
        {
          "output_type": "stream",
          "name": "stdout",
          "text": [
            "WARNING:tensorflow:TPU system grpc://10.118.233.250:8470 has already been initialized. Reinitializing the TPU can cause previously created variables on TPU to be lost.\n"
          ]
        },
        {
          "output_type": "stream",
          "name": "stderr",
          "text": [
            "WARNING:tensorflow:TPU system grpc://10.118.233.250:8470 has already been initialized. Reinitializing the TPU can cause previously created variables on TPU to be lost.\n"
          ]
        },
        {
          "output_type": "stream",
          "name": "stdout",
          "text": [
            "INFO:tensorflow:Initializing the TPU system: grpc://10.118.233.250:8470\n"
          ]
        },
        {
          "output_type": "stream",
          "name": "stderr",
          "text": [
            "INFO:tensorflow:Initializing the TPU system: grpc://10.118.233.250:8470\n"
          ]
        },
        {
          "output_type": "stream",
          "name": "stdout",
          "text": [
            "INFO:tensorflow:Finished initializing TPU system.\n"
          ]
        },
        {
          "output_type": "stream",
          "name": "stderr",
          "text": [
            "INFO:tensorflow:Finished initializing TPU system.\n",
            "WARNING:absl:`tf.distribute.experimental.TPUStrategy` is deprecated, please use  the non experimental symbol `tf.distribute.TPUStrategy` instead.\n"
          ]
        },
        {
          "output_type": "stream",
          "name": "stdout",
          "text": [
            "INFO:tensorflow:Found TPU system:\n"
          ]
        },
        {
          "output_type": "stream",
          "name": "stderr",
          "text": [
            "INFO:tensorflow:Found TPU system:\n"
          ]
        },
        {
          "output_type": "stream",
          "name": "stdout",
          "text": [
            "INFO:tensorflow:*** Num TPU Cores: 8\n"
          ]
        },
        {
          "output_type": "stream",
          "name": "stderr",
          "text": [
            "INFO:tensorflow:*** Num TPU Cores: 8\n"
          ]
        },
        {
          "output_type": "stream",
          "name": "stdout",
          "text": [
            "INFO:tensorflow:*** Num TPU Workers: 1\n"
          ]
        },
        {
          "output_type": "stream",
          "name": "stderr",
          "text": [
            "INFO:tensorflow:*** Num TPU Workers: 1\n"
          ]
        },
        {
          "output_type": "stream",
          "name": "stdout",
          "text": [
            "INFO:tensorflow:*** Num TPU Cores Per Worker: 8\n"
          ]
        },
        {
          "output_type": "stream",
          "name": "stderr",
          "text": [
            "INFO:tensorflow:*** Num TPU Cores Per Worker: 8\n"
          ]
        },
        {
          "output_type": "stream",
          "name": "stdout",
          "text": [
            "INFO:tensorflow:*** Available Device: _DeviceAttributes(/job:localhost/replica:0/task:0/device:CPU:0, CPU, 0, 0)\n"
          ]
        },
        {
          "output_type": "stream",
          "name": "stderr",
          "text": [
            "INFO:tensorflow:*** Available Device: _DeviceAttributes(/job:localhost/replica:0/task:0/device:CPU:0, CPU, 0, 0)\n"
          ]
        },
        {
          "output_type": "stream",
          "name": "stdout",
          "text": [
            "INFO:tensorflow:*** Available Device: _DeviceAttributes(/job:worker/replica:0/task:0/device:CPU:0, CPU, 0, 0)\n"
          ]
        },
        {
          "output_type": "stream",
          "name": "stderr",
          "text": [
            "INFO:tensorflow:*** Available Device: _DeviceAttributes(/job:worker/replica:0/task:0/device:CPU:0, CPU, 0, 0)\n"
          ]
        },
        {
          "output_type": "stream",
          "name": "stdout",
          "text": [
            "INFO:tensorflow:*** Available Device: _DeviceAttributes(/job:worker/replica:0/task:0/device:TPU:0, TPU, 0, 0)\n"
          ]
        },
        {
          "output_type": "stream",
          "name": "stderr",
          "text": [
            "INFO:tensorflow:*** Available Device: _DeviceAttributes(/job:worker/replica:0/task:0/device:TPU:0, TPU, 0, 0)\n"
          ]
        },
        {
          "output_type": "stream",
          "name": "stdout",
          "text": [
            "INFO:tensorflow:*** Available Device: _DeviceAttributes(/job:worker/replica:0/task:0/device:TPU:1, TPU, 0, 0)\n"
          ]
        },
        {
          "output_type": "stream",
          "name": "stderr",
          "text": [
            "INFO:tensorflow:*** Available Device: _DeviceAttributes(/job:worker/replica:0/task:0/device:TPU:1, TPU, 0, 0)\n"
          ]
        },
        {
          "output_type": "stream",
          "name": "stdout",
          "text": [
            "INFO:tensorflow:*** Available Device: _DeviceAttributes(/job:worker/replica:0/task:0/device:TPU:2, TPU, 0, 0)\n"
          ]
        },
        {
          "output_type": "stream",
          "name": "stderr",
          "text": [
            "INFO:tensorflow:*** Available Device: _DeviceAttributes(/job:worker/replica:0/task:0/device:TPU:2, TPU, 0, 0)\n"
          ]
        },
        {
          "output_type": "stream",
          "name": "stdout",
          "text": [
            "INFO:tensorflow:*** Available Device: _DeviceAttributes(/job:worker/replica:0/task:0/device:TPU:3, TPU, 0, 0)\n"
          ]
        },
        {
          "output_type": "stream",
          "name": "stderr",
          "text": [
            "INFO:tensorflow:*** Available Device: _DeviceAttributes(/job:worker/replica:0/task:0/device:TPU:3, TPU, 0, 0)\n"
          ]
        },
        {
          "output_type": "stream",
          "name": "stdout",
          "text": [
            "INFO:tensorflow:*** Available Device: _DeviceAttributes(/job:worker/replica:0/task:0/device:TPU:4, TPU, 0, 0)\n"
          ]
        },
        {
          "output_type": "stream",
          "name": "stderr",
          "text": [
            "INFO:tensorflow:*** Available Device: _DeviceAttributes(/job:worker/replica:0/task:0/device:TPU:4, TPU, 0, 0)\n"
          ]
        },
        {
          "output_type": "stream",
          "name": "stdout",
          "text": [
            "INFO:tensorflow:*** Available Device: _DeviceAttributes(/job:worker/replica:0/task:0/device:TPU:5, TPU, 0, 0)\n"
          ]
        },
        {
          "output_type": "stream",
          "name": "stderr",
          "text": [
            "INFO:tensorflow:*** Available Device: _DeviceAttributes(/job:worker/replica:0/task:0/device:TPU:5, TPU, 0, 0)\n"
          ]
        },
        {
          "output_type": "stream",
          "name": "stdout",
          "text": [
            "INFO:tensorflow:*** Available Device: _DeviceAttributes(/job:worker/replica:0/task:0/device:TPU:6, TPU, 0, 0)\n"
          ]
        },
        {
          "output_type": "stream",
          "name": "stderr",
          "text": [
            "INFO:tensorflow:*** Available Device: _DeviceAttributes(/job:worker/replica:0/task:0/device:TPU:6, TPU, 0, 0)\n"
          ]
        },
        {
          "output_type": "stream",
          "name": "stdout",
          "text": [
            "INFO:tensorflow:*** Available Device: _DeviceAttributes(/job:worker/replica:0/task:0/device:TPU:7, TPU, 0, 0)\n"
          ]
        },
        {
          "output_type": "stream",
          "name": "stderr",
          "text": [
            "INFO:tensorflow:*** Available Device: _DeviceAttributes(/job:worker/replica:0/task:0/device:TPU:7, TPU, 0, 0)\n"
          ]
        },
        {
          "output_type": "stream",
          "name": "stdout",
          "text": [
            "INFO:tensorflow:*** Available Device: _DeviceAttributes(/job:worker/replica:0/task:0/device:TPU_SYSTEM:0, TPU_SYSTEM, 0, 0)\n"
          ]
        },
        {
          "output_type": "stream",
          "name": "stderr",
          "text": [
            "INFO:tensorflow:*** Available Device: _DeviceAttributes(/job:worker/replica:0/task:0/device:TPU_SYSTEM:0, TPU_SYSTEM, 0, 0)\n"
          ]
        },
        {
          "output_type": "stream",
          "name": "stdout",
          "text": [
            "INFO:tensorflow:*** Available Device: _DeviceAttributes(/job:worker/replica:0/task:0/device:XLA_CPU:0, XLA_CPU, 0, 0)\n"
          ]
        },
        {
          "output_type": "stream",
          "name": "stderr",
          "text": [
            "INFO:tensorflow:*** Available Device: _DeviceAttributes(/job:worker/replica:0/task:0/device:XLA_CPU:0, XLA_CPU, 0, 0)\n"
          ]
        },
        {
          "output_type": "stream",
          "name": "stdout",
          "text": [
            "REPLICAS:  8\n"
          ]
        }
      ]
    },
    {
      "cell_type": "code",
      "source": [
        "grouped_data = data.groupby(['type']).size().reset_index()\n",
        "grouped_data.columns = ['type','Count']\n",
        "grouped_data = grouped_data.sort_values('Count', ascending = False)\n",
        "fig = px.bar(grouped_data, x = 'type', y = 'Count', title = 'Distribution Of Each of the Personlity Types')\n",
        "fig.show()"
      ],
      "metadata": {
        "colab": {
          "base_uri": "https://localhost:8080/",
          "height": 542
        },
        "id": "uUKXBm9zMdr0",
        "outputId": "26550f0c-fbfe-4f46-de48-936bf7fdc9c1"
      },
      "execution_count": null,
      "outputs": [
        {
          "output_type": "display_data",
          "data": {
            "text/html": [
              "<html>\n",
              "<head><meta charset=\"utf-8\" /></head>\n",
              "<body>\n",
              "    <div>            <script src=\"https://cdnjs.cloudflare.com/ajax/libs/mathjax/2.7.5/MathJax.js?config=TeX-AMS-MML_SVG\"></script><script type=\"text/javascript\">if (window.MathJax) {MathJax.Hub.Config({SVG: {font: \"STIX-Web\"}});}</script>                <script type=\"text/javascript\">window.PlotlyConfig = {MathJaxConfig: 'local'};</script>\n",
              "        <script src=\"https://cdn.plot.ly/plotly-2.8.3.min.js\"></script>                <div id=\"8dc19713-86a9-4d27-9c2e-a86f8a69c9f8\" class=\"plotly-graph-div\" style=\"height:525px; width:100%;\"></div>            <script type=\"text/javascript\">                                    window.PLOTLYENV=window.PLOTLYENV || {};                                    if (document.getElementById(\"8dc19713-86a9-4d27-9c2e-a86f8a69c9f8\")) {                    Plotly.newPlot(                        \"8dc19713-86a9-4d27-9c2e-a86f8a69c9f8\",                        [{\"alignmentgroup\":\"True\",\"hovertemplate\":\"type=%{x}<br>Count=%{y}<extra></extra>\",\"legendgroup\":\"\",\"marker\":{\"color\":\"#636efa\",\"pattern\":{\"shape\":\"\"}},\"name\":\"\",\"offsetgroup\":\"\",\"orientation\":\"v\",\"showlegend\":false,\"textposition\":\"auto\",\"x\":[\"INFP\",\"INFJ\",\"INTP\",\"INTJ\",\"ENTP\",\"ENFP\",\"ISTP\",\"ISFP\",\"ENTJ\",\"ISTJ\",\"ENFJ\",\"ISFJ\",\"ESTP\",\"ESFP\",\"ESFJ\",\"ESTJ\"],\"xaxis\":\"x\",\"y\":[1832,1470,1304,1091,685,675,337,271,231,205,190,166,89,48,42,39],\"yaxis\":\"y\",\"type\":\"bar\"}],                        {\"template\":{\"data\":{\"bar\":[{\"error_x\":{\"color\":\"#2a3f5f\"},\"error_y\":{\"color\":\"#2a3f5f\"},\"marker\":{\"line\":{\"color\":\"#E5ECF6\",\"width\":0.5},\"pattern\":{\"fillmode\":\"overlay\",\"size\":10,\"solidity\":0.2}},\"type\":\"bar\"}],\"barpolar\":[{\"marker\":{\"line\":{\"color\":\"#E5ECF6\",\"width\":0.5},\"pattern\":{\"fillmode\":\"overlay\",\"size\":10,\"solidity\":0.2}},\"type\":\"barpolar\"}],\"carpet\":[{\"aaxis\":{\"endlinecolor\":\"#2a3f5f\",\"gridcolor\":\"white\",\"linecolor\":\"white\",\"minorgridcolor\":\"white\",\"startlinecolor\":\"#2a3f5f\"},\"baxis\":{\"endlinecolor\":\"#2a3f5f\",\"gridcolor\":\"white\",\"linecolor\":\"white\",\"minorgridcolor\":\"white\",\"startlinecolor\":\"#2a3f5f\"},\"type\":\"carpet\"}],\"choropleth\":[{\"colorbar\":{\"outlinewidth\":0,\"ticks\":\"\"},\"type\":\"choropleth\"}],\"contour\":[{\"colorbar\":{\"outlinewidth\":0,\"ticks\":\"\"},\"colorscale\":[[0.0,\"#0d0887\"],[0.1111111111111111,\"#46039f\"],[0.2222222222222222,\"#7201a8\"],[0.3333333333333333,\"#9c179e\"],[0.4444444444444444,\"#bd3786\"],[0.5555555555555556,\"#d8576b\"],[0.6666666666666666,\"#ed7953\"],[0.7777777777777778,\"#fb9f3a\"],[0.8888888888888888,\"#fdca26\"],[1.0,\"#f0f921\"]],\"type\":\"contour\"}],\"contourcarpet\":[{\"colorbar\":{\"outlinewidth\":0,\"ticks\":\"\"},\"type\":\"contourcarpet\"}],\"heatmap\":[{\"colorbar\":{\"outlinewidth\":0,\"ticks\":\"\"},\"colorscale\":[[0.0,\"#0d0887\"],[0.1111111111111111,\"#46039f\"],[0.2222222222222222,\"#7201a8\"],[0.3333333333333333,\"#9c179e\"],[0.4444444444444444,\"#bd3786\"],[0.5555555555555556,\"#d8576b\"],[0.6666666666666666,\"#ed7953\"],[0.7777777777777778,\"#fb9f3a\"],[0.8888888888888888,\"#fdca26\"],[1.0,\"#f0f921\"]],\"type\":\"heatmap\"}],\"heatmapgl\":[{\"colorbar\":{\"outlinewidth\":0,\"ticks\":\"\"},\"colorscale\":[[0.0,\"#0d0887\"],[0.1111111111111111,\"#46039f\"],[0.2222222222222222,\"#7201a8\"],[0.3333333333333333,\"#9c179e\"],[0.4444444444444444,\"#bd3786\"],[0.5555555555555556,\"#d8576b\"],[0.6666666666666666,\"#ed7953\"],[0.7777777777777778,\"#fb9f3a\"],[0.8888888888888888,\"#fdca26\"],[1.0,\"#f0f921\"]],\"type\":\"heatmapgl\"}],\"histogram\":[{\"marker\":{\"pattern\":{\"fillmode\":\"overlay\",\"size\":10,\"solidity\":0.2}},\"type\":\"histogram\"}],\"histogram2d\":[{\"colorbar\":{\"outlinewidth\":0,\"ticks\":\"\"},\"colorscale\":[[0.0,\"#0d0887\"],[0.1111111111111111,\"#46039f\"],[0.2222222222222222,\"#7201a8\"],[0.3333333333333333,\"#9c179e\"],[0.4444444444444444,\"#bd3786\"],[0.5555555555555556,\"#d8576b\"],[0.6666666666666666,\"#ed7953\"],[0.7777777777777778,\"#fb9f3a\"],[0.8888888888888888,\"#fdca26\"],[1.0,\"#f0f921\"]],\"type\":\"histogram2d\"}],\"histogram2dcontour\":[{\"colorbar\":{\"outlinewidth\":0,\"ticks\":\"\"},\"colorscale\":[[0.0,\"#0d0887\"],[0.1111111111111111,\"#46039f\"],[0.2222222222222222,\"#7201a8\"],[0.3333333333333333,\"#9c179e\"],[0.4444444444444444,\"#bd3786\"],[0.5555555555555556,\"#d8576b\"],[0.6666666666666666,\"#ed7953\"],[0.7777777777777778,\"#fb9f3a\"],[0.8888888888888888,\"#fdca26\"],[1.0,\"#f0f921\"]],\"type\":\"histogram2dcontour\"}],\"mesh3d\":[{\"colorbar\":{\"outlinewidth\":0,\"ticks\":\"\"},\"type\":\"mesh3d\"}],\"parcoords\":[{\"line\":{\"colorbar\":{\"outlinewidth\":0,\"ticks\":\"\"}},\"type\":\"parcoords\"}],\"pie\":[{\"automargin\":true,\"type\":\"pie\"}],\"scatter\":[{\"marker\":{\"colorbar\":{\"outlinewidth\":0,\"ticks\":\"\"}},\"type\":\"scatter\"}],\"scatter3d\":[{\"line\":{\"colorbar\":{\"outlinewidth\":0,\"ticks\":\"\"}},\"marker\":{\"colorbar\":{\"outlinewidth\":0,\"ticks\":\"\"}},\"type\":\"scatter3d\"}],\"scattercarpet\":[{\"marker\":{\"colorbar\":{\"outlinewidth\":0,\"ticks\":\"\"}},\"type\":\"scattercarpet\"}],\"scattergeo\":[{\"marker\":{\"colorbar\":{\"outlinewidth\":0,\"ticks\":\"\"}},\"type\":\"scattergeo\"}],\"scattergl\":[{\"marker\":{\"colorbar\":{\"outlinewidth\":0,\"ticks\":\"\"}},\"type\":\"scattergl\"}],\"scattermapbox\":[{\"marker\":{\"colorbar\":{\"outlinewidth\":0,\"ticks\":\"\"}},\"type\":\"scattermapbox\"}],\"scatterpolar\":[{\"marker\":{\"colorbar\":{\"outlinewidth\":0,\"ticks\":\"\"}},\"type\":\"scatterpolar\"}],\"scatterpolargl\":[{\"marker\":{\"colorbar\":{\"outlinewidth\":0,\"ticks\":\"\"}},\"type\":\"scatterpolargl\"}],\"scatterternary\":[{\"marker\":{\"colorbar\":{\"outlinewidth\":0,\"ticks\":\"\"}},\"type\":\"scatterternary\"}],\"surface\":[{\"colorbar\":{\"outlinewidth\":0,\"ticks\":\"\"},\"colorscale\":[[0.0,\"#0d0887\"],[0.1111111111111111,\"#46039f\"],[0.2222222222222222,\"#7201a8\"],[0.3333333333333333,\"#9c179e\"],[0.4444444444444444,\"#bd3786\"],[0.5555555555555556,\"#d8576b\"],[0.6666666666666666,\"#ed7953\"],[0.7777777777777778,\"#fb9f3a\"],[0.8888888888888888,\"#fdca26\"],[1.0,\"#f0f921\"]],\"type\":\"surface\"}],\"table\":[{\"cells\":{\"fill\":{\"color\":\"#EBF0F8\"},\"line\":{\"color\":\"white\"}},\"header\":{\"fill\":{\"color\":\"#C8D4E3\"},\"line\":{\"color\":\"white\"}},\"type\":\"table\"}]},\"layout\":{\"annotationdefaults\":{\"arrowcolor\":\"#2a3f5f\",\"arrowhead\":0,\"arrowwidth\":1},\"autotypenumbers\":\"strict\",\"coloraxis\":{\"colorbar\":{\"outlinewidth\":0,\"ticks\":\"\"}},\"colorscale\":{\"diverging\":[[0,\"#8e0152\"],[0.1,\"#c51b7d\"],[0.2,\"#de77ae\"],[0.3,\"#f1b6da\"],[0.4,\"#fde0ef\"],[0.5,\"#f7f7f7\"],[0.6,\"#e6f5d0\"],[0.7,\"#b8e186\"],[0.8,\"#7fbc41\"],[0.9,\"#4d9221\"],[1,\"#276419\"]],\"sequential\":[[0.0,\"#0d0887\"],[0.1111111111111111,\"#46039f\"],[0.2222222222222222,\"#7201a8\"],[0.3333333333333333,\"#9c179e\"],[0.4444444444444444,\"#bd3786\"],[0.5555555555555556,\"#d8576b\"],[0.6666666666666666,\"#ed7953\"],[0.7777777777777778,\"#fb9f3a\"],[0.8888888888888888,\"#fdca26\"],[1.0,\"#f0f921\"]],\"sequentialminus\":[[0.0,\"#0d0887\"],[0.1111111111111111,\"#46039f\"],[0.2222222222222222,\"#7201a8\"],[0.3333333333333333,\"#9c179e\"],[0.4444444444444444,\"#bd3786\"],[0.5555555555555556,\"#d8576b\"],[0.6666666666666666,\"#ed7953\"],[0.7777777777777778,\"#fb9f3a\"],[0.8888888888888888,\"#fdca26\"],[1.0,\"#f0f921\"]]},\"colorway\":[\"#636efa\",\"#EF553B\",\"#00cc96\",\"#ab63fa\",\"#FFA15A\",\"#19d3f3\",\"#FF6692\",\"#B6E880\",\"#FF97FF\",\"#FECB52\"],\"font\":{\"color\":\"#2a3f5f\"},\"geo\":{\"bgcolor\":\"white\",\"lakecolor\":\"white\",\"landcolor\":\"#E5ECF6\",\"showlakes\":true,\"showland\":true,\"subunitcolor\":\"white\"},\"hoverlabel\":{\"align\":\"left\"},\"hovermode\":\"closest\",\"mapbox\":{\"style\":\"light\"},\"paper_bgcolor\":\"white\",\"plot_bgcolor\":\"#E5ECF6\",\"polar\":{\"angularaxis\":{\"gridcolor\":\"white\",\"linecolor\":\"white\",\"ticks\":\"\"},\"bgcolor\":\"#E5ECF6\",\"radialaxis\":{\"gridcolor\":\"white\",\"linecolor\":\"white\",\"ticks\":\"\"}},\"scene\":{\"xaxis\":{\"backgroundcolor\":\"#E5ECF6\",\"gridcolor\":\"white\",\"gridwidth\":2,\"linecolor\":\"white\",\"showbackground\":true,\"ticks\":\"\",\"zerolinecolor\":\"white\"},\"yaxis\":{\"backgroundcolor\":\"#E5ECF6\",\"gridcolor\":\"white\",\"gridwidth\":2,\"linecolor\":\"white\",\"showbackground\":true,\"ticks\":\"\",\"zerolinecolor\":\"white\"},\"zaxis\":{\"backgroundcolor\":\"#E5ECF6\",\"gridcolor\":\"white\",\"gridwidth\":2,\"linecolor\":\"white\",\"showbackground\":true,\"ticks\":\"\",\"zerolinecolor\":\"white\"}},\"shapedefaults\":{\"line\":{\"color\":\"#2a3f5f\"}},\"ternary\":{\"aaxis\":{\"gridcolor\":\"white\",\"linecolor\":\"white\",\"ticks\":\"\"},\"baxis\":{\"gridcolor\":\"white\",\"linecolor\":\"white\",\"ticks\":\"\"},\"bgcolor\":\"#E5ECF6\",\"caxis\":{\"gridcolor\":\"white\",\"linecolor\":\"white\",\"ticks\":\"\"}},\"title\":{\"x\":0.05},\"xaxis\":{\"automargin\":true,\"gridcolor\":\"white\",\"linecolor\":\"white\",\"ticks\":\"\",\"title\":{\"standoff\":15},\"zerolinecolor\":\"white\",\"zerolinewidth\":2},\"yaxis\":{\"automargin\":true,\"gridcolor\":\"white\",\"linecolor\":\"white\",\"ticks\":\"\",\"title\":{\"standoff\":15},\"zerolinecolor\":\"white\",\"zerolinewidth\":2}}},\"xaxis\":{\"anchor\":\"y\",\"domain\":[0.0,1.0],\"title\":{\"text\":\"type\"}},\"yaxis\":{\"anchor\":\"x\",\"domain\":[0.0,1.0],\"title\":{\"text\":\"Count\"}},\"legend\":{\"tracegroupgap\":0},\"title\":{\"text\":\"Distribution Of Each of the Personlity Types\"},\"barmode\":\"relative\"},                        {\"responsive\": true}                    ).then(function(){\n",
              "                            \n",
              "var gd = document.getElementById('8dc19713-86a9-4d27-9c2e-a86f8a69c9f8');\n",
              "var x = new MutationObserver(function (mutations, observer) {{\n",
              "        var display = window.getComputedStyle(gd).display;\n",
              "        if (!display || display === 'none') {{\n",
              "            console.log([gd, 'removed!']);\n",
              "            Plotly.purge(gd);\n",
              "            observer.disconnect();\n",
              "        }}\n",
              "}});\n",
              "\n",
              "// Listen for the removal of the full notebook cells\n",
              "var notebookContainer = gd.closest('#notebook-container');\n",
              "if (notebookContainer) {{\n",
              "    x.observe(notebookContainer, {childList: true});\n",
              "}}\n",
              "\n",
              "// Listen for the clearing of the current output cell\n",
              "var outputEl = gd.closest('.output');\n",
              "if (outputEl) {{\n",
              "    x.observe(outputEl, {childList: true});\n",
              "}}\n",
              "\n",
              "                        })                };                            </script>        </div>\n",
              "</body>\n",
              "</html>"
            ]
          },
          "metadata": {}
        }
      ]
    },
    {
      "cell_type": "code",
      "source": [
        "px.pie(data,names='type',title='Distribution of personality types',hole=0.3)"
      ],
      "metadata": {
        "colab": {
          "base_uri": "https://localhost:8080/",
          "height": 542
        },
        "id": "fNm-uiKKreSS",
        "outputId": "513f4826-db1c-4c71-e0e2-75702aed0576"
      },
      "execution_count": null,
      "outputs": [
        {
          "output_type": "display_data",
          "data": {
            "text/html": [
              "<html>\n",
              "<head><meta charset=\"utf-8\" /></head>\n",
              "<body>\n",
              "    <div>            <script src=\"https://cdnjs.cloudflare.com/ajax/libs/mathjax/2.7.5/MathJax.js?config=TeX-AMS-MML_SVG\"></script><script type=\"text/javascript\">if (window.MathJax) {MathJax.Hub.Config({SVG: {font: \"STIX-Web\"}});}</script>                <script type=\"text/javascript\">window.PlotlyConfig = {MathJaxConfig: 'local'};</script>\n",
              "        <script src=\"https://cdn.plot.ly/plotly-2.8.3.min.js\"></script>                <div id=\"e76d0ad3-2be5-4053-a5ae-05bcae322cd8\" class=\"plotly-graph-div\" style=\"height:525px; width:100%;\"></div>            <script type=\"text/javascript\">                                    window.PLOTLYENV=window.PLOTLYENV || {};                                    if (document.getElementById(\"e76d0ad3-2be5-4053-a5ae-05bcae322cd8\")) {                    Plotly.newPlot(                        \"e76d0ad3-2be5-4053-a5ae-05bcae322cd8\",                        [{\"domain\":{\"x\":[0.0,1.0],\"y\":[0.0,1.0]},\"hole\":0.3,\"hovertemplate\":\"type=%{label}<extra></extra>\",\"labels\":[\"INFJ\",\"ENTP\",\"INTP\",\"INTJ\",\"ENTJ\",\"INTJ\",\"INFJ\",\"INTJ\",\"INFJ\",\"INTP\",\"INFJ\",\"ENFJ\",\"INFJ\",\"INTJ\",\"INTP\",\"INTP\",\"INFJ\",\"INFP\",\"INFJ\",\"INFP\",\"INTP\",\"INFJ\",\"ENTJ\",\"INFP\",\"ENTJ\",\"INFP\",\"ENFP\",\"ISFP\",\"INFP\",\"INFJ\",\"INFP\",\"INFJ\",\"INTP\",\"INFJ\",\"ENFJ\",\"INFJ\",\"INTJ\",\"INFP\",\"ENFP\",\"ENTJ\",\"ISTP\",\"INFJ\",\"INTP\",\"INFP\",\"INTJ\",\"INTP\",\"ENTJ\",\"INFP\",\"ISFJ\",\"INTJ\",\"INTP\",\"INFP\",\"ISFJ\",\"INTP\",\"INFP\",\"INFP\",\"INFP\",\"ENFJ\",\"INTP\",\"INTJ\",\"INFJ\",\"INTP\",\"INFP\",\"INFP\",\"ENTP\",\"INTP\",\"ISFP\",\"ENFJ\",\"INFJ\",\"ENFJ\",\"INFJ\",\"INFP\",\"ENFP\",\"ISTP\",\"INFJ\",\"INTP\",\"INTJ\",\"INTJ\",\"INTJ\",\"INFP\",\"INFP\",\"INFJ\",\"ENTP\",\"ENTJ\",\"INFP\",\"INTP\",\"INFP\",\"ISFJ\",\"ISTJ\",\"INTP\",\"ENTP\",\"INTP\",\"ISFP\",\"ENFJ\",\"INFJ\",\"INFP\",\"INFJ\",\"INTJ\",\"INFJ\",\"ENFP\",\"INFP\",\"INFP\",\"ENFP\",\"INFJ\",\"ISTP\",\"INFJ\",\"ISTJ\",\"ENFJ\",\"INTP\",\"INTJ\",\"ENTP\",\"INFP\",\"INFP\",\"ESTP\",\"ISTP\",\"ENFP\",\"ENTP\",\"INTP\",\"INFJ\",\"ENFP\",\"ENTP\",\"INTP\",\"INFJ\",\"ISTP\",\"INTP\",\"INTJ\",\"ENTP\",\"INFJ\",\"INFJ\",\"INFJ\",\"ENTJ\",\"ISFJ\",\"INFP\",\"INFJ\",\"INTP\",\"INFJ\",\"INFP\",\"INTP\",\"INFP\",\"ISFP\",\"INTP\",\"INFP\",\"ENFP\",\"ENFP\",\"ENTP\",\"INFJ\",\"INFJ\",\"ENTP\",\"INFP\",\"INFP\",\"INTP\",\"INFJ\",\"ENFP\",\"ENFP\",\"INTP\",\"ENTP\",\"INTJ\",\"INTP\",\"ENTP\",\"ENFP\",\"ESTP\",\"INTJ\",\"INTP\",\"ENTP\",\"INFP\",\"INFJ\",\"INFJ\",\"INTJ\",\"ENFP\",\"INTJ\",\"INTJ\",\"INTP\",\"ISFJ\",\"INTP\",\"ISTP\",\"INTP\",\"INTP\",\"INTP\",\"INTP\",\"INFP\",\"ENTP\",\"INFP\",\"INTP\",\"INTJ\",\"ENTP\",\"INFJ\",\"INTJ\",\"INTP\",\"ISTP\",\"ISTJ\",\"INFP\",\"INTJ\",\"ENFP\",\"INFP\",\"INTP\",\"INTJ\",\"INTJ\",\"INFP\",\"INTP\",\"INTP\",\"ESFP\",\"INTJ\",\"ISFP\",\"INFJ\",\"INTJ\",\"INTJ\",\"INTP\",\"INTP\",\"INFP\",\"ENFP\",\"INFP\",\"INFP\",\"INFP\",\"INFP\",\"INTP\",\"INTP\",\"INFP\",\"INFP\",\"INFP\",\"INFJ\",\"ENFP\",\"INTJ\",\"INFJ\",\"INFJ\",\"ENTP\",\"INTP\",\"INTP\",\"INFP\",\"INFP\",\"INFJ\",\"INTP\",\"INFP\",\"INTP\",\"INFP\",\"INFJ\",\"ENFJ\",\"ISTP\",\"INTJ\",\"INFP\",\"ISFP\",\"ENTJ\",\"ENTP\",\"ISFP\",\"ENFP\",\"INFP\",\"ENFP\",\"ENTP\",\"INFP\",\"INFP\",\"ISFP\",\"INFP\",\"INFJ\",\"ENTP\",\"INFP\",\"ISTP\",\"INTJ\",\"INTP\",\"INFJ\",\"ISTJ\",\"INTJ\",\"INFP\",\"INFJ\",\"INTJ\",\"ENFJ\",\"INFP\",\"INFP\",\"ISTJ\",\"ISTJ\",\"ISFP\",\"INFP\",\"INFJ\",\"INFP\",\"INTP\",\"INFP\",\"INTP\",\"INTJ\",\"INTJ\",\"INFJ\",\"INFP\",\"INTP\",\"INTJ\",\"ENFP\",\"INFP\",\"INTP\",\"ENTJ\",\"INTJ\",\"INFJ\",\"INFP\",\"ENTJ\",\"INTP\",\"INTP\",\"INFP\",\"INTP\",\"ENTP\",\"INTJ\",\"INTP\",\"INTJ\",\"INFP\",\"INFJ\",\"INFJ\",\"INFP\",\"ENFP\",\"INTP\",\"ISTP\",\"INTJ\",\"ENFP\",\"ENFP\",\"ENTP\",\"INTP\",\"INFJ\",\"INTJ\",\"INFP\",\"ENFP\",\"ENFJ\",\"ENTP\",\"ISFP\",\"INFP\",\"INFP\",\"INFP\",\"INTJ\",\"ENTP\",\"ENTP\",\"INTP\",\"INTP\",\"INFJ\",\"INFJ\",\"INTP\",\"ENFP\",\"INFP\",\"INTJ\",\"INTJ\",\"INFP\",\"INFP\",\"INFP\",\"ISFP\",\"ISFJ\",\"INFP\",\"INTP\",\"INFP\",\"INTJ\",\"INTJ\",\"ENTP\",\"ENFJ\",\"ISFJ\",\"INTP\",\"ISFP\",\"ESTP\",\"INFP\",\"INTP\",\"INTJ\",\"INFP\",\"INTJ\",\"INFP\",\"INFP\",\"INFJ\",\"INFP\",\"ENTP\",\"INTP\",\"INTP\",\"INFJ\",\"ENFP\",\"INTJ\",\"ENTP\",\"ENFP\",\"INFJ\",\"ISTJ\",\"INFP\",\"INFP\",\"INFP\",\"INTJ\",\"INTJ\",\"INFP\",\"INFJ\",\"INFP\",\"INFP\",\"ENTP\",\"INTJ\",\"INFP\",\"INTJ\",\"INTJ\",\"INFP\",\"ENFP\",\"ISTP\",\"INFP\",\"ISFP\",\"INFP\",\"ENFP\",\"ENTJ\",\"ENFP\",\"INFJ\",\"INFJ\",\"ISFP\",\"INFP\",\"INTP\",\"ESTP\",\"ENTP\",\"ENFP\",\"INFP\",\"INFP\",\"INFJ\",\"INTJ\",\"ISFP\",\"INFJ\",\"ISFP\",\"INFP\",\"ENFP\",\"INTP\",\"INFP\",\"INFJ\",\"ENFP\",\"INFP\",\"INFJ\",\"INTP\",\"INFJ\",\"INFJ\",\"ISFJ\",\"INFJ\",\"INFP\",\"INFJ\",\"INFP\",\"INTP\",\"ENTP\",\"INTP\",\"INFJ\",\"INFJ\",\"INTJ\",\"INFP\",\"INFP\",\"ENFP\",\"INFP\",\"ESFP\",\"ISTP\",\"INFP\",\"INTP\",\"INFJ\",\"ENFJ\",\"INFP\",\"ENTP\",\"INTJ\",\"INFJ\",\"INFJ\",\"INTP\",\"ISTP\",\"ENFP\",\"ENFP\",\"ENFP\",\"ENFJ\",\"ESTP\",\"INFJ\",\"INTJ\",\"ENTP\",\"INFP\",\"INFP\",\"INTP\",\"INFP\",\"INTJ\",\"ENTP\",\"INTP\",\"ISTJ\",\"INTJ\",\"INTJ\",\"INTJ\",\"ENFP\",\"ISTP\",\"INTJ\",\"INFJ\",\"INFJ\",\"INFP\",\"INFJ\",\"INFP\",\"ENFP\",\"ENTP\",\"INFJ\",\"INFP\",\"ISTP\",\"INFJ\",\"ESTP\",\"ENFP\",\"ISTP\",\"INFP\",\"INFJ\",\"INFP\",\"INTJ\",\"ENFP\",\"INFJ\",\"INTP\",\"INTJ\",\"INTP\",\"ENFP\",\"INFP\",\"ENTJ\",\"INTP\",\"INFP\",\"INTP\",\"INTP\",\"INFP\",\"INFJ\",\"ENTP\",\"INFJ\",\"INTJ\",\"INTJ\",\"INFJ\",\"ENTP\",\"INTJ\",\"INFP\",\"INTP\",\"INFP\",\"ISFP\",\"ISFP\",\"ISTP\",\"INTP\",\"INTJ\",\"INFJ\",\"ENTJ\",\"INTJ\",\"INFJ\",\"ENFJ\",\"INTJ\",\"INFJ\",\"ENTJ\",\"INTP\",\"INTJ\",\"INTJ\",\"ISTP\",\"INFJ\",\"INFP\",\"INFP\",\"INTP\",\"INTP\",\"ESFP\",\"INFJ\",\"INTP\",\"INFJ\",\"ISFJ\",\"ENTJ\",\"INFP\",\"ENTP\",\"INFP\",\"ENFJ\",\"INFP\",\"INFP\",\"ENFP\",\"INFP\",\"ISFJ\",\"INTJ\",\"INFJ\",\"ESTJ\",\"INFJ\",\"INTP\",\"INFP\",\"ISFJ\",\"INFJ\",\"ENTP\",\"ENTJ\",\"ENTP\",\"INTJ\",\"INFP\",\"INFP\",\"INFJ\",\"INTJ\",\"INTJ\",\"INTP\",\"INTJ\",\"INFJ\",\"INFP\",\"ENTP\",\"ENTJ\",\"ISTP\",\"INFP\",\"ENFP\",\"ISTP\",\"INTP\",\"INFP\",\"INFJ\",\"INFJ\",\"ENTP\",\"INFJ\",\"INTP\",\"INTJ\",\"INFP\",\"INFP\",\"INFJ\",\"ENFP\",\"ISFP\",\"INFJ\",\"INTJ\",\"INTP\",\"ENTP\",\"ENFJ\",\"ENTP\",\"INTJ\",\"INFP\",\"ENFP\",\"ESTP\",\"INFP\",\"ESTJ\",\"INFP\",\"ENFP\",\"INFJ\",\"INFP\",\"INFP\",\"INTJ\",\"INFJ\",\"INFP\",\"INTP\",\"INFP\",\"INTJ\",\"ISTP\",\"INFP\",\"INFJ\",\"INFP\",\"INTP\",\"INTP\",\"ENFJ\",\"INFP\",\"INFJ\",\"ENTP\",\"ESFP\",\"INTP\",\"INFP\",\"INFJ\",\"ISTP\",\"INTJ\",\"INFJ\",\"ENFP\",\"INFJ\",\"INFP\",\"ESFJ\",\"INFP\",\"INFJ\",\"ISTJ\",\"INTP\",\"INFP\",\"ISFJ\",\"ESFP\",\"ISTP\",\"ENFP\",\"INTJ\",\"ISTP\",\"ENTP\",\"ENTP\",\"INFP\",\"INTJ\",\"ENFP\",\"INFP\",\"INTJ\",\"INTJ\",\"ENTP\",\"INFP\",\"INFP\",\"ENFP\",\"ENFP\",\"INTP\",\"INFJ\",\"INTP\",\"INFP\",\"INFJ\",\"INTJ\",\"ENTP\",\"INFJ\",\"INTP\",\"INTP\",\"INFJ\",\"INFP\",\"INTP\",\"ISTP\",\"ENTP\",\"INFP\",\"INFP\",\"INTP\",\"ISTP\",\"INTP\",\"INFP\",\"INFP\",\"ENTP\",\"INFP\",\"INFJ\",\"ENTP\",\"ISTP\",\"INFP\",\"INFP\",\"INTJ\",\"ENTJ\",\"ESFJ\",\"ENFP\",\"INFP\",\"INFJ\",\"INFP\",\"INFJ\",\"INFJ\",\"ESFP\",\"INFP\",\"INTJ\",\"ENTP\",\"ENTP\",\"INFP\",\"INTP\",\"INFP\",\"ISTJ\",\"INFP\",\"ENTP\",\"INFJ\",\"ENFP\",\"ENFJ\",\"INTJ\",\"ENTP\",\"INTP\",\"INFP\",\"INFP\",\"ENFP\",\"INFJ\",\"INTJ\",\"INTJ\",\"INFP\",\"INFJ\",\"INFJ\",\"INTJ\",\"INTJ\",\"INTP\",\"INFJ\",\"INFJ\",\"INFP\",\"INFJ\",\"INTJ\",\"INTP\",\"INFJ\",\"INFP\",\"INTJ\",\"INTJ\",\"INTP\",\"INTP\",\"ISFP\",\"ESFP\",\"INFJ\",\"ISFP\",\"INTP\",\"ISTP\",\"ENTJ\",\"ENFP\",\"ENTP\",\"INTJ\",\"INFP\",\"ISFP\",\"ESTP\",\"ISTP\",\"INFP\",\"INFJ\",\"ENFJ\",\"INTP\",\"ENFP\",\"INTP\",\"ISTP\",\"INFJ\",\"INFP\",\"INTP\",\"INFJ\",\"INTJ\",\"INFJ\",\"INFJ\",\"INFJ\",\"ENTJ\",\"ISTP\",\"INFP\",\"INFJ\",\"ESTJ\",\"INFJ\",\"INTP\",\"INFP\",\"INFP\",\"INFP\",\"INTP\",\"ENFP\",\"INFP\",\"ENTP\",\"ENFP\",\"ENFJ\",\"ISTP\",\"INFP\",\"INTJ\",\"INTP\",\"ISTP\",\"INTJ\",\"INFP\",\"ISFJ\",\"INFP\",\"INTP\",\"ENFJ\",\"INFJ\",\"ENFP\",\"INTP\",\"INTJ\",\"INFJ\",\"ENTP\",\"ENFP\",\"INFP\",\"INTJ\",\"INFP\",\"INTJ\",\"INTP\",\"ENTJ\",\"INTP\",\"INTP\",\"INFJ\",\"INFJ\",\"INFJ\",\"INTP\",\"ENTP\",\"INFJ\",\"ISTP\",\"INFP\",\"ESTP\",\"INTJ\",\"ENTP\",\"INFP\",\"ESFJ\",\"INFJ\",\"INTP\",\"INFJ\",\"INTJ\",\"ENTJ\",\"ISTP\",\"INFJ\",\"INFJ\",\"ISTP\",\"INTP\",\"ENTP\",\"INFP\",\"ENFP\",\"ENTJ\",\"INTP\",\"ENTJ\",\"INTP\",\"ISTP\",\"INFP\",\"ENTJ\",\"INTJ\",\"INFP\",\"INFP\",\"ENTP\",\"ENFJ\",\"INTJ\",\"INTP\",\"INTP\",\"INTP\",\"INTP\",\"INFP\",\"ENTJ\",\"INTP\",\"INTP\",\"INTJ\",\"INTJ\",\"INTJ\",\"INTJ\",\"INFP\",\"ESTP\",\"INTP\",\"INFP\",\"INFJ\",\"ISTP\",\"INTP\",\"INFP\",\"INFP\",\"INFJ\",\"INTJ\",\"INTP\",\"INFJ\",\"ENFP\",\"ENTJ\",\"INTP\",\"INTJ\",\"INTP\",\"ISTP\",\"INFP\",\"INFP\",\"INFP\",\"ENTP\",\"INFP\",\"INTJ\",\"INFP\",\"INTJ\",\"INFJ\",\"INFP\",\"INTJ\",\"INFP\",\"ENFP\",\"ESTP\",\"ISFP\",\"INTP\",\"ENFP\",\"INTJ\",\"INFP\",\"INTP\",\"INFP\",\"INTP\",\"INFJ\",\"INTP\",\"INFJ\",\"INFP\",\"ISTP\",\"INTJ\",\"INFJ\",\"INTP\",\"INTP\",\"INTP\",\"INTJ\",\"INFP\",\"INFJ\",\"INTP\",\"ENTP\",\"INFP\",\"INFP\",\"INFJ\",\"INFP\",\"INFP\",\"ESFJ\",\"INFP\",\"INTJ\",\"INFP\",\"ENFP\",\"INFP\",\"INFP\",\"INFP\",\"ENTP\",\"ISTP\",\"INFJ\",\"INFP\",\"ISFP\",\"INFP\",\"ISTP\",\"INFJ\",\"ENFJ\",\"INTJ\",\"INFJ\",\"INFP\",\"INFP\",\"ENTP\",\"INFJ\",\"INFP\",\"INFP\",\"INTP\",\"ISTP\",\"INTJ\",\"INFP\",\"ISTJ\",\"INFJ\",\"INTJ\",\"INFP\",\"ISFJ\",\"INFJ\",\"INTP\",\"INFP\",\"INTJ\",\"INFP\",\"ISFP\",\"INFP\",\"ENTJ\",\"INFP\",\"INTJ\",\"INFJ\",\"ISFP\",\"ENFP\",\"INFJ\",\"ISFJ\",\"INFJ\",\"INTP\",\"INFP\",\"ENFP\",\"INFP\",\"INFP\",\"ENFP\",\"INFP\",\"INTP\",\"INFP\",\"ENFP\",\"ENFP\",\"INTP\",\"INFP\",\"INTP\",\"INTJ\",\"INTJ\",\"ENTP\",\"ENTP\",\"INFP\",\"ENTP\",\"INTP\",\"ENTP\",\"ENFJ\",\"ISFP\",\"INFP\",\"ENTP\",\"INFJ\",\"INTP\",\"ISTP\",\"INTJ\",\"INFP\",\"ENFP\",\"ENTP\",\"INFP\",\"ENTJ\",\"ISTJ\",\"ISFJ\",\"INTJ\",\"INFJ\",\"INTJ\",\"INFP\",\"INTJ\",\"INTJ\",\"ISTP\",\"INFJ\",\"INFJ\",\"INFP\",\"INTJ\",\"INFP\",\"ENFP\",\"INFP\",\"INFP\",\"INFP\",\"ENFJ\",\"INTJ\",\"INFJ\",\"INFP\",\"INFP\",\"ENTP\",\"ENTP\",\"INFP\",\"INTP\",\"ISTP\",\"INFP\",\"ENTP\",\"ENFP\",\"INTJ\",\"ISFP\",\"ENTP\",\"INFP\",\"INFP\",\"INFJ\",\"INTJ\",\"ENFP\",\"INTP\",\"ENFP\",\"INTP\",\"INTJ\",\"INTP\",\"INTJ\",\"INFJ\",\"INFP\",\"INTJ\",\"ENFP\",\"ENTP\",\"ISTJ\",\"ISFP\",\"INFJ\",\"ISFJ\",\"ENFJ\",\"INFP\",\"ISTP\",\"INFJ\",\"ENTP\",\"ENTP\",\"ISTP\",\"ISFP\",\"ISFJ\",\"ISFP\",\"ISTJ\",\"INFP\",\"INFP\",\"ENFP\",\"ISFP\",\"INFP\",\"INFP\",\"ISTP\",\"INTP\",\"INFP\",\"INTJ\",\"INFJ\",\"ENFP\",\"INTP\",\"ENFJ\",\"INFP\",\"INFP\",\"INFP\",\"INFP\",\"ENTP\",\"ENTP\",\"INFJ\",\"INFP\",\"INFP\",\"INTJ\",\"ISFP\",\"ISTJ\",\"ENFP\",\"INFP\",\"ENTP\",\"ENFJ\",\"INFP\",\"INFP\",\"INFP\",\"INFP\",\"INFJ\",\"INTJ\",\"INFP\",\"INFJ\",\"INTP\",\"ISTP\",\"INFP\",\"INFJ\",\"INTP\",\"INFJ\",\"INFP\",\"INTP\",\"INFJ\",\"INTP\",\"ESTJ\",\"ENTP\",\"INFJ\",\"ENTJ\",\"INTJ\",\"INTJ\",\"ISTP\",\"ISTP\",\"ENTP\",\"INFJ\",\"INFP\",\"ENFP\",\"INTP\",\"INTP\",\"INFJ\",\"ISFJ\",\"ISTJ\",\"INFJ\",\"INFJ\",\"INFP\",\"INFP\",\"ENTP\",\"ESFP\",\"INTJ\",\"INTJ\",\"INFJ\",\"INTP\",\"ISFP\",\"INFJ\",\"ISTJ\",\"INTJ\",\"INFP\",\"ENTP\",\"INTP\",\"INTJ\",\"INFP\",\"ENFP\",\"INTP\",\"INFP\",\"INFP\",\"INFP\",\"INFJ\",\"ISFJ\",\"ISFJ\",\"INFP\",\"INFP\",\"INTJ\",\"ENFP\",\"ISFP\",\"ENTJ\",\"INTP\",\"ENTP\",\"INTJ\",\"INFP\",\"ISTJ\",\"INFP\",\"INFP\",\"INFP\",\"INTJ\",\"INTP\",\"ISTP\",\"ENFP\",\"INTJ\",\"INTJ\",\"ISFP\",\"ENTP\",\"INFJ\",\"INFP\",\"INTP\",\"ENTP\",\"INFP\",\"INFP\",\"ISFP\",\"ENFP\",\"INTP\",\"ENFP\",\"INFP\",\"INFP\",\"INTJ\",\"INFP\",\"ESTP\",\"INTJ\",\"INFP\",\"INFJ\",\"INTJ\",\"INFJ\",\"INFP\",\"ENTP\",\"INTP\",\"ISTJ\",\"INFP\",\"ENFP\",\"ENTP\",\"INFJ\",\"ISTJ\",\"ESTP\",\"INTJ\",\"ENTP\",\"INFJ\",\"ESTP\",\"ENFP\",\"INTJ\",\"ENTP\",\"ENTP\",\"ISTJ\",\"ENTP\",\"ESFP\",\"INFP\",\"ENTP\",\"ENFJ\",\"INFJ\",\"INFP\",\"ENFP\",\"INTJ\",\"INFP\",\"ESFJ\",\"INFP\",\"INTJ\",\"INFJ\",\"INTJ\",\"INTJ\",\"INFP\",\"ENTP\",\"INTJ\",\"ENFP\",\"INFJ\",\"INFP\",\"ISFP\",\"ESTJ\",\"INFP\",\"ENFP\",\"INTP\",\"INTJ\",\"INTJ\",\"INFP\",\"ENTJ\",\"ENFP\",\"ENFJ\",\"INFP\",\"ISFP\",\"INTP\",\"INFP\",\"INFJ\",\"ENFP\",\"INTJ\",\"INFP\",\"INFP\",\"INFJ\",\"INFJ\",\"ENTP\",\"INFJ\",\"INTP\",\"ENTP\",\"INFP\",\"ENFP\",\"ENTJ\",\"ISFJ\",\"INFJ\",\"INTP\",\"INFP\",\"INTP\",\"INFP\",\"INTJ\",\"INTJ\",\"INFJ\",\"INFJ\",\"ENTP\",\"ESTP\",\"ISTP\",\"ENTP\",\"INFJ\",\"INTP\",\"INFJ\",\"ENTP\",\"INTJ\",\"ENTP\",\"INTJ\",\"INTP\",\"ISTP\",\"INTP\",\"INFJ\",\"ENFP\",\"ISTJ\",\"INTP\",\"INFP\",\"INFJ\",\"INFJ\",\"INFJ\",\"INFP\",\"INFJ\",\"INFP\",\"ESTP\",\"INFJ\",\"INFP\",\"ISFJ\",\"INFP\",\"ENTP\",\"ENTP\",\"INFP\",\"INFP\",\"ENFP\",\"ISTJ\",\"INFP\",\"INTJ\",\"INFP\",\"INFP\",\"INFJ\",\"ISFP\",\"INFP\",\"INFJ\",\"ENTP\",\"INTP\",\"INTP\",\"ISTP\",\"ENTP\",\"INTP\",\"ISTP\",\"INFJ\",\"ISTP\",\"INFP\",\"INTP\",\"INTP\",\"ENFJ\",\"ENFP\",\"ENFJ\",\"INTP\",\"INFJ\",\"ENTJ\",\"INTP\",\"ENTJ\",\"INTJ\",\"INFP\",\"ISTP\",\"ENFP\",\"INFP\",\"ENFP\",\"INFJ\",\"ISFJ\",\"INFJ\",\"INFJ\",\"INFJ\",\"INFJ\",\"INFJ\",\"INTJ\",\"INFP\",\"INFP\",\"INFJ\",\"INFJ\",\"INFP\",\"ISTJ\",\"ENFP\",\"INFP\",\"ENTJ\",\"ENFP\",\"ENFP\",\"ENTP\",\"ESTJ\",\"INFJ\",\"INFJ\",\"INTP\",\"INFJ\",\"INTP\",\"ISTP\",\"INFP\",\"INFP\",\"INTP\",\"INFJ\",\"INTP\",\"ENFP\",\"INFJ\",\"INFJ\",\"INTP\",\"INFJ\",\"ENFJ\",\"INFJ\",\"ENFP\",\"ENTP\",\"ISTP\",\"ENTJ\",\"INFP\",\"ENFP\",\"INTP\",\"INTP\",\"INFP\",\"INFP\",\"ENTP\",\"ISFP\",\"INFJ\",\"INFJ\",\"INFP\",\"ISTP\",\"INFP\",\"INFP\",\"INFJ\",\"INFP\",\"INFP\",\"ENTP\",\"ISTP\",\"INTP\",\"INTJ\",\"ISTJ\",\"INFP\",\"INFJ\",\"ENFJ\",\"INFP\",\"INFP\",\"ENTP\",\"INTP\",\"INTP\",\"ISFP\",\"INFJ\",\"INFP\",\"INFJ\",\"INFP\",\"INTP\",\"INFJ\",\"ENTP\",\"ESFP\",\"INTP\",\"ENTP\",\"ENTP\",\"ENFP\",\"INFP\",\"ENFP\",\"INFP\",\"INFJ\",\"INFP\",\"INFP\",\"INFP\",\"ENFJ\",\"INTP\",\"INFP\",\"INTJ\",\"INFJ\",\"ISFJ\",\"ENFJ\",\"INFP\",\"INTP\",\"ESTJ\",\"INTP\",\"ENFP\",\"INFJ\",\"ENTP\",\"ENFP\",\"INTJ\",\"INFP\",\"INFJ\",\"INTJ\",\"INFP\",\"ENTP\",\"ENFP\",\"INFJ\",\"INTP\",\"INFJ\",\"INFJ\",\"INTP\",\"ISTJ\",\"INFP\",\"INFP\",\"ISTP\",\"INFP\",\"INFP\",\"INFJ\",\"INFJ\",\"INFJ\",\"INTJ\",\"INTJ\",\"ENTJ\",\"ISTJ\",\"ESTP\",\"INFP\",\"INTP\",\"INFP\",\"ISTP\",\"INFJ\",\"INFP\",\"INTP\",\"INFP\",\"INFP\",\"INTP\",\"INFP\",\"INFP\",\"INFJ\",\"ENFP\",\"INFJ\",\"ENTP\",\"ISFP\",\"ISTJ\",\"ISFJ\",\"INFP\",\"ENFP\",\"ISTJ\",\"INFP\",\"INFJ\",\"INTJ\",\"ISFJ\",\"ISFJ\",\"ESFJ\",\"INTJ\",\"INFP\",\"INTJ\",\"ISTP\",\"INFP\",\"ENTP\",\"INTP\",\"INTP\",\"ENFP\",\"INFP\",\"INFP\",\"ENTP\",\"INFJ\",\"INTJ\",\"ENFP\",\"INTJ\",\"INFJ\",\"INTJ\",\"ESFP\",\"INTP\",\"INTJ\",\"INFJ\",\"INFJ\",\"ESTP\",\"ISTP\",\"ENTP\",\"INTJ\",\"INTJ\",\"ENTP\",\"ISTJ\",\"INFP\",\"INFP\",\"INTP\",\"INTP\",\"ISTP\",\"INFP\",\"INFP\",\"INTP\",\"INFP\",\"INFJ\",\"INFP\",\"INFJ\",\"ENTP\",\"INTP\",\"INTP\",\"INTJ\",\"INTJ\",\"INFP\",\"INTJ\",\"ESTJ\",\"ISFJ\",\"INFP\",\"ENTP\",\"ISFJ\",\"ISTJ\",\"INFJ\",\"ENTP\",\"INTP\",\"INTJ\",\"INFP\",\"INFP\",\"INFP\",\"INFP\",\"INFP\",\"INTP\",\"INFJ\",\"ISTP\",\"INTP\",\"INTP\",\"ISTP\",\"INFP\",\"INFJ\",\"INTP\",\"INFJ\",\"INTP\",\"INFP\",\"ENFP\",\"ENFJ\",\"ENFP\",\"INTJ\",\"INFJ\",\"INTP\",\"INTP\",\"INFJ\",\"ENFP\",\"INFJ\",\"INTP\",\"INFP\",\"INTJ\",\"INFP\",\"INFJ\",\"INTJ\",\"INFP\",\"INFJ\",\"ENTP\",\"INTP\",\"INTP\",\"INTP\",\"INTP\",\"ENFP\",\"ENTP\",\"INFJ\",\"ENTP\",\"INFP\",\"INFP\",\"ENFP\",\"ENTP\",\"INTP\",\"INTP\",\"INFP\",\"INTP\",\"ENTP\",\"INTP\",\"INTP\",\"INTP\",\"ENFJ\",\"INFP\",\"ENFP\",\"INFP\",\"ENFP\",\"INFJ\",\"INTP\",\"INTJ\",\"ISTP\",\"INFP\",\"INTJ\",\"ISFP\",\"INFJ\",\"INTP\",\"ENFP\",\"ENFJ\",\"INFP\",\"INTJ\",\"INFJ\",\"INTP\",\"INTJ\",\"INTP\",\"ENFP\",\"INTP\",\"INTP\",\"ENFP\",\"ENFP\",\"ESFJ\",\"INFP\",\"INFJ\",\"INFP\",\"INTP\",\"INTJ\",\"INFJ\",\"ENTP\",\"ISTJ\",\"INFP\",\"INFP\",\"INFP\",\"INFP\",\"INTJ\",\"INTJ\",\"ENFP\",\"INTP\",\"INFJ\",\"INTJ\",\"INTP\",\"INTJ\",\"INTP\",\"INTJ\",\"INFP\",\"INTP\",\"INTP\",\"ENTP\",\"ENFJ\",\"INFP\",\"INTJ\",\"ISFP\",\"INTJ\",\"INFJ\",\"ENTP\",\"INTJ\",\"INFJ\",\"ISTJ\",\"ENFP\",\"INFJ\",\"INFJ\",\"INFP\",\"ISFP\",\"ESTJ\",\"INFJ\",\"INTJ\",\"ENTP\",\"INTJ\",\"INTP\",\"INTP\",\"INTP\",\"INFJ\",\"INTJ\",\"INTP\",\"ISFJ\",\"INFP\",\"INTP\",\"INFP\",\"INFJ\",\"INFP\",\"ENFP\",\"ISTP\",\"ENFJ\",\"INFJ\",\"ENTP\",\"ENFP\",\"INFP\",\"INFP\",\"ESTP\",\"ENTP\",\"ENTP\",\"INTP\",\"INFP\",\"INFJ\",\"INTJ\",\"INFP\",\"ENTJ\",\"ISFJ\",\"INTJ\",\"INFP\",\"INTJ\",\"INFP\",\"ENFJ\",\"INTJ\",\"INFJ\",\"INTJ\",\"INFJ\",\"INTJ\",\"INFP\",\"ISTJ\",\"INTJ\",\"INTJ\",\"INTJ\",\"INFJ\",\"INTP\",\"INTP\",\"ENTP\",\"ENTP\",\"INTP\",\"INTP\",\"INFJ\",\"INFJ\",\"INTP\",\"INTJ\",\"INTP\",\"INTP\",\"ENTJ\",\"ISTJ\",\"ISFP\",\"INTJ\",\"INFP\",\"ENTP\",\"ISTJ\",\"INTJ\",\"ISTP\",\"INFJ\",\"ISTJ\",\"ISTJ\",\"INTP\",\"ENFP\",\"INTJ\",\"INFJ\",\"INTP\",\"ENTP\",\"ISFJ\",\"INFP\",\"INFJ\",\"ISFP\",\"INTJ\",\"ENFP\",\"INFP\",\"INTJ\",\"ENTP\",\"ENFP\",\"ENTJ\",\"INFJ\",\"INFP\",\"INTJ\",\"ENFP\",\"INFJ\",\"ENTJ\",\"INFP\",\"INFJ\",\"INTJ\",\"INFP\",\"INTJ\",\"INFJ\",\"INTP\",\"INTP\",\"INTJ\",\"INFP\",\"INFP\",\"ISTP\",\"ISTP\",\"INFP\",\"INTP\",\"ISTJ\",\"ESFJ\",\"ISTJ\",\"INFJ\",\"ISTJ\",\"INTP\",\"INFJ\",\"ISFJ\",\"INTP\",\"ISTP\",\"ENTP\",\"INTP\",\"ENTJ\",\"ENTP\",\"ENTP\",\"INFP\",\"INTJ\",\"ENTP\",\"INFJ\",\"INFJ\",\"INFP\",\"INFP\",\"INTP\",\"INFJ\",\"INTJ\",\"INFP\",\"ISFP\",\"INFP\",\"INFJ\",\"INFP\",\"INTP\",\"INFJ\",\"INFP\",\"INFP\",\"INTJ\",\"INTJ\",\"INTP\",\"ENFP\",\"ENTP\",\"ENTP\",\"ENTP\",\"INTJ\",\"INFP\",\"INFP\",\"INFP\",\"INTJ\",\"ENFP\",\"ISFP\",\"INFJ\",\"ENFP\",\"ISTJ\",\"INFJ\",\"ISTP\",\"ISFP\",\"INFP\",\"INFJ\",\"INTJ\",\"INFP\",\"INFP\",\"INFJ\",\"ISTJ\",\"ENTP\",\"INFP\",\"INFJ\",\"INFP\",\"ISFJ\",\"INTJ\",\"ISFP\",\"INTJ\",\"ENTP\",\"INTP\",\"INFP\",\"ENTP\",\"ENFP\",\"ENTP\",\"INFJ\",\"INTP\",\"ENTP\",\"INTJ\",\"INTJ\",\"INTJ\",\"INTP\",\"INFP\",\"ISTJ\",\"INTP\",\"INTP\",\"INTP\",\"ISTP\",\"INTP\",\"ENTP\",\"INTP\",\"INTJ\",\"ISTJ\",\"ENTP\",\"ISTJ\",\"INFP\",\"ENTP\",\"ISFP\",\"ENFJ\",\"ISFP\",\"INFJ\",\"INTJ\",\"INTJ\",\"INFP\",\"ENTP\",\"INFJ\",\"ENTP\",\"INFP\",\"ENTJ\",\"ESTJ\",\"ENTP\",\"INFJ\",\"INTP\",\"INFP\",\"INFJ\",\"INFP\",\"ESFP\",\"INFJ\",\"ENFP\",\"INTJ\",\"INTP\",\"ENTP\",\"ISTJ\",\"ESFP\",\"ISFP\",\"INTJ\",\"ISTP\",\"ENFP\",\"INTJ\",\"INFJ\",\"INFJ\",\"INTJ\",\"ENFP\",\"ISTP\",\"ENTP\",\"INFP\",\"INFP\",\"INTJ\",\"INTP\",\"ESTP\",\"INFJ\",\"ENFP\",\"INTP\",\"ENTP\",\"ENTP\",\"INTJ\",\"INFJ\",\"INFJ\",\"ISTP\",\"INFP\",\"INTP\",\"INFJ\",\"INFJ\",\"INTJ\",\"INFP\",\"ENTP\",\"INTJ\",\"INFP\",\"INFJ\",\"ENTP\",\"INTJ\",\"INTP\",\"ISFP\",\"ISFP\",\"INTJ\",\"ENFP\",\"INFJ\",\"INTP\",\"INFP\",\"ISFP\",\"ISTP\",\"ENTP\",\"ENFP\",\"INFJ\",\"ISTJ\",\"ENFJ\",\"INTJ\",\"INTP\",\"ISTJ\",\"ISTP\",\"ENTP\",\"INFP\",\"ENFJ\",\"INTJ\",\"ENTP\",\"INFJ\",\"INFP\",\"INTP\",\"INTP\",\"INTJ\",\"INTP\",\"INTP\",\"INTJ\",\"ENTP\",\"INFP\",\"INFJ\",\"INTP\",\"INFJ\",\"INFP\",\"INTJ\",\"ISFJ\",\"ESFP\",\"INTJ\",\"INFP\",\"ENTP\",\"INFP\",\"ISTJ\",\"INTP\",\"INTJ\",\"INTJ\",\"INTP\",\"INTP\",\"INTJ\",\"ESFP\",\"ENFP\",\"INFJ\",\"ISTP\",\"INTJ\",\"INFP\",\"INTJ\",\"ENTP\",\"ISFP\",\"INTP\",\"ENFP\",\"INTJ\",\"INTJ\",\"INFJ\",\"INTP\",\"INTP\",\"ISTP\",\"INTP\",\"ENTP\",\"INFP\",\"INTJ\",\"INFP\",\"ISTP\",\"ENTJ\",\"ESFJ\",\"INTJ\",\"INTP\",\"INTP\",\"INTJ\",\"INFJ\",\"INFJ\",\"INFP\",\"INFP\",\"INFP\",\"INFP\",\"INFP\",\"INFP\",\"ENFP\",\"INTP\",\"ENFP\",\"INFP\",\"INFJ\",\"INFJ\",\"INFJ\",\"INFP\",\"INFP\",\"INFP\",\"INFJ\",\"INFP\",\"ENFP\",\"INTJ\",\"INFJ\",\"INFP\",\"INTP\",\"INFJ\",\"ISTP\",\"ENFP\",\"INTP\",\"INFJ\",\"ENFJ\",\"INFP\",\"ISTJ\",\"ISTJ\",\"ENTJ\",\"INTP\",\"INFJ\",\"INTJ\",\"ENFP\",\"INTP\",\"ENFP\",\"INFJ\",\"INFP\",\"ENTP\",\"INTP\",\"ENFP\",\"INFJ\",\"INTP\",\"INFJ\",\"INFJ\",\"INTJ\",\"ENTJ\",\"INTP\",\"ISTP\",\"ISFP\",\"INFP\",\"ESTP\",\"INTP\",\"ISTP\",\"INFP\",\"ENTP\",\"INFP\",\"INFJ\",\"ENTJ\",\"ENFP\",\"ESTP\",\"INTP\",\"INFJ\",\"INFP\",\"INFJ\",\"INFJ\",\"INTP\",\"INTJ\",\"ISTP\",\"INFP\",\"ISFP\",\"INTP\",\"INFJ\",\"INFP\",\"INFP\",\"ISFJ\",\"INTP\",\"ISFJ\",\"INFP\",\"ENTP\",\"INFJ\",\"ENTJ\",\"INFJ\",\"INTJ\",\"INFP\",\"ENFP\",\"ENTP\",\"ENFJ\",\"ENFP\",\"INFJ\",\"ISFJ\",\"INTP\",\"ENTP\",\"ISTP\",\"INTJ\",\"INTJ\",\"INFP\",\"INTJ\",\"INTJ\",\"INFJ\",\"ISFP\",\"ENTJ\",\"INFP\",\"INFP\",\"INTJ\",\"ENFJ\",\"INTJ\",\"ENFP\",\"ENFJ\",\"INFJ\",\"INFP\",\"ENFJ\",\"INTJ\",\"INTJ\",\"INFP\",\"ISFP\",\"INTP\",\"ISTP\",\"INFJ\",\"ENTJ\",\"INTJ\",\"INTP\",\"ESTJ\",\"INFJ\",\"ENFP\",\"INTP\",\"INTJ\",\"ESTP\",\"INFJ\",\"INFP\",\"INTP\",\"ENFP\",\"INFP\",\"INFP\",\"INFP\",\"INFP\",\"INTP\",\"ENFP\",\"INFP\",\"ENTP\",\"ENTP\",\"INFJ\",\"INTP\",\"INFJ\",\"INFJ\",\"INFJ\",\"INFP\",\"INFP\",\"INTP\",\"ENTP\",\"ISTP\",\"ENTP\",\"ENTP\",\"INTP\",\"INFJ\",\"INTP\",\"INFJ\",\"INTJ\",\"ENTJ\",\"ENTJ\",\"INTJ\",\"ENFP\",\"ENFP\",\"ENFP\",\"INFP\",\"INFP\",\"INFJ\",\"INTJ\",\"ENTP\",\"INTJ\",\"INFP\",\"ISTP\",\"INTJ\",\"ENFP\",\"ISFP\",\"INTP\",\"INFJ\",\"ENTP\",\"ISFJ\",\"ENFJ\",\"ISFJ\",\"ISFP\",\"INTP\",\"ENTP\",\"INFJ\",\"ESTP\",\"INFJ\",\"INTP\",\"INTJ\",\"ENTP\",\"ISTJ\",\"ENFP\",\"INTJ\",\"INFJ\",\"INFP\",\"INFP\",\"INTP\",\"INFJ\",\"INFJ\",\"ENFP\",\"INFJ\",\"INTJ\",\"INTP\",\"INTJ\",\"ENFP\",\"INTP\",\"ENFP\",\"ISFJ\",\"INFP\",\"ISFJ\",\"ENFJ\",\"INFP\",\"ESTJ\",\"ESTP\",\"ENTJ\",\"ENTP\",\"INFJ\",\"ESFJ\",\"INFJ\",\"INFJ\",\"ENFP\",\"ENTP\",\"INTP\",\"INFP\",\"INTP\",\"ENTP\",\"INFJ\",\"INFP\",\"INTP\",\"ENTP\",\"INFJ\",\"INFP\",\"ENFJ\",\"INFP\",\"INTP\",\"INTP\",\"ENFP\",\"INFP\",\"ENTP\",\"ENFP\",\"ENFJ\",\"INFJ\",\"ENFP\",\"ENFP\",\"ENFP\",\"ENFP\",\"ENFP\",\"ENFP\",\"ENFP\",\"ENFP\",\"ENTP\",\"INFJ\",\"ENFJ\",\"ESTP\",\"INFJ\",\"INTP\",\"INFP\",\"ENFP\",\"INFP\",\"INFP\",\"INTP\",\"ENTJ\",\"ENTP\",\"ENTP\",\"ENTP\",\"ENTP\",\"ENTP\",\"ENTP\",\"ENTP\",\"ENTP\",\"ENTP\",\"ENTP\",\"ENTP\",\"INTJ\",\"ENTP\",\"INFJ\",\"INFP\",\"INFJ\",\"INFP\",\"INFP\",\"INFP\",\"ENTJ\",\"INFP\",\"INTJ\",\"ISFP\",\"INTP\",\"ISTP\",\"INFJ\",\"INTP\",\"ENTP\",\"ESTJ\",\"INFJ\",\"INTP\",\"INTJ\",\"INTP\",\"INTJ\",\"INFJ\",\"ENFJ\",\"INFP\",\"ISTP\",\"INTP\",\"INTJ\",\"INTP\",\"INTJ\",\"ENFP\",\"INTP\",\"INTJ\",\"ENTP\",\"INTJ\",\"INFP\",\"INTP\",\"INFP\",\"INFP\",\"INTP\",\"INFP\",\"INTP\",\"INTP\",\"ISFJ\",\"ENTP\",\"INTP\",\"INFP\",\"ENFP\",\"INFP\",\"ENTP\",\"INFP\",\"INTJ\",\"INFP\",\"INFJ\",\"INTP\",\"INFP\",\"ISTP\",\"ENFP\",\"INFJ\",\"INTJ\",\"INFP\",\"INFP\",\"ENFJ\",\"INTJ\",\"INFP\",\"INFJ\",\"INFP\",\"INFJ\",\"INTP\",\"INFP\",\"ENTP\",\"ENFP\",\"ISTP\",\"INTP\",\"INFP\",\"ISFP\",\"INTP\",\"INTJ\",\"INFJ\",\"ENTP\",\"INTP\",\"INFJ\",\"INFJ\",\"ENFP\",\"INFP\",\"INFP\",\"INTJ\",\"INTP\",\"INFP\",\"ENTP\",\"INFP\",\"INFJ\",\"INFP\",\"ENTJ\",\"INTJ\",\"INTP\",\"INFP\",\"ENFP\",\"ENFJ\",\"ENTP\",\"INFP\",\"INTJ\",\"INFJ\",\"ESFJ\",\"ENTP\",\"INFJ\",\"ENTP\",\"INTP\",\"INTJ\",\"INFJ\",\"ENTP\",\"INTJ\",\"INTP\",\"INTJ\",\"INTP\",\"ENTP\",\"ENTP\",\"INFP\",\"INTJ\",\"ISFJ\",\"INTJ\",\"INTJ\",\"ENTJ\",\"INFJ\",\"INFJ\",\"ISTP\",\"ESTP\",\"INFJ\",\"ISTP\",\"ISFP\",\"INFP\",\"INFJ\",\"ENFP\",\"INFP\",\"INFJ\",\"INFJ\",\"INTJ\",\"ENFP\",\"INFP\",\"INFP\",\"INFP\",\"ENFP\",\"INFP\",\"INFP\",\"ISTP\",\"INFJ\",\"INTJ\",\"INTJ\",\"ESTP\",\"INFJ\",\"INFP\",\"ISTP\",\"ENFP\",\"INTJ\",\"INFJ\",\"INTJ\",\"ISTP\",\"INTJ\",\"ENFP\",\"INFP\",\"ENTP\",\"INFJ\",\"INTJ\",\"INFJ\",\"ESTP\",\"ESFP\",\"INFJ\",\"INTP\",\"INTJ\",\"ENFJ\",\"INFJ\",\"INFJ\",\"INFP\",\"ENTP\",\"INFP\",\"INFP\",\"ISFP\",\"INTJ\",\"INTP\",\"ISFP\",\"ISTP\",\"INFJ\",\"ENFP\",\"INFJ\",\"INTP\",\"INTP\",\"INTP\",\"ISTP\",\"INFJ\",\"ENTP\",\"INTJ\",\"ISTP\",\"INFJ\",\"INFP\",\"INTJ\",\"ENTP\",\"INFJ\",\"INTJ\",\"INTP\",\"INFP\",\"ENFP\",\"INFJ\",\"ENTP\",\"INFJ\",\"INFJ\",\"ENFJ\",\"ENTJ\",\"ENFP\",\"ENFJ\",\"ESFP\",\"ISTP\",\"INTJ\",\"INFJ\",\"INFJ\",\"INTP\",\"INFJ\",\"INTP\",\"INTP\",\"INFJ\",\"ISFP\",\"INFJ\",\"INTP\",\"INFJ\",\"INFJ\",\"INTJ\",\"INTP\",\"INTP\",\"ENFP\",\"INTJ\",\"ISTJ\",\"INFP\",\"INTP\",\"INTJ\",\"ENFP\",\"INFJ\",\"INTP\",\"INFP\",\"INTJ\",\"INTP\",\"INTP\",\"INTP\",\"INFJ\",\"INFP\",\"INTP\",\"INFJ\",\"INFP\",\"INFJ\",\"INFJ\",\"ENFP\",\"INFJ\",\"ISTJ\",\"ISFP\",\"INFP\",\"ISFP\",\"INFP\",\"INFJ\",\"INFJ\",\"ENTP\",\"INTJ\",\"INFJ\",\"INFJ\",\"ISFJ\",\"INTJ\",\"INTP\",\"INFP\",\"INTP\",\"INTP\",\"ISTJ\",\"INTJ\",\"ENFP\",\"INTP\",\"INTP\",\"INFP\",\"ENTP\",\"INTJ\",\"INTJ\",\"INTJ\",\"INTJ\",\"INFP\",\"INFP\",\"ESTP\",\"INFP\",\"ENFJ\",\"INTP\",\"ENFJ\",\"ISFJ\",\"ENFP\",\"ISTJ\",\"INFP\",\"INFP\",\"ISTP\",\"INFP\",\"ENTP\",\"INFP\",\"INFJ\",\"INFP\",\"INFP\",\"INTJ\",\"INFP\",\"INFP\",\"ENFP\",\"INTP\",\"ENTP\",\"INFJ\",\"INFJ\",\"ISTP\",\"ISTP\",\"INFP\",\"INFP\",\"INTP\",\"INFJ\",\"ENFP\",\"INFJ\",\"INFJ\",\"ESTP\",\"INFJ\",\"INTP\",\"ENTP\",\"INFP\",\"INFJ\",\"INFJ\",\"INTJ\",\"ISFP\",\"INFP\",\"INFP\",\"ENTP\",\"INTJ\",\"ENTP\",\"INTP\",\"INTJ\",\"INTP\",\"ENFJ\",\"ISTP\",\"ENTP\",\"INFJ\",\"INFJ\",\"INTJ\",\"ISFP\",\"INFP\",\"ENTP\",\"INTJ\",\"INFP\",\"INTP\",\"INTJ\",\"ENFP\",\"INTP\",\"ISTP\",\"INTP\",\"INTP\",\"INTP\",\"INTP\",\"INTJ\",\"INFP\",\"INFJ\",\"INTJ\",\"INFJ\",\"INFP\",\"INFP\",\"ESFP\",\"ENFJ\",\"INTJ\",\"INFJ\",\"INTP\",\"ENTP\",\"ISTP\",\"INTJ\",\"ESTJ\",\"INTJ\",\"ENTP\",\"INFJ\",\"INFP\",\"ENFJ\",\"INFP\",\"INFJ\",\"INTJ\",\"ENFJ\",\"INFJ\",\"INFJ\",\"ENFP\",\"INFJ\",\"ISTP\",\"INFJ\",\"ISTP\",\"INTP\",\"INFP\",\"INTP\",\"INTJ\",\"ENTP\",\"ENTJ\",\"INTJ\",\"INFJ\",\"INFP\",\"ENTP\",\"ENTJ\",\"INFJ\",\"ENFP\",\"ISTP\",\"ENFP\",\"INFP\",\"ENFP\",\"ISFP\",\"ENTJ\",\"INTJ\",\"ENTP\",\"ENTP\",\"ENFP\",\"ISFP\",\"INFP\",\"ENTP\",\"ISFJ\",\"ISFJ\",\"INFJ\",\"INTP\",\"INFJ\",\"INFP\",\"ESTP\",\"INFP\",\"INFJ\",\"INTP\",\"INFP\",\"INTP\",\"ENFP\",\"INFP\",\"ISFP\",\"ISTP\",\"INFJ\",\"INTJ\",\"INFJ\",\"INFJ\",\"INFJ\",\"ENTJ\",\"INTP\",\"ISFP\",\"ISFP\",\"INFJ\",\"INFP\",\"INFP\",\"ISTJ\",\"INFJ\",\"ENFP\",\"INTJ\",\"ENTP\",\"INFP\",\"ISTJ\",\"INFP\",\"INTJ\",\"INFP\",\"INTJ\",\"INFP\",\"ISTP\",\"ENFP\",\"ISTJ\",\"INFP\",\"ISTJ\",\"ISFJ\",\"INFJ\",\"INFP\",\"ENTP\",\"INFJ\",\"INTP\",\"INFJ\",\"ENFP\",\"ISTJ\",\"ENTP\",\"ENTP\",\"ENTP\",\"INTP\",\"INFJ\",\"INFJ\",\"INTP\",\"INFJ\",\"ENTP\",\"ISTJ\",\"ENTP\",\"INTP\",\"INTJ\",\"ENTP\",\"INFJ\",\"INTP\",\"INFP\",\"INFP\",\"INFP\",\"INFJ\",\"INTP\",\"INFJ\",\"ENFP\",\"INFJ\",\"INFP\",\"INFJ\",\"INFP\",\"INTJ\",\"INFP\",\"ENTP\",\"ENFJ\",\"INTJ\",\"INFP\",\"INFJ\",\"INFJ\",\"INFJ\",\"INTP\",\"INFJ\",\"ISFP\",\"INTJ\",\"INTJ\",\"INTP\",\"ENTP\",\"INFP\",\"INTP\",\"ENFP\",\"ISTP\",\"INTP\",\"ENFP\",\"ISFJ\",\"INFP\",\"INFP\",\"ENTP\",\"INFP\",\"ESFP\",\"ENTP\",\"INFP\",\"INFJ\",\"ENTP\",\"INFJ\",\"ENFJ\",\"INFP\",\"ENTP\",\"INFJ\",\"INFJ\",\"INTJ\",\"INFP\",\"INFJ\",\"INTP\",\"INTP\",\"INFP\",\"ENFJ\",\"INFJ\",\"ENTP\",\"ISTP\",\"INTP\",\"ISFP\",\"ENTP\",\"INFP\",\"INFP\",\"ENTP\",\"ENTP\",\"INTJ\",\"ENTP\",\"INFJ\",\"INTJ\",\"ENTP\",\"INFJ\",\"ESTJ\",\"ENTP\",\"ENFP\",\"INFJ\",\"INTP\",\"INFP\",\"ENFP\",\"ISFP\",\"INTJ\",\"ISTP\",\"ISFP\",\"INFJ\",\"INFP\",\"INFJ\",\"INFP\",\"ISFJ\",\"INTP\",\"INTP\",\"ISFP\",\"INTP\",\"INFJ\",\"ISTP\",\"INTJ\",\"INTJ\",\"ESFP\",\"ENTP\",\"ENFP\",\"INFJ\",\"INFJ\",\"INFJ\",\"INFJ\",\"INTP\",\"ISFJ\",\"INFP\",\"INFP\",\"INTP\",\"INFP\",\"ISFP\",\"INFP\",\"INTJ\",\"INFJ\",\"ENTP\",\"INFJ\",\"INFP\",\"ISFJ\",\"INFJ\",\"INFJ\",\"ENFP\",\"INFP\",\"ISFJ\",\"ENFP\",\"INTJ\",\"INTJ\",\"INTJ\",\"INFJ\",\"INFP\",\"INFP\",\"INFP\",\"INFJ\",\"INTP\",\"INFP\",\"INTJ\",\"ENTP\",\"ENFP\",\"ENTP\",\"INTJ\",\"INFJ\",\"INFJ\",\"ISTP\",\"INTJ\",\"INTP\",\"INTJ\",\"INTP\",\"INFJ\",\"ISFJ\",\"ENFP\",\"ISTJ\",\"ESFP\",\"INTP\",\"INTP\",\"INFJ\",\"ISTP\",\"ENFJ\",\"ENTP\",\"INFJ\",\"INFJ\",\"INFP\",\"ENFP\",\"INFP\",\"INTP\",\"INFP\",\"ENFP\",\"ESTP\",\"INFJ\",\"INFP\",\"INFJ\",\"ESTP\",\"INFJ\",\"INTP\",\"INTP\",\"INTP\",\"INFP\",\"INTP\",\"ENFP\",\"INTJ\",\"ISTJ\",\"INFJ\",\"INFJ\",\"INTJ\",\"ISFJ\",\"INFP\",\"INFJ\",\"INFP\",\"ISFJ\",\"ENTJ\",\"ENTP\",\"INFP\",\"ISTP\",\"INFJ\",\"ISTP\",\"INTP\",\"INTP\",\"INFJ\",\"ISFP\",\"INFJ\",\"ENTP\",\"INFJ\",\"INFJ\",\"INTP\",\"INFJ\",\"ESTP\",\"INFJ\",\"INFJ\",\"INFJ\",\"INTJ\",\"INFP\",\"INFJ\",\"INFP\",\"ENFP\",\"INTP\",\"INFJ\",\"ENTJ\",\"INTJ\",\"INTJ\",\"ESTP\",\"ENFP\",\"INFP\",\"ESFJ\",\"ENTP\",\"ENFJ\",\"INFP\",\"ENFP\",\"INTP\",\"INTP\",\"INTJ\",\"INFJ\",\"INFP\",\"ISFJ\",\"INFP\",\"INFP\",\"INFP\",\"INTP\",\"INTJ\",\"ISFP\",\"ENFP\",\"ISTJ\",\"ISTP\",\"INTJ\",\"INFP\",\"INFJ\",\"ISFP\",\"ISTP\",\"INFJ\",\"ESTP\",\"INFP\",\"INFP\",\"INTP\",\"INFP\",\"INFP\",\"INFP\",\"INFP\",\"INFJ\",\"INTJ\",\"INFP\",\"INFP\",\"ENFP\",\"INFJ\",\"ISFP\",\"ENTP\",\"ENFP\",\"INFP\",\"ENFP\",\"INTJ\",\"INTJ\",\"INTP\",\"INTP\",\"ENTJ\",\"INFJ\",\"INFP\",\"INFJ\",\"ISTP\",\"ENTJ\",\"ESTP\",\"ENFP\",\"INTP\",\"INFP\",\"INFJ\",\"INTP\",\"INFP\",\"ENTP\",\"INTP\",\"ENTJ\",\"ENTP\",\"INTJ\",\"ENTJ\",\"INTP\",\"INTJ\",\"INFJ\",\"INTJ\",\"INFP\",\"INFJ\",\"INFP\",\"ENTJ\",\"ISTJ\",\"ENTP\",\"INTJ\",\"INFJ\",\"INFJ\",\"INTP\",\"ESTP\",\"INTJ\",\"ISFJ\",\"ISTP\",\"INFP\",\"INFP\",\"INTJ\",\"ESFP\",\"INFP\",\"ISFP\",\"INTJ\",\"INFJ\",\"ENTP\",\"ENFP\",\"ESFP\",\"INTP\",\"INFP\",\"INTJ\",\"ESFP\",\"INTP\",\"ENTJ\",\"INTP\",\"INFJ\",\"INTJ\",\"ENFP\",\"INTP\",\"INFP\",\"INTP\",\"INFP\",\"INTJ\",\"INFJ\",\"ENTJ\",\"INTP\",\"INTP\",\"ENFP\",\"INTJ\",\"INFJ\",\"ISFJ\",\"ISFP\",\"ENFJ\",\"ISTJ\",\"INTP\",\"INFP\",\"INFP\",\"INFP\",\"INFJ\",\"INTP\",\"ISTJ\",\"INFP\",\"ISFJ\",\"INTJ\",\"INFJ\",\"ESTP\",\"INFP\",\"INFP\",\"INFJ\",\"ISTJ\",\"INTJ\",\"INTP\",\"INFP\",\"INFP\",\"INFJ\",\"INFP\",\"INTJ\",\"INFJ\",\"INFJ\",\"ENFJ\",\"INTP\",\"INFJ\",\"INTP\",\"ENFP\",\"ISTJ\",\"INTP\",\"INFP\",\"ISFP\",\"INFJ\",\"INTP\",\"ENTJ\",\"INTJ\",\"INTJ\",\"INFP\",\"INFJ\",\"INTJ\",\"ENTP\",\"INFP\",\"INTP\",\"INTP\",\"ENTJ\",\"INTP\",\"INTJ\",\"ISTJ\",\"INTJ\",\"ISTP\",\"INTJ\",\"ENFP\",\"ESTP\",\"INFJ\",\"INTJ\",\"ISFP\",\"INTP\",\"INFJ\",\"INTJ\",\"INFP\",\"INTP\",\"INFJ\",\"INFP\",\"INFJ\",\"ENFP\",\"INTJ\",\"ENFJ\",\"ISTP\",\"INFP\",\"INTP\",\"INTP\",\"INTJ\",\"INTP\",\"INTP\",\"INFJ\",\"ESTP\",\"ISFJ\",\"INTP\",\"ESTP\",\"INTJ\",\"INTP\",\"ISTP\",\"ENTP\",\"ENTP\",\"ENTP\",\"ENTP\",\"ENFP\",\"INTP\",\"INFJ\",\"INFJ\",\"INTJ\",\"INTP\",\"INFP\",\"INTP\",\"ENFJ\",\"INTJ\",\"INTJ\",\"INFP\",\"ENFJ\",\"INFP\",\"ENTP\",\"ISTJ\",\"INTP\",\"ISTP\",\"INFP\",\"INFJ\",\"INFP\",\"ENFJ\",\"INTJ\",\"INFJ\",\"INFJ\",\"ISTP\",\"INFP\",\"ENFJ\",\"ENTJ\",\"INFP\",\"INTP\",\"INTP\",\"INFJ\",\"INFP\",\"ISTJ\",\"INFP\",\"INTP\",\"INFJ\",\"ISFP\",\"INFP\",\"INFJ\",\"INFP\",\"INFP\",\"INFP\",\"INFP\",\"ESTJ\",\"INTP\",\"INTP\",\"ISTP\",\"INFJ\",\"ENTP\",\"INFJ\",\"INTP\",\"INTP\",\"ENFP\",\"INFP\",\"ENFP\",\"INFJ\",\"INFP\",\"ESTP\",\"INTJ\",\"INFP\",\"INFP\",\"INTJ\",\"ISTP\",\"INFP\",\"INFP\",\"INTP\",\"ENTP\",\"INFJ\",\"ENTJ\",\"INFJ\",\"INFP\",\"INTJ\",\"INTJ\",\"ENFP\",\"INFP\",\"INFJ\",\"ENFP\",\"INTJ\",\"INFP\",\"INFP\",\"INFJ\",\"ISFP\",\"INFJ\",\"ISFP\",\"INFJ\",\"INFJ\",\"INTP\",\"INFJ\",\"INTP\",\"INFP\",\"ENTJ\",\"ISTP\",\"ISTP\",\"INTJ\",\"INFP\",\"INFJ\",\"INFP\",\"ISTP\",\"INTJ\",\"INFP\",\"ISFJ\",\"INFP\",\"INTJ\",\"INFP\",\"INFP\",\"ENFP\",\"ENTJ\",\"INFP\",\"INTP\",\"INTP\",\"ISFJ\",\"INFJ\",\"INTP\",\"ISTP\",\"ESTP\",\"ENTP\",\"INFJ\",\"ISTP\",\"INFP\",\"INFP\",\"INFP\",\"INFJ\",\"INFP\",\"ISTJ\",\"INFJ\",\"INTJ\",\"ENTP\",\"ISFP\",\"INFP\",\"INFP\",\"INTJ\",\"INTJ\",\"INTJ\",\"INTP\",\"INTP\",\"INFJ\",\"INFJ\",\"ISFJ\",\"INFJ\",\"INFP\",\"INFP\",\"INTP\",\"INTP\",\"INFJ\",\"INFJ\",\"INFJ\",\"INFJ\",\"INFJ\",\"INFJ\",\"INTJ\",\"INFJ\",\"INFJ\",\"INFJ\",\"INFJ\",\"INFJ\",\"INFJ\",\"INFJ\",\"INFJ\",\"INFJ\",\"INFJ\",\"INFJ\",\"ENTP\",\"INFJ\",\"INFP\",\"INFP\",\"INFP\",\"INFP\",\"INFP\",\"INFP\",\"INFJ\",\"INFP\",\"INFP\",\"INFP\",\"INFP\",\"INFP\",\"INFP\",\"INFP\",\"INFP\",\"INFJ\",\"INTJ\",\"INFP\",\"INTJ\",\"INFP\",\"INTJ\",\"INTP\",\"ENTP\",\"INFP\",\"INFJ\",\"INFJ\",\"INFP\",\"INFP\",\"INFJ\",\"ENTP\",\"INTJ\",\"INTJ\",\"INFP\",\"ENTP\",\"INFP\",\"ISFP\",\"INFJ\",\"INFJ\",\"ISTP\",\"INFP\",\"INTJ\",\"INFP\",\"ENFJ\",\"INFP\",\"ENFP\",\"ENFP\",\"INFJ\",\"INTJ\",\"INTP\",\"INTP\",\"INTP\",\"INFP\",\"ENTJ\",\"INFP\",\"INTP\",\"INFP\",\"INFJ\",\"ENTP\",\"INTJ\",\"INTJ\",\"INTJ\",\"INTJ\",\"INTJ\",\"INTJ\",\"ISTP\",\"INTP\",\"INTP\",\"INTP\",\"INTP\",\"INTP\",\"INTP\",\"INTP\",\"INTP\",\"INTP\",\"INFP\",\"INFJ\",\"INFJ\",\"INTJ\",\"INFJ\",\"ISFJ\",\"INFJ\",\"ENFP\",\"ENTP\",\"INFP\",\"INFP\",\"ENTP\",\"INTP\",\"ENFP\",\"INFP\",\"INTJ\",\"INTJ\",\"INTP\",\"INFP\",\"ESFJ\",\"INFJ\",\"INFJ\",\"ENFJ\",\"INTP\",\"INFJ\",\"INTP\",\"INFJ\",\"ENTP\",\"INTP\",\"ISFP\",\"INTJ\",\"INFJ\",\"INFJ\",\"INFJ\",\"INFP\",\"INFP\",\"INFJ\",\"INFP\",\"INTJ\",\"ISFJ\",\"INFP\",\"INTJ\",\"INTP\",\"INTJ\",\"INFP\",\"ISTJ\",\"ISTP\",\"ISTP\",\"ISTP\",\"ISTP\",\"INFJ\",\"ISTP\",\"ENTP\",\"ESFJ\",\"INFJ\",\"INFJ\",\"INTP\",\"INFJ\",\"INFP\",\"INFP\",\"ISFP\",\"ENTP\",\"ESTP\",\"INFP\",\"INFP\",\"INFJ\",\"INFP\",\"INTP\",\"INFJ\",\"INFP\",\"INTP\",\"INFJ\",\"ENFP\",\"ISFP\",\"ENFP\",\"INFP\",\"INFP\",\"INTJ\",\"INTJ\",\"INTP\",\"INTP\",\"INTJ\",\"INTP\",\"INFP\",\"ENTP\",\"ENFP\",\"ISFP\",\"INFP\",\"INTJ\",\"INTP\",\"ISFP\",\"INFJ\",\"INTP\",\"INTJ\",\"ENFP\",\"ISTP\",\"INFJ\",\"ESTP\",\"INTP\",\"INFJ\",\"INFJ\",\"INTP\",\"INFJ\",\"ISTP\",\"INFP\",\"ISFJ\",\"ISTP\",\"INFP\",\"INFJ\",\"INTJ\",\"INTP\",\"INFP\",\"INFJ\",\"ENTP\",\"ENTP\",\"INTP\",\"ENTJ\",\"ISTP\",\"INTP\",\"ENTP\",\"INFJ\",\"ENFJ\",\"ISTP\",\"INFP\",\"ENTP\",\"ENFP\",\"INTP\",\"ISFJ\",\"INTP\",\"INFP\",\"INTP\",\"INFP\",\"INFJ\",\"ISTP\",\"INFP\",\"INFJ\",\"INFJ\",\"INFJ\",\"INTP\",\"INTP\",\"INTJ\",\"INTJ\",\"INTJ\",\"ISTP\",\"ENTP\",\"INTP\",\"INTJ\",\"INTP\",\"ISFP\",\"ENTJ\",\"ENFP\",\"ENTJ\",\"ENTP\",\"INFJ\",\"INFP\",\"ENTP\",\"ISTP\",\"ENFP\",\"INFJ\",\"ISTJ\",\"INFP\",\"ENFP\",\"ENTP\",\"INFJ\",\"ENFJ\",\"ISTJ\",\"INTJ\",\"INFJ\",\"INTP\",\"INFP\",\"INTP\",\"ENTJ\",\"ISFJ\",\"ISFP\",\"ISFJ\",\"INTJ\",\"INFJ\",\"ENTP\",\"INFJ\",\"INFJ\",\"ENTP\",\"INFJ\",\"ENFJ\",\"INTP\",\"ENFP\",\"ISFJ\",\"ENFP\",\"INFP\",\"ISTP\",\"ENTP\",\"INTJ\",\"INTJ\",\"INFP\",\"INTP\",\"INFP\",\"INTJ\",\"INFJ\",\"ENFP\",\"ENFP\",\"ENTJ\",\"ENFP\",\"ENFP\",\"INFP\",\"ENTJ\",\"ENTP\",\"ESTP\",\"INTP\",\"INFP\",\"ISFP\",\"INFP\",\"INFP\",\"INFP\",\"INFJ\",\"ENFP\",\"INFJ\",\"INFP\",\"INTP\",\"INTP\",\"ENFP\",\"INTJ\",\"ISTP\",\"INTP\",\"ENTJ\",\"INFJ\",\"ENFP\",\"ISFJ\",\"ISFP\",\"INFP\",\"INTP\",\"INTP\",\"INFP\",\"INFP\",\"ISFP\",\"ISTJ\",\"ENFP\",\"INTJ\",\"ENFJ\",\"INTP\",\"INTP\",\"ISFP\",\"INFJ\",\"INFP\",\"ENTP\",\"INTP\",\"INTP\",\"INTJ\",\"INTP\",\"INFP\",\"INFJ\",\"ENTP\",\"ISTJ\",\"INFJ\",\"INTJ\",\"INTJ\",\"INTP\",\"INFJ\",\"INFP\",\"ENTP\",\"INFP\",\"ENTP\",\"INFP\",\"ISTJ\",\"ENFP\",\"INFJ\",\"INTJ\",\"ENFP\",\"INFJ\",\"ENTP\",\"ENFJ\",\"ISTJ\",\"ENTP\",\"INFP\",\"INFJ\",\"INTP\",\"INTJ\",\"ISTP\",\"INFP\",\"ESFP\",\"INTP\",\"INTP\",\"INFP\",\"INFP\",\"ENTP\",\"INTP\",\"INTP\",\"ENTP\",\"ENTJ\",\"INFJ\",\"INFJ\",\"INFP\",\"ENTJ\",\"ESTP\",\"ENFP\",\"INTP\",\"INTJ\",\"INFP\",\"INTJ\",\"ENFJ\",\"ENFP\",\"INFJ\",\"INFJ\",\"ENFJ\",\"ISTP\",\"ISTJ\",\"INTP\",\"ENTP\",\"ISTP\",\"INTP\",\"INTJ\",\"INTP\",\"INFP\",\"INTJ\",\"INTP\",\"INFP\",\"ENFP\",\"INTP\",\"INFJ\",\"INTJ\",\"INFP\",\"ENTP\",\"INTP\",\"INFJ\",\"ENTP\",\"INFJ\",\"INFJ\",\"ENFP\",\"ENTP\",\"INTJ\",\"INFP\",\"INTP\",\"ISFJ\",\"INFP\",\"ENFJ\",\"INTJ\",\"INFJ\",\"INFJ\",\"ESFP\",\"INTP\",\"ENTP\",\"INTP\",\"ISTP\",\"INFP\",\"ENTP\",\"INTJ\",\"ENFP\",\"INFP\",\"INFP\",\"INTP\",\"ESTJ\",\"INFP\",\"ENFP\",\"INFP\",\"ESFP\",\"INTP\",\"ENFP\",\"INFP\",\"ENFP\",\"INFP\",\"ENFP\",\"INFP\",\"INFJ\",\"ENTJ\",\"INTJ\",\"INTJ\",\"INTP\",\"INFJ\",\"INFJ\",\"ENTP\",\"INTP\",\"INFJ\",\"INFJ\",\"INFJ\",\"INFP\",\"INTP\",\"INTJ\",\"INTP\",\"ENTP\",\"INFP\",\"ENTP\",\"ISFJ\",\"INFP\",\"INTP\",\"ENFP\",\"ENFP\",\"INFP\",\"ENTP\",\"INTJ\",\"INTP\",\"INFP\",\"ENFJ\",\"ISTP\",\"INTJ\",\"ENFJ\",\"INTJ\",\"ISFJ\",\"INFP\",\"INFJ\",\"ISFP\",\"ISTJ\",\"INFJ\",\"ISTJ\",\"INTJ\",\"INTP\",\"INTJ\",\"ENFJ\",\"INFP\",\"INTP\",\"ENFP\",\"ISTJ\",\"INFJ\",\"ISFP\",\"ENFJ\",\"ISTP\",\"INTJ\",\"ENTJ\",\"INTJ\",\"INFP\",\"INFP\",\"INFP\",\"INFP\",\"INTJ\",\"INFP\",\"INFJ\",\"INFP\",\"INTJ\",\"ENFP\",\"ENFP\",\"ENTP\",\"INFP\",\"INFJ\",\"INFP\",\"INFJ\",\"ENTJ\",\"INTJ\",\"INFP\",\"INTJ\",\"ISFJ\",\"INTP\",\"ENTP\",\"INTP\",\"ISFP\",\"ENTP\",\"ISTP\",\"ENTP\",\"ENFJ\",\"ENFP\",\"ENFP\",\"ENTP\",\"ISTJ\",\"ENTJ\",\"ENTP\",\"INTP\",\"INFP\",\"ENFJ\",\"INFJ\",\"INFP\",\"ENFP\",\"ENFP\",\"INFJ\",\"ENFP\",\"ISTJ\",\"INFJ\",\"ISTP\",\"ESFJ\",\"INFJ\",\"INFJ\",\"INFJ\",\"INTJ\",\"ISTP\",\"INFJ\",\"ENFP\",\"INFJ\",\"INFP\",\"ENFP\",\"INFP\",\"INTP\",\"INFP\",\"INTJ\",\"INTP\",\"ISFP\",\"ISFJ\",\"INFP\",\"INFJ\",\"INTJ\",\"INFP\",\"ENFP\",\"ESTJ\",\"ISFJ\",\"ENFP\",\"INTJ\",\"ISFP\",\"INFJ\",\"INTP\",\"ENTJ\",\"INTP\",\"ISFJ\",\"INTJ\",\"ENTJ\",\"INFP\",\"INFJ\",\"INFJ\",\"INFP\",\"INTJ\",\"INFJ\",\"INFP\",\"INFJ\",\"INFJ\",\"ENFP\",\"ENTJ\",\"INTP\",\"ENTP\",\"INTJ\",\"INFP\",\"INTP\",\"INFJ\",\"INFJ\",\"INFJ\",\"ENFP\",\"INTP\",\"ISTP\",\"INTJ\",\"ISTP\",\"INTJ\",\"INTJ\",\"INFP\",\"ESFP\",\"INTP\",\"ESTP\",\"INTJ\",\"INTJ\",\"INFP\",\"INFJ\",\"INFP\",\"INFP\",\"INTP\",\"ISTJ\",\"ENTP\",\"ENTP\",\"INFP\",\"ENTP\",\"ISTJ\",\"INTP\",\"INFJ\",\"ESFJ\",\"INTJ\",\"INTP\",\"ENFP\",\"INFP\",\"INTP\",\"INTP\",\"INTP\",\"ENTP\",\"INFJ\",\"ENFP\",\"INFP\",\"INFJ\",\"INFP\",\"ENTJ\",\"INFP\",\"ENTP\",\"ISTP\",\"INFP\",\"ENTP\",\"INFP\",\"ENFP\",\"ISFP\",\"ENFP\",\"INFP\",\"ENFP\",\"INFP\",\"INFP\",\"ENFP\",\"ISTJ\",\"ISFJ\",\"INTJ\",\"INTJ\",\"INFP\",\"ENTP\",\"INTP\",\"INFP\",\"INTJ\",\"ENFJ\",\"INTP\",\"ISFP\",\"ISTJ\",\"ENFP\",\"ESTJ\",\"INFJ\",\"INFP\",\"INFJ\",\"INTP\",\"ISTJ\",\"INTP\",\"ENTP\",\"INTP\",\"INFJ\",\"ENFP\",\"INFJ\",\"INFP\",\"ENTJ\",\"INTP\",\"ENTP\",\"ENTP\",\"INTP\",\"INFJ\",\"ISTP\",\"INFJ\",\"INFP\",\"ENFP\",\"INFP\",\"INFP\",\"INTP\",\"INTJ\",\"INTP\",\"INFP\",\"INFJ\",\"INFP\",\"INTP\",\"ISFP\",\"INFJ\",\"ENFP\",\"INFJ\",\"INTP\",\"ENFP\",\"INTJ\",\"ENFP\",\"INFP\",\"INFP\",\"INFP\",\"ISTJ\",\"INFJ\",\"ISTP\",\"INFJ\",\"INFP\",\"INTJ\",\"INFJ\",\"ENTJ\",\"ISFP\",\"INTP\",\"ISFJ\",\"INTJ\",\"ESTJ\",\"INFJ\",\"INFJ\",\"INFJ\",\"INTP\",\"INTP\",\"ISTJ\",\"INTP\",\"INTP\",\"INFJ\",\"ISTJ\",\"ENTP\",\"ESTJ\",\"ENFP\",\"ISFJ\",\"ENFP\",\"ENTP\",\"INFJ\",\"ENTP\",\"INTJ\",\"INFP\",\"INFP\",\"INFJ\",\"INTP\",\"ENTP\",\"INTJ\",\"INFJ\",\"INTJ\",\"INTP\",\"INFJ\",\"INTP\",\"ESTJ\",\"ENFJ\",\"INFJ\",\"INTP\",\"ENTJ\",\"INFP\",\"INFP\",\"INTP\",\"INFP\",\"ISFJ\",\"INFJ\",\"INFP\",\"INTJ\",\"INTJ\",\"ENFJ\",\"INFJ\",\"ENFP\",\"ESTP\",\"INFJ\",\"ENFJ\",\"ENTP\",\"INFJ\",\"INFP\",\"ENTP\",\"ENTP\",\"ENFJ\",\"INTP\",\"INTJ\",\"INFP\",\"ENTP\",\"INFP\",\"INFP\",\"INTP\",\"ENTP\",\"ESTJ\",\"ENFP\",\"INTP\",\"INFP\",\"ENTJ\",\"INTP\",\"INFP\",\"INFJ\",\"INFJ\",\"ESTJ\",\"INFP\",\"INTJ\",\"ISTJ\",\"ENFP\",\"ISFJ\",\"INFJ\",\"INTP\",\"INTP\",\"INFP\",\"INTP\",\"INTP\",\"ENFP\",\"INTP\",\"INTP\",\"ENFJ\",\"INTP\",\"ENFJ\",\"ENTP\",\"ENFP\",\"INTP\",\"INTP\",\"INFP\",\"ISFP\",\"INFJ\",\"INFJ\",\"INFP\",\"INFP\",\"INFP\",\"INFJ\",\"INTP\",\"INFP\",\"INTP\",\"INFJ\",\"INTJ\",\"ENTP\",\"INTJ\",\"INFJ\",\"ESTP\",\"INTP\",\"INTP\",\"INFP\",\"ISTP\",\"ENFJ\",\"INFJ\",\"ENFJ\",\"INFJ\",\"INFP\",\"INTP\",\"INFP\",\"INFP\",\"INFJ\",\"INTP\",\"INFJ\",\"ENFP\",\"ISTJ\",\"ENFP\",\"INFP\",\"ISTJ\",\"ENTP\",\"INFJ\",\"ENTJ\",\"ENFP\",\"INTP\",\"ENTP\",\"ISFP\",\"INFP\",\"INFP\",\"INFP\",\"ENTP\",\"INTJ\",\"INFP\",\"ENFP\",\"INFJ\",\"ISTP\",\"INFP\",\"INFJ\",\"INFP\",\"ENTJ\",\"INTP\",\"INFJ\",\"INFP\",\"INFP\",\"INFP\",\"INTP\",\"INFJ\",\"ESFJ\",\"ENFP\",\"ENFJ\",\"INFP\",\"INTJ\",\"ENTP\",\"ISFP\",\"INFP\",\"INFJ\",\"INTJ\",\"INFP\",\"INTP\",\"INFP\",\"INFP\",\"INFJ\",\"INFJ\",\"INTJ\",\"ENTJ\",\"ESFJ\",\"INTJ\",\"INTP\",\"INTP\",\"INTP\",\"ENFP\",\"ENTP\",\"INTP\",\"ISFJ\",\"ENTP\",\"INTP\",\"ENTJ\",\"INTJ\",\"ENFP\",\"INTP\",\"INFP\",\"INTP\",\"ENTP\",\"INFJ\",\"INTP\",\"INFJ\",\"ISFP\",\"ENTP\",\"INFP\",\"INTP\",\"INFP\",\"INFP\",\"INTJ\",\"INTJ\",\"INTP\",\"INTP\",\"INFJ\",\"INTP\",\"ISTP\",\"INTJ\",\"ISFP\",\"INTJ\",\"INTP\",\"INFJ\",\"ENFP\",\"INTJ\",\"ISTP\",\"INFJ\",\"ENFP\",\"ENFP\",\"INFP\",\"ENFP\",\"INFP\",\"INFJ\",\"ENTP\",\"INTJ\",\"ENTP\",\"ENFP\",\"INTP\",\"INFP\",\"INFJ\",\"ENFP\",\"INFJ\",\"INFP\",\"INFP\",\"ISFP\",\"INTJ\",\"INTP\",\"INFP\",\"ISFJ\",\"INFP\",\"INFJ\",\"INFJ\",\"ENFP\",\"INFJ\",\"ESFJ\",\"INTJ\",\"INFJ\",\"INFJ\",\"INFP\",\"INTJ\",\"ISFP\",\"INTP\",\"INFP\",\"INFP\",\"INTJ\",\"ENFJ\",\"INFJ\",\"ESFJ\",\"INFP\",\"ENTJ\",\"INFP\",\"INFP\",\"INFP\",\"ENTP\",\"INFP\",\"INFJ\",\"INTP\",\"ISFP\",\"INTJ\",\"INFJ\",\"ISFP\",\"INFJ\",\"INFJ\",\"INFP\",\"INFP\",\"ENTJ\",\"INTP\",\"ENFP\",\"ENFP\",\"INFJ\",\"ENFP\",\"INFJ\",\"ENFP\",\"ENFP\",\"INTJ\",\"ENTP\",\"INFJ\",\"INFJ\",\"ENFJ\",\"INFJ\",\"INFJ\",\"INFJ\",\"INFJ\",\"INTJ\",\"INTP\",\"ENTP\",\"INFP\",\"INTJ\",\"ISTP\",\"INFP\",\"INFJ\",\"ENFP\",\"ENTJ\",\"INTJ\",\"INFP\",\"ENTP\",\"ISTP\",\"INFP\",\"ENFP\",\"ISFP\",\"ISFP\",\"INTP\",\"ENTP\",\"INFP\",\"INFJ\",\"INFJ\",\"INTP\",\"INFJ\",\"INTP\",\"INFP\",\"INFP\",\"INTP\",\"INFJ\",\"ENFP\",\"INFJ\",\"INFP\",\"INFJ\",\"INFP\",\"INFJ\",\"INTP\",\"ISFP\",\"INTP\",\"INTP\",\"ISTP\",\"INFP\",\"ENFP\",\"INFJ\",\"INFP\",\"ENTP\",\"ENTJ\",\"ENFP\",\"INFP\",\"INFJ\",\"ISTP\",\"INFP\",\"INFP\",\"INFP\",\"INFJ\",\"INTP\",\"INFJ\",\"INTP\",\"INFP\",\"INFJ\",\"ENFP\",\"INFJ\",\"INFP\",\"ISFP\",\"INTP\",\"INFP\",\"INFJ\",\"INFJ\",\"ENFP\",\"INFJ\",\"INFP\",\"INFP\",\"INFJ\",\"ENTP\",\"INFP\",\"INFP\",\"INTJ\",\"ENFP\",\"ENTP\",\"ENFP\",\"ENFP\",\"INFJ\",\"INTP\",\"INFP\",\"ISFJ\",\"INTJ\",\"INFP\",\"INTJ\",\"INTJ\",\"INTP\",\"INFP\",\"ENFP\",\"ENTP\",\"INFP\",\"ISTP\",\"INTP\",\"ESTP\",\"ENTJ\",\"ENTP\",\"INFP\",\"INTJ\",\"ISTP\",\"ENFP\",\"INFP\",\"ENFP\",\"ENFP\",\"INFP\",\"INFP\",\"ENTP\",\"ISFP\",\"INTP\",\"INFJ\",\"ENTP\",\"INFJ\",\"INFP\",\"INFP\",\"INFP\",\"ENTP\",\"INTP\",\"INFJ\",\"INTP\",\"INTP\",\"INFP\",\"ISFP\",\"INFP\",\"INTP\",\"INFP\",\"INTJ\",\"ISFP\",\"INFJ\",\"INFP\",\"INTP\",\"INFJ\",\"INFJ\",\"INFP\",\"INTP\",\"ISFP\",\"INFJ\",\"ISFP\",\"INTP\",\"INFJ\",\"ENFP\",\"INFP\",\"ENTJ\",\"INFP\",\"INFP\",\"ENTP\",\"ENFP\",\"INFJ\",\"INFP\",\"INFP\",\"INFJ\",\"INFP\",\"INTP\",\"ISFP\",\"INFJ\",\"ESFJ\",\"INFJ\",\"INTJ\",\"ENTJ\",\"INTP\",\"INFP\",\"INTJ\",\"INFJ\",\"INFP\",\"INTP\",\"ENTP\",\"INTP\",\"INTJ\",\"INTJ\",\"INTJ\",\"INTP\",\"ENFP\",\"ISFP\",\"INTJ\",\"ISFP\",\"INTP\",\"ISTP\",\"INTP\",\"INFP\",\"INFP\",\"INFP\",\"INTP\",\"INTP\",\"ISTP\",\"ESTP\",\"INTJ\",\"INFP\",\"ENTJ\",\"INFJ\",\"INFP\",\"INTJ\",\"INTP\",\"ENFP\",\"INFJ\",\"INFP\",\"INTP\",\"INTJ\",\"ENTP\",\"INFP\",\"INFP\",\"INTJ\",\"INFJ\",\"INTP\",\"ENTP\",\"INTP\",\"INFJ\",\"INFP\",\"INTP\",\"ENFP\",\"INFJ\",\"INTJ\",\"INTP\",\"INTJ\",\"INFP\",\"INTP\",\"ENFP\",\"ENFP\",\"INFJ\",\"INFJ\",\"INFP\",\"ENFJ\",\"INTP\",\"INTP\",\"ESTP\",\"INTP\",\"ISTJ\",\"INFP\",\"ENTP\",\"INFJ\",\"ENTP\",\"ENFP\",\"ISFJ\",\"ENTP\",\"INFP\",\"INFJ\",\"ISTP\",\"ENFJ\",\"INFJ\",\"INFP\",\"INFP\",\"INTP\",\"INTJ\",\"INTP\",\"ENFP\",\"INFP\",\"INTP\",\"INFJ\",\"INTJ\",\"INFJ\",\"ENTP\",\"ENTP\",\"INTP\",\"INTP\",\"INFJ\",\"INTP\",\"ISTJ\",\"ENFP\",\"ENTP\",\"INFJ\",\"INFJ\",\"ENTP\",\"INFJ\",\"INFP\",\"ENFP\",\"INFJ\",\"INTJ\",\"ISFP\",\"INTJ\",\"ISTJ\",\"INFJ\",\"INTJ\",\"INTP\",\"INFJ\",\"INFP\",\"ENFP\",\"INFP\",\"INFP\",\"INFP\",\"INTP\",\"INFP\",\"INTP\",\"INTP\",\"ENTP\",\"INTP\",\"INFP\",\"INTP\",\"ENTP\",\"INFP\",\"INFP\",\"INFJ\",\"ISTJ\",\"INTP\",\"INFP\",\"ENFP\",\"ENTJ\",\"INTJ\",\"INFP\",\"ENFP\",\"INTP\",\"INFJ\",\"INFJ\",\"INFP\",\"INTJ\",\"ISFJ\",\"INTP\",\"ISFJ\",\"INTP\",\"INFP\",\"INFP\",\"INFJ\",\"INTP\",\"ISTJ\",\"INTJ\",\"ISTP\",\"INTP\",\"INTJ\",\"INTJ\",\"INFJ\",\"INTP\",\"ISTP\",\"INTP\",\"INTP\",\"INFJ\",\"INFP\",\"INFP\",\"INTP\",\"INTJ\",\"INFP\",\"INTJ\",\"INFP\",\"ISFP\",\"INTJ\",\"INFP\",\"ENTP\",\"INFP\",\"ENFP\",\"ENTJ\",\"ENTJ\",\"INFP\",\"INTP\",\"INFJ\",\"INTP\",\"INFP\",\"INTP\",\"INFP\",\"ENFP\",\"INTJ\",\"ENFP\",\"INFP\",\"INFP\",\"INTP\",\"ENTJ\",\"INFP\",\"INFP\",\"INTP\",\"INFP\",\"INTJ\",\"ENTP\",\"ISTP\",\"INTJ\",\"INFP\",\"INFJ\",\"INTJ\",\"ENFP\",\"INTJ\",\"ISTJ\",\"ENTJ\",\"INTP\",\"INFJ\",\"ENTJ\",\"ISTP\",\"INTP\",\"ENTP\",\"ESFJ\",\"ISFJ\",\"INTJ\",\"INTJ\",\"ENTJ\",\"INTJ\",\"INTJ\",\"ENTP\",\"INFJ\",\"ISTP\",\"INFP\",\"ENTP\",\"INFP\",\"ESTP\",\"INFP\",\"ENFJ\",\"INFP\",\"INFJ\",\"INFJ\",\"ESTP\",\"INFJ\",\"INFP\",\"INFP\",\"INTJ\",\"INFJ\",\"ENTP\",\"ENFP\",\"INTP\",\"INFJ\",\"INFJ\",\"INTJ\",\"INTJ\",\"INFP\",\"ISFP\",\"INFJ\",\"ISFJ\",\"INFP\",\"INFP\",\"ENTP\",\"INTJ\",\"INTP\",\"INTP\",\"ENFP\",\"INFP\",\"ESFP\",\"INFP\",\"INTJ\",\"INTP\",\"ISFJ\",\"INTP\",\"INTJ\",\"INTJ\",\"INFJ\",\"INFP\",\"ENTP\",\"ENTP\",\"INFP\",\"INFP\",\"INFP\",\"ENTP\",\"INTJ\",\"INFP\",\"INFJ\",\"INFJ\",\"INTP\",\"INTJ\",\"INTJ\",\"ISTP\",\"INTJ\",\"INFP\",\"ISTJ\",\"INTP\",\"INTP\",\"ISFJ\",\"ISTP\",\"INTJ\",\"INTP\",\"INFJ\",\"INTP\",\"INTJ\",\"ISTJ\",\"ENFJ\",\"INFJ\",\"INTJ\",\"ENFP\",\"INFP\",\"INFJ\",\"ISTP\",\"INTP\",\"ESTP\",\"ENTP\",\"ISTJ\",\"INTP\",\"INFJ\",\"INFJ\",\"ENFP\",\"INTJ\",\"INFP\",\"INTJ\",\"INFP\",\"ENFP\",\"ENFP\",\"INFP\",\"INTJ\",\"ENFP\",\"ENTP\",\"INTP\",\"ENFP\",\"INFJ\",\"INFP\",\"INTJ\",\"ENTP\",\"ENTP\",\"ISTP\",\"INFJ\",\"INTJ\",\"ENTP\",\"INFJ\",\"INFP\",\"ESTJ\",\"INTJ\",\"ENFP\",\"INTJ\",\"INTJ\",\"ISFP\",\"INFP\",\"ENTP\",\"INFJ\",\"INFP\",\"INFJ\",\"INTJ\",\"INFJ\",\"ISFJ\",\"INTJ\",\"ISFP\",\"INFP\",\"INFP\",\"INFJ\",\"ENFP\",\"INFP\",\"ENFP\",\"INFP\",\"INTJ\",\"INFJ\",\"INFP\",\"INFP\",\"INTP\",\"ISFP\",\"INFJ\",\"INTP\",\"INTP\",\"INTP\",\"INTJ\",\"INTJ\",\"INTP\",\"ISTJ\",\"INTP\",\"INFJ\",\"INFP\",\"INFJ\",\"ENFP\",\"ISFP\",\"ENFP\",\"ESTP\",\"INTJ\",\"INTJ\",\"INTJ\",\"INFP\",\"INTP\",\"INFP\",\"ENFJ\",\"INTP\",\"ENTP\",\"INFP\",\"INFJ\",\"INFJ\",\"INTJ\",\"INFJ\",\"ENFP\",\"INFP\",\"INFP\",\"INTJ\",\"INFJ\",\"INFP\",\"INFP\",\"INFJ\",\"INTP\",\"INTJ\",\"INFP\",\"INTJ\",\"INTJ\",\"INFJ\",\"INFJ\",\"ENTJ\",\"ENTJ\",\"ISFJ\",\"INTJ\",\"INFJ\",\"INFP\",\"INFJ\",\"INFP\",\"INFJ\",\"ISTP\",\"INTJ\",\"INTP\",\"INTP\",\"INFP\",\"INFJ\",\"INFJ\",\"ENFP\",\"ENFP\",\"ENFJ\",\"INFJ\",\"ENFP\",\"INTP\",\"INFP\",\"ENFP\",\"ENFJ\",\"INTP\",\"ISTJ\",\"INTP\",\"INFJ\",\"INTJ\",\"INFJ\",\"ENFP\",\"INFJ\",\"INTJ\",\"INFJ\",\"ENTJ\",\"ENTP\",\"INTJ\",\"ISFP\",\"INFP\",\"INTJ\",\"INTP\",\"INFJ\",\"INFJ\",\"INFP\",\"ENFP\",\"ISFJ\",\"INTP\",\"INFJ\",\"INTP\",\"INTP\",\"ENTP\",\"ESFJ\",\"INFJ\",\"ISTP\",\"ENFP\",\"INFJ\",\"INTJ\",\"INTJ\",\"ENFP\",\"INFP\",\"INFJ\",\"ENTP\",\"INFJ\",\"ENFJ\",\"INFP\",\"ENTP\",\"INFJ\",\"ENFP\",\"ISFP\",\"INTJ\",\"INFJ\",\"ENFP\",\"ENTJ\",\"ESFJ\",\"INFJ\",\"INFP\",\"INTJ\",\"INTP\",\"INTP\",\"ENFJ\",\"INFP\",\"ENTP\",\"INFP\",\"ENTP\",\"ESTP\",\"ISTJ\",\"INTP\",\"INTJ\",\"INFJ\",\"INFJ\",\"ENFP\",\"ISTP\",\"ENFP\",\"INFP\",\"ENTP\",\"INTJ\",\"INFJ\",\"INTP\",\"INFP\",\"INFJ\",\"INFP\",\"INFP\",\"INTP\",\"INFJ\",\"INTP\",\"INFJ\",\"INFJ\",\"INFJ\",\"INFP\",\"INFJ\",\"INFP\",\"INFP\",\"ISFP\",\"ISFP\",\"ENFP\",\"INFJ\",\"INFP\",\"INFJ\",\"ENTP\",\"INTJ\",\"INTJ\",\"INFP\",\"INFJ\",\"INTJ\",\"ENTP\",\"ISTJ\",\"INFP\",\"ENTJ\",\"INFP\",\"INFP\",\"INFP\",\"ISFP\",\"INFP\",\"INFJ\",\"ENFJ\",\"ENTP\",\"ENFP\",\"ENFP\",\"ENTJ\",\"INTP\",\"INTJ\",\"ENTJ\",\"INFP\",\"INFP\",\"INFJ\",\"ENTP\",\"ENFJ\",\"INFP\",\"INFJ\",\"INTJ\",\"INTJ\",\"INTP\",\"INTJ\",\"INTP\",\"INTJ\",\"INTJ\",\"INTJ\",\"ENFJ\",\"ENTJ\",\"ENFP\",\"ENFP\",\"INFJ\",\"ENFP\",\"INTJ\",\"ENTP\",\"INTJ\",\"INFP\",\"INFP\",\"INFJ\",\"INFP\",\"INFJ\",\"INTP\",\"INTP\",\"ENFJ\",\"INTJ\",\"INTP\",\"ISFJ\",\"INTJ\",\"INFP\",\"ISTP\",\"ESTJ\",\"INFJ\",\"ENTJ\",\"ENFJ\",\"INFJ\",\"INTP\",\"ESTJ\",\"INFP\",\"INTP\",\"ENTP\",\"INFP\",\"INFJ\",\"INTJ\",\"INTP\",\"ESFJ\",\"ENTP\",\"INFP\",\"ENTJ\",\"INFJ\",\"ENTJ\",\"INTJ\",\"INTP\",\"INFJ\",\"ENFP\",\"INFJ\",\"ENFP\",\"INFJ\",\"INFP\",\"ISTP\",\"INFP\",\"ENFP\",\"INFJ\",\"ESFP\",\"INFJ\",\"ENTP\",\"ENTP\",\"INTP\",\"INTP\",\"INFP\",\"ESTP\",\"INFP\",\"ISFJ\",\"ENTP\",\"ENFP\",\"ENFP\",\"INFP\",\"ENFP\",\"ENTJ\",\"ENTP\",\"INTP\",\"ENTP\",\"INTP\",\"ENTJ\",\"INFJ\",\"INFJ\",\"INFP\",\"INTJ\",\"INFJ\",\"INFP\",\"INFP\",\"ISFJ\",\"INFJ\",\"INFP\",\"INFJ\",\"ENTP\",\"ISFP\",\"INFP\",\"INFP\",\"INFJ\",\"INFP\",\"INTJ\",\"INFP\",\"INFP\",\"INTJ\",\"INTP\",\"ENTJ\",\"INTJ\",\"INTP\",\"ENTP\",\"INFJ\",\"INFJ\",\"INFP\",\"ENFJ\",\"INFP\",\"ENFP\",\"INTP\",\"INTJ\",\"INTJ\",\"INFJ\",\"INFJ\",\"ISTP\",\"INTJ\",\"ENFP\",\"INFP\",\"INTP\",\"INFP\",\"ENTP\",\"INFJ\",\"INFP\",\"INTP\",\"INTP\",\"INFP\",\"ESTJ\",\"ISTJ\",\"ISTP\",\"ENFP\",\"INFP\",\"INTP\",\"INFP\",\"INTP\",\"ENTJ\",\"INFP\",\"INFP\",\"ENFP\",\"INFJ\",\"ENTP\",\"ENFP\",\"INTP\",\"ENFP\",\"INFP\",\"ESFJ\",\"INFJ\",\"INTP\",\"ENFP\",\"INTJ\",\"ENTP\",\"ESTP\",\"INFJ\",\"ENFP\",\"INFJ\",\"INFP\",\"ISFP\",\"ISTP\",\"INTP\",\"ENTP\",\"INTP\",\"INTJ\",\"INTJ\",\"INFP\",\"INTP\",\"ENTP\",\"INTJ\",\"ENTP\",\"INFJ\",\"INTP\",\"INFP\",\"ENTP\",\"INTP\",\"ENTP\",\"INFJ\",\"ENFP\",\"INFP\",\"INTJ\",\"INFJ\",\"ISFP\",\"INFP\",\"ISFP\",\"INFJ\",\"INFJ\",\"ENTP\",\"ISTJ\",\"INFJ\",\"INFP\",\"INTP\",\"INFJ\",\"ENFP\",\"INFP\",\"INFP\",\"INFP\",\"INTP\",\"ENTP\",\"ENFP\",\"INTP\",\"INFP\",\"INTJ\",\"INFP\",\"INFP\",\"INTJ\",\"INTJ\",\"INFP\",\"ENTP\",\"INFP\",\"INTJ\",\"ISFJ\",\"ESTP\",\"INFP\",\"ISTP\",\"INTP\",\"ENFP\",\"INFJ\",\"INTJ\",\"INFP\",\"INTP\",\"INTJ\",\"ENFP\",\"ENTP\",\"INFJ\",\"INFJ\",\"ISTJ\",\"INFP\",\"INTJ\",\"INTP\",\"INFP\",\"INFJ\",\"ENTP\",\"ISTP\",\"INFP\",\"INTJ\",\"INFP\",\"INTP\",\"INFJ\",\"INFP\",\"INFJ\",\"ENFP\",\"ENTJ\",\"ENFP\",\"INFP\",\"ESTP\",\"INFP\",\"INFJ\",\"INFJ\",\"INFP\",\"ENFJ\",\"INFJ\",\"ENTJ\",\"INFP\",\"INFJ\",\"INFJ\",\"INFJ\",\"INFP\",\"INFP\",\"INFP\",\"INTJ\",\"INFJ\",\"ENFP\",\"INFJ\",\"ENFP\",\"ENTP\",\"ENFJ\",\"ENFP\",\"ENTJ\",\"INFP\",\"INTJ\",\"INFJ\",\"ENTP\",\"ENFP\",\"INFP\",\"ISFP\",\"INFJ\",\"INFJ\",\"INTJ\",\"ISTP\",\"ENTP\",\"INFJ\",\"ISFP\",\"ENTP\",\"INFP\",\"INFP\",\"INTP\",\"INFJ\",\"ENTP\",\"INTP\",\"ISTJ\",\"INTP\",\"INTJ\",\"INFP\",\"INFP\",\"INTP\",\"INFP\",\"INFJ\",\"ESTP\",\"INFP\",\"ISTP\",\"ENTP\",\"INFP\",\"INTJ\",\"INFJ\",\"INFP\",\"INTP\",\"INTJ\",\"INFJ\",\"INFJ\",\"ENTP\",\"INFP\",\"INFP\",\"INTP\",\"INTJ\",\"INFJ\",\"ISTJ\",\"ENTP\",\"INFJ\",\"ISTP\",\"INTP\",\"INTJ\",\"INTP\",\"INTJ\",\"ENTJ\",\"INFP\",\"INFP\",\"INFJ\",\"ISTP\",\"ENFP\",\"INFJ\",\"ISTP\",\"ENFJ\",\"INTJ\",\"INTP\",\"ESFJ\",\"INTP\",\"ISFP\",\"ESFJ\",\"INFJ\",\"ISTP\",\"ISFJ\",\"ISTP\",\"ISTJ\",\"INTP\",\"INTP\",\"INTP\",\"INFJ\",\"INFP\",\"INFJ\",\"ISTP\",\"INFP\",\"INFJ\",\"ENFP\",\"INTJ\",\"INTP\",\"INFP\",\"INFJ\",\"INFP\",\"ENFP\",\"INFP\",\"ISFP\",\"INTP\",\"ISFP\",\"ISFP\",\"INFP\",\"INTP\",\"INFP\",\"INFJ\",\"INFP\",\"INTJ\",\"INTJ\",\"ENTP\",\"INFP\",\"ENTP\",\"INTJ\",\"INTJ\",\"ENFP\",\"INTP\",\"INTP\",\"ENTP\",\"INFP\",\"INFP\",\"INTP\",\"ENTP\",\"INTP\",\"ENTP\",\"INFJ\",\"INFP\",\"ENFP\",\"INFJ\",\"INFJ\",\"INFP\",\"INTJ\",\"INFP\",\"INFP\",\"ENFJ\",\"INFP\",\"ESTP\",\"INFP\",\"INFP\",\"INTP\",\"INTJ\",\"ENTP\",\"ENFJ\",\"INTJ\",\"INTP\",\"ISFP\",\"INTP\",\"INTP\",\"ENFP\",\"INFJ\",\"INFP\",\"INTJ\",\"INTP\",\"INTP\",\"INTP\",\"INTJ\",\"ISTJ\",\"INTJ\",\"ENTP\",\"INFP\",\"INFJ\",\"INTP\",\"INTP\",\"INFP\",\"INFP\",\"INFP\",\"INTJ\",\"INTJ\",\"INTJ\",\"ENFP\",\"ENTP\",\"ENFP\",\"INFP\",\"ENTP\",\"INFJ\",\"INFP\",\"INFP\",\"INFJ\",\"ENFP\",\"ISTP\",\"INFJ\",\"ENTP\",\"INTP\",\"ESFP\",\"ENFP\",\"ENTJ\",\"ESFJ\",\"INTJ\",\"INTJ\",\"INFJ\",\"INTP\",\"ENTP\",\"ISTP\",\"ISTP\",\"INFJ\",\"ENTP\",\"INFP\",\"ENFP\",\"INFJ\",\"INFP\",\"INFP\",\"ENTP\",\"INFP\",\"ENTJ\",\"ENTP\",\"ISTP\",\"INTJ\",\"ENTP\",\"INTJ\",\"INFP\",\"INFJ\",\"ISTJ\",\"INTJ\",\"INTJ\",\"ISTJ\",\"ENFP\",\"ENTP\",\"INFJ\",\"INFP\",\"INTJ\",\"INTP\",\"INFP\",\"INTP\",\"INFP\",\"INTJ\",\"INTJ\",\"ENTP\",\"INTP\",\"INFJ\",\"INFJ\",\"ENFP\",\"ISFP\",\"ENTP\",\"ENFP\",\"INFP\",\"INTP\",\"INFP\",\"ISFJ\",\"ENTP\",\"INTJ\",\"INTP\",\"INFP\",\"ENTP\",\"ENFJ\",\"INFJ\",\"INTP\",\"ISFP\",\"INFP\",\"INTP\",\"ENTP\",\"ISTJ\",\"INTP\",\"INFJ\",\"ISFP\",\"INTP\",\"INFJ\",\"ENTP\",\"INTP\",\"INFJ\",\"INFJ\",\"ENTJ\",\"INTP\",\"INFJ\",\"INFP\",\"ESTJ\",\"ENFJ\",\"INFJ\",\"INFP\",\"INFP\",\"INFP\",\"INFP\",\"INFJ\",\"INFP\",\"INTP\",\"INTP\",\"ENTP\",\"ISTJ\",\"INFP\",\"INFJ\",\"ISTJ\",\"INFJ\",\"INFJ\",\"INFP\",\"INTJ\",\"INTJ\",\"INTP\",\"INTJ\",\"INTJ\",\"INFP\",\"INTJ\",\"ENTP\",\"INTP\",\"INFJ\",\"INFP\",\"INTJ\",\"INTJ\",\"INTP\",\"INTP\",\"ENFJ\",\"INTP\",\"INTP\",\"ENTP\",\"INTP\",\"ISTJ\",\"INTJ\",\"ISFP\",\"INTP\",\"INFJ\",\"INFP\",\"ISFJ\",\"INTJ\",\"INFJ\",\"ENFP\",\"ENTJ\",\"ISFP\",\"INFJ\",\"INFP\",\"ENFJ\",\"ISTJ\",\"ENTP\",\"ISTJ\",\"INTP\",\"INTJ\",\"ISFP\",\"INFP\",\"INTJ\",\"INTJ\",\"INFJ\",\"ENFJ\",\"ENTP\",\"ENTJ\",\"ENTJ\",\"INFJ\",\"INFP\",\"INTJ\",\"ENFP\",\"INFP\",\"ENTP\",\"INFP\",\"INFJ\",\"ISTP\",\"INFJ\",\"INTP\",\"INFP\",\"INTP\",\"ENFP\",\"INTJ\",\"INFP\",\"INTP\",\"INFJ\",\"INFP\",\"ENTP\",\"INTP\",\"INTJ\",\"INFJ\",\"INFP\",\"INFP\",\"INTP\",\"ESFP\",\"INTP\",\"INFP\",\"ENTP\",\"INTJ\",\"ISFP\",\"INFJ\",\"INFP\",\"ENFP\",\"INFJ\",\"INFP\",\"INFP\",\"INTJ\",\"INFP\",\"INTJ\",\"ENFP\",\"ISTJ\",\"INFP\",\"INTJ\",\"INFP\",\"INTJ\",\"ENFP\",\"ENFP\",\"ENFJ\",\"INTJ\",\"INTJ\",\"INTJ\",\"ENFP\",\"INTP\",\"INTJ\",\"INFJ\",\"ISTP\",\"INFP\",\"ENTP\",\"INTP\",\"ENTP\",\"INFP\",\"ENFP\",\"ENFP\",\"INTP\",\"ISFJ\",\"INFP\",\"ENFP\",\"INTP\",\"INTJ\",\"INTJ\",\"INTP\",\"INFP\",\"INFP\",\"ENTP\",\"ENFP\",\"INTJ\",\"INTP\",\"INTJ\",\"ISFP\",\"INTP\",\"ENFJ\",\"INFP\",\"ISFJ\",\"INFP\",\"INFJ\",\"INTP\",\"INFP\",\"ESFP\",\"ENTP\",\"INFP\",\"INFJ\",\"INTP\",\"INTP\",\"INFJ\",\"INTJ\",\"INTP\",\"ENTP\",\"INFJ\",\"ENTJ\",\"INFP\",\"ENTP\",\"ISFJ\",\"INFP\",\"INFJ\",\"ENTJ\",\"ENFP\",\"ENFJ\",\"ISTP\",\"INFJ\",\"ISFJ\",\"ISFJ\",\"INFJ\",\"ISFP\",\"INTP\",\"ENTJ\",\"ENFP\",\"INFJ\",\"INFJ\",\"ESTP\",\"INFP\",\"INTP\",\"INFJ\",\"INTP\",\"INTP\",\"ENFJ\",\"ISFP\",\"INTJ\",\"INTJ\",\"ENTP\",\"INFP\",\"ENFP\",\"ISFP\",\"ENTP\",\"INFJ\",\"ENTP\",\"ISTP\",\"ISTP\",\"INFP\",\"INFJ\",\"INFP\",\"INTJ\",\"INTP\",\"INTJ\",\"INTJ\",\"INFP\",\"INTP\",\"INFP\",\"ENFP\",\"ISTP\",\"INTP\",\"INTJ\",\"INFP\",\"ISTP\",\"INTJ\",\"INFJ\",\"INFP\",\"INFP\",\"INFP\",\"ENTP\",\"INFJ\",\"INFJ\",\"INFP\",\"INTJ\",\"INFP\",\"INTP\",\"INFP\",\"ENTJ\",\"INTP\",\"INTJ\",\"INFP\",\"INTJ\",\"INTJ\",\"INTJ\",\"INFJ\",\"ENFP\",\"ENTP\",\"ENTP\",\"ENTP\",\"INFJ\",\"ENFP\",\"INFP\",\"ISTJ\",\"INFP\",\"ISTP\",\"INFJ\",\"INTJ\",\"INFP\",\"ISFP\",\"INTJ\",\"ENFP\",\"INTP\",\"ISFJ\",\"ESTP\",\"INFP\",\"INTP\",\"INFP\",\"ENFP\",\"INFJ\",\"INTP\",\"INFJ\",\"ISTJ\",\"ISTP\",\"INFP\",\"INFP\",\"INTJ\",\"INFP\",\"INTJ\",\"ENTJ\",\"ISTJ\",\"ENFP\",\"INTJ\",\"INFP\",\"INFP\",\"ENFP\",\"INFJ\",\"INFJ\",\"INFP\",\"INFP\",\"ISFP\",\"INFP\",\"ENTP\",\"INFJ\",\"INFP\",\"INFP\",\"INFJ\",\"INTJ\",\"ISTP\",\"ISFP\",\"ENTJ\",\"INFP\",\"INFP\",\"ENFP\",\"INFP\",\"INFP\",\"ENFP\",\"ISTJ\",\"ISTJ\",\"INTP\",\"INTJ\",\"INTJ\",\"INTP\",\"ENTJ\",\"ISFP\",\"INTP\",\"INTP\",\"INTP\",\"INTP\",\"INFP\",\"ENTP\",\"INFJ\",\"INTJ\",\"ENTP\",\"INFP\",\"INFJ\",\"INFP\",\"INFJ\",\"INFJ\",\"INFJ\",\"INFJ\",\"INFP\",\"INFP\",\"ESFJ\",\"INFP\",\"INFJ\",\"ENFP\",\"INFP\",\"INTP\",\"INTP\",\"INFP\",\"ISTP\",\"INFP\",\"INFJ\",\"INTP\",\"ENTP\",\"INTP\",\"INFJ\",\"INFP\",\"INTJ\",\"INFJ\",\"INFP\",\"INTP\",\"ENTP\",\"INTP\",\"INTP\",\"ISTJ\",\"INFP\",\"ENFP\",\"INFP\",\"ENTJ\",\"INTJ\",\"INFP\",\"INFJ\",\"ENFP\",\"ISFP\",\"INFJ\",\"INFJ\",\"INTP\",\"INTJ\",\"ISFP\",\"INFP\",\"ISTP\",\"INFJ\",\"ISFP\",\"INTJ\",\"ESTJ\",\"INFP\",\"ENTP\",\"INFP\",\"INFP\",\"INTP\",\"INTP\",\"ISFJ\",\"ENTJ\",\"INFP\",\"INTJ\",\"ISTJ\",\"ESFJ\",\"INTJ\",\"ISTJ\",\"ENTP\",\"INTP\",\"ENFP\",\"ENTJ\",\"INFJ\",\"INFJ\",\"INFP\",\"ISFP\",\"INFP\",\"INTP\",\"INFJ\",\"INTJ\",\"INFJ\",\"ENFP\",\"INTP\",\"INFP\",\"INFP\",\"ENTP\",\"INFP\",\"INTJ\",\"ENTP\",\"ISFP\",\"INTJ\",\"INFP\",\"INTJ\",\"INTJ\",\"ENFP\",\"ISFJ\",\"ENTJ\",\"ENFP\",\"INTJ\",\"INFP\",\"INTP\",\"ISFJ\",\"INFP\",\"ENFP\",\"INTJ\",\"INFP\",\"ENTJ\",\"INTJ\",\"INFJ\",\"INTP\",\"ENTP\",\"ISFP\",\"INTP\",\"ENFP\",\"INFP\",\"INTP\",\"INTJ\",\"ENFP\",\"INFP\",\"INFP\",\"ISTP\",\"INTP\",\"INFP\",\"INTP\",\"INFP\",\"ISFP\",\"INFP\",\"INFJ\",\"ENFP\",\"INTJ\",\"ISTP\",\"ENFP\",\"INTP\",\"INFP\",\"INTP\",\"INTP\",\"ENTP\",\"INTP\",\"INFJ\",\"ENTP\",\"INTP\",\"INFJ\",\"ENTP\",\"ENFJ\",\"ISTJ\",\"INFP\",\"INTP\",\"INFJ\",\"ISFP\",\"INFP\",\"INTP\",\"INTJ\",\"INTP\",\"ENTP\",\"INTJ\",\"INFJ\",\"ISFP\",\"INTP\",\"ENTP\",\"ENTJ\",\"ENFP\",\"ISFJ\",\"INTJ\",\"ISFJ\",\"ENFP\",\"INTP\",\"INFP\",\"INFP\",\"INTP\",\"ENFP\",\"ISTP\",\"INFJ\",\"INFJ\",\"INFP\",\"INTJ\",\"INFJ\",\"INFP\",\"ENTJ\",\"INTJ\",\"ISTP\",\"INFP\",\"INFP\",\"ISTJ\",\"INFJ\",\"INTJ\",\"ISFP\",\"INTJ\",\"ISTP\",\"INFJ\",\"ISTP\",\"ENTP\",\"ENTJ\",\"ESTP\",\"INTJ\",\"ISFJ\",\"INTP\",\"INFP\",\"INFJ\",\"INFJ\",\"INTP\",\"INFP\",\"ENTP\",\"ENFP\",\"INFP\",\"ENFP\",\"INTJ\",\"INTJ\",\"INTP\",\"INFP\",\"INFP\",\"INFP\",\"INFP\",\"INFJ\",\"ENFP\",\"INFJ\",\"ISFJ\",\"ENTP\",\"INFP\",\"INFJ\",\"ENFP\",\"ENTP\",\"INFJ\",\"INFJ\",\"ESFP\",\"INFP\",\"INTJ\",\"ENFP\",\"INFP\",\"INFP\",\"ENFP\",\"ISTP\",\"ESFP\",\"ISTP\",\"INTP\",\"INTJ\",\"ENTJ\",\"INFP\",\"ISTP\",\"ENFJ\",\"INFP\",\"ENFJ\",\"INTJ\",\"ISTP\",\"INTP\",\"INTJ\",\"INTP\",\"INTJ\",\"INFJ\",\"INTJ\",\"INTP\",\"ENFP\",\"INFP\",\"ENTP\",\"INFP\",\"INFP\",\"INTP\",\"ISFP\",\"ISFP\",\"INTJ\",\"ENFP\",\"ENTP\",\"INFP\",\"INFP\",\"ENTP\",\"ENFP\",\"ENFP\",\"ENTP\",\"INFJ\",\"INTJ\",\"INTP\",\"INTP\",\"ISTP\",\"ISFJ\",\"INFJ\",\"INFJ\",\"INFP\",\"ENTJ\",\"INFJ\",\"INFP\",\"INTJ\",\"INFJ\",\"ENTJ\",\"INTP\",\"ISFJ\",\"ENTP\",\"INFP\",\"INTP\",\"INTP\",\"ENFP\",\"INFJ\",\"ESTP\",\"INFJ\",\"INTP\",\"INFP\",\"ENTJ\",\"ENTP\",\"ISTP\",\"INTP\",\"INFJ\",\"ISFP\",\"ISFJ\",\"ENTP\",\"INTJ\",\"ENTP\",\"INTP\",\"INFP\",\"INTJ\",\"ISTP\",\"INFJ\",\"INTP\",\"INFJ\",\"INTP\",\"INFP\",\"INTJ\",\"INFJ\",\"INTJ\",\"ENTP\",\"INFP\",\"INTJ\",\"INTP\",\"INFP\",\"INTJ\",\"INFP\",\"INFP\",\"INTP\",\"INFJ\",\"INTJ\",\"INFP\",\"INFP\",\"ISTP\",\"INFP\",\"ISTJ\",\"INTJ\",\"ESFJ\",\"INTP\",\"INFJ\",\"ISTP\",\"ENTJ\",\"INFP\",\"ENFP\",\"INTJ\",\"INTP\",\"INTJ\",\"INTJ\",\"INFP\",\"INFJ\",\"INTJ\",\"ESTP\",\"INFJ\",\"INTJ\",\"INTP\",\"INTP\",\"ISFP\",\"INTP\",\"ISFP\",\"INFP\",\"INFP\",\"INFJ\",\"INTP\",\"INTP\",\"INTJ\",\"ENTP\",\"ENTP\",\"ISTJ\",\"ISTP\",\"INFP\",\"ESFJ\",\"INFP\",\"ISTP\",\"ENFP\",\"INTP\",\"INFJ\",\"INTP\",\"INTJ\",\"ENTJ\",\"ENFP\",\"INFP\",\"INFJ\",\"ISTP\",\"INFP\",\"ENTP\",\"INTP\",\"INTJ\",\"ESFJ\",\"INFJ\",\"INFP\",\"ENFP\",\"INTJ\",\"ENTP\",\"INFJ\",\"INTJ\",\"ESFP\",\"INFP\",\"INTP\",\"INFP\",\"ISTP\",\"ENFP\",\"ENFJ\",\"INFJ\",\"INFJ\",\"INTP\",\"ENFP\",\"INTP\",\"INFJ\",\"ISTP\",\"INFP\",\"INFP\",\"INFJ\",\"INTP\",\"ISFP\",\"INTJ\",\"ISTP\",\"INFP\",\"INTP\",\"INFJ\",\"ISFJ\",\"INTJ\",\"INFJ\",\"INTP\",\"INFJ\",\"INTP\",\"INTP\",\"INTJ\",\"INTP\",\"INFP\",\"INFJ\",\"ISFJ\",\"INFP\",\"ISFP\",\"ISFP\",\"INTJ\",\"INFJ\",\"ISTJ\",\"ENFP\",\"INTJ\",\"ENTP\",\"INFP\",\"INTJ\",\"ISTJ\",\"INTJ\",\"ENTP\",\"INFP\",\"ISTJ\",\"INFP\",\"ENTJ\",\"INFJ\",\"INFP\",\"INFP\",\"INTP\",\"INFP\",\"ISTP\",\"ENTP\",\"INTP\",\"INTJ\",\"INFP\",\"INTJ\",\"ISTJ\",\"INFP\",\"INTJ\",\"INTP\",\"ESFJ\",\"INTJ\",\"INFJ\",\"ENFJ\",\"ENFP\",\"ENFP\",\"INFP\",\"INFJ\",\"ENFJ\",\"ENTP\",\"ISTJ\",\"INFP\",\"INTJ\",\"INFP\",\"ISTP\",\"INTP\",\"INTJ\",\"INFP\",\"ENTP\",\"ENFP\",\"INTJ\",\"ISFP\",\"INFP\",\"INTJ\",\"ENFP\",\"INFP\",\"INTP\",\"ENTP\",\"INFJ\",\"ENFP\",\"ENFP\",\"INFP\",\"ENFJ\",\"INTJ\",\"INFP\",\"INTP\",\"INTP\",\"INFP\",\"INTJ\",\"INFJ\",\"ISFP\",\"ISTP\",\"ENTP\",\"INTP\",\"INFP\",\"INFP\",\"INTJ\",\"INTJ\",\"INTJ\",\"ISTP\",\"INFJ\",\"INTJ\",\"ENTJ\",\"INFP\",\"ENFP\",\"INFP\",\"ENTP\",\"INFP\",\"ISTP\",\"INFJ\",\"INFP\",\"INTJ\",\"INFP\",\"INFP\",\"INFP\",\"INFP\",\"INFP\",\"INFJ\",\"INFP\",\"INFJ\",\"ENFP\",\"INFJ\",\"INFP\",\"INFP\",\"INTP\",\"INFP\",\"ENFP\",\"ENTP\",\"INFP\",\"INTP\",\"INTJ\",\"INFP\",\"INFJ\",\"INFP\",\"ISFJ\",\"INFJ\",\"ENFJ\",\"ESFP\",\"INTP\",\"INFP\",\"INTJ\",\"INFP\",\"ESFP\",\"ENFP\",\"INFJ\",\"INFJ\",\"ENFP\",\"ENFP\",\"ENTP\",\"INFJ\",\"INFP\",\"INFP\",\"INFP\",\"INTJ\",\"ISFJ\",\"ENTP\",\"ISTP\",\"INFP\",\"INFP\",\"ISTP\",\"INFP\",\"INFP\",\"INFP\",\"ENTP\",\"INTP\",\"INFJ\",\"INFP\",\"INFJ\",\"ISFP\",\"INFP\",\"ISTJ\",\"INTJ\",\"INFP\",\"ISFJ\",\"ISTJ\",\"INTJ\",\"ENFP\",\"INTP\",\"INTJ\",\"INFJ\",\"INTJ\",\"INTP\",\"INTP\",\"ISFP\",\"INTP\",\"INFJ\",\"INFJ\",\"INTP\",\"INTP\",\"INFJ\",\"INTP\",\"INTP\",\"INTP\",\"ENFJ\",\"INFP\",\"ENFP\",\"INFP\",\"INFJ\",\"INFJ\",\"ISTP\",\"INFJ\",\"INFP\",\"INFJ\",\"INFJ\",\"INFP\",\"INFP\",\"ENFP\",\"ENFP\",\"INTP\",\"INTP\",\"ENTP\",\"INFP\",\"INTJ\",\"INFJ\",\"INFP\",\"ENTP\",\"INTP\",\"ISTP\",\"INTP\",\"ENTP\",\"ENTP\",\"INTJ\",\"INFP\",\"INFP\",\"INFP\",\"ISTJ\",\"ENTP\",\"INTP\",\"INFP\",\"ENFP\",\"ISTP\",\"INTP\",\"INTP\",\"ISFJ\",\"INTP\",\"ISTP\",\"ISTP\",\"INFJ\",\"INTP\",\"INFP\",\"INTP\",\"INTJ\",\"ISTP\",\"INFP\",\"INTJ\",\"INTP\",\"INTJ\",\"ENFP\",\"ENTJ\",\"INTP\",\"INFJ\",\"ENFJ\",\"ENFP\",\"ENTP\",\"INFJ\",\"INTP\",\"INTJ\",\"ENTP\",\"ENFP\",\"INFP\",\"INFP\",\"INTP\",\"ENFP\",\"INTJ\",\"INFJ\",\"INFP\",\"INTJ\",\"ISTJ\",\"INTJ\",\"INTP\",\"INFP\",\"INFP\",\"INFJ\",\"INFP\",\"INFJ\",\"INFP\",\"INTP\",\"ISFP\",\"INTJ\",\"ISTJ\",\"ISFP\",\"INTJ\",\"ENTP\",\"ENTJ\",\"INFP\",\"INTJ\",\"INTJ\",\"INTJ\",\"ENTP\",\"INFP\",\"INTP\",\"ENTP\",\"INFP\",\"INFJ\",\"ENTJ\",\"INTP\",\"INTJ\",\"INFP\",\"ESTP\",\"INFP\",\"INTP\",\"INTJ\",\"INFP\",\"ENTP\",\"ENTP\",\"INTP\",\"INTJ\",\"INFJ\",\"ISFP\",\"INFJ\",\"ESFP\",\"INFP\",\"ENTP\",\"INTP\",\"ISTP\",\"INTP\",\"ISFP\",\"ENTP\",\"INFP\",\"ESFJ\",\"INTJ\",\"ISFP\",\"INFP\",\"INTP\",\"INTP\",\"INFP\",\"INTP\",\"INFJ\",\"INTJ\",\"INFP\",\"ENFJ\",\"INTP\",\"INFP\",\"INTP\",\"ENFP\",\"INFP\",\"INTJ\",\"ENTP\",\"INTJ\",\"INTP\",\"INFJ\",\"INTP\",\"INFP\",\"ISTP\",\"ISTJ\",\"ESTP\",\"INFP\",\"INFJ\",\"INFP\",\"ENFP\",\"INTJ\",\"ISTJ\",\"INFJ\",\"INFP\",\"INTJ\",\"INFJ\",\"ENTP\",\"INFP\",\"ESTP\",\"ENTP\",\"INTP\",\"INFJ\",\"INFJ\",\"ENTJ\",\"ISTJ\",\"ENFJ\",\"INTP\",\"ISTJ\",\"ESTP\",\"INFP\",\"INFJ\",\"INFJ\",\"INFP\",\"INFJ\",\"INFJ\",\"INFP\",\"INFJ\",\"INFJ\",\"INFJ\",\"INTJ\",\"ISTP\",\"INFJ\",\"INTP\",\"INFJ\",\"INTJ\",\"INFJ\",\"ENFP\",\"INFP\",\"INTJ\",\"INFP\",\"ENFP\",\"ENFP\",\"INFP\",\"ENTP\",\"INFJ\",\"ENTJ\",\"INTJ\",\"INFP\",\"INFJ\",\"ENTJ\",\"INFJ\",\"INTP\",\"INTJ\",\"INFP\",\"INFJ\",\"INTP\",\"INTJ\",\"INTJ\",\"ENFJ\",\"ENTP\",\"INFP\",\"INFJ\",\"INFP\",\"ISFP\",\"ISFP\",\"INFJ\",\"INFP\",\"INTP\",\"INFP\",\"INTJ\",\"INTP\",\"INFP\",\"ENFJ\",\"ISTJ\",\"ISFJ\",\"INFJ\",\"INTJ\",\"INTP\",\"INFP\",\"INFP\",\"ENFJ\",\"INFP\",\"INFP\",\"INFP\",\"ENTJ\",\"INFJ\",\"INTP\",\"INFP\",\"INFJ\",\"ENTP\",\"INTP\",\"INFP\",\"INTJ\",\"INFJ\",\"ISFP\",\"INTJ\",\"ENFP\",\"INFJ\",\"INFJ\",\"INFP\",\"INTJ\",\"ENFP\",\"ENTP\",\"INFJ\",\"INFP\",\"ENFP\",\"INFJ\",\"ENFP\",\"INFJ\",\"ENFJ\",\"INTP\",\"INFJ\",\"ISTP\",\"ENFP\",\"INFJ\",\"INTJ\",\"ENFP\",\"INTJ\",\"ENFP\",\"INFJ\",\"INFP\",\"ENFJ\",\"INFJ\",\"INFJ\",\"ENFP\",\"ISTP\",\"ENTP\",\"INTJ\",\"ENFJ\",\"INTJ\",\"INFJ\",\"INFP\",\"INFP\",\"INTJ\",\"INFJ\",\"ISFP\",\"INFJ\",\"INTP\",\"INFJ\",\"INFP\",\"ENFP\",\"INTP\",\"INFP\",\"INTP\",\"INFP\",\"ISTJ\",\"INFJ\",\"INFJ\",\"ISTP\",\"ISFP\",\"INFP\",\"ISFP\",\"ENFP\",\"ENFJ\",\"INFJ\",\"ENTJ\",\"ENTP\",\"ISTP\",\"ENFP\",\"ENFJ\",\"INFP\",\"INTP\",\"INFJ\",\"INFP\",\"INFP\",\"INFJ\",\"INFP\",\"INTJ\",\"ENFP\",\"INFJ\",\"INTP\",\"ENFP\",\"ISTJ\",\"INFP\",\"ENFP\",\"INTP\",\"INTJ\",\"INTJ\",\"INFP\",\"INTP\",\"INTJ\",\"ENFP\",\"INTP\",\"INFP\",\"INFP\",\"INFP\",\"ESFP\",\"INFP\",\"ENFP\",\"ISTJ\",\"INTP\",\"INFP\",\"ISFJ\",\"INTP\",\"INTP\",\"ISTP\",\"INTJ\",\"INTJ\",\"INTJ\",\"INFP\",\"INTJ\",\"ENTP\",\"INTP\",\"INFJ\",\"ENTP\",\"ENTJ\",\"INTP\",\"INFJ\",\"INTP\",\"ENFP\",\"ENTJ\",\"ENTP\",\"ISTJ\",\"INFJ\",\"ENTJ\",\"INTJ\",\"INTJ\",\"INTJ\",\"ENFP\",\"ISFP\",\"INFJ\",\"INFP\",\"INFP\",\"INTP\",\"ENTP\",\"ISTP\",\"ISTJ\",\"INFP\",\"INTP\",\"ENFP\",\"INFP\",\"INTP\",\"INFP\",\"ISTP\",\"INTJ\",\"INFP\",\"INTJ\",\"ENTJ\",\"INFJ\",\"INTP\",\"INTP\",\"INTP\",\"INFJ\",\"INTP\",\"INFJ\",\"ENFJ\",\"INFP\",\"INFP\",\"ENFP\",\"INFJ\",\"ENFP\",\"INFP\",\"INTP\",\"INFP\",\"INTP\",\"ISFP\",\"INFP\",\"ISFP\",\"ISTJ\",\"INFJ\",\"ISTP\",\"INFP\",\"INFJ\",\"INFJ\",\"INTJ\",\"INFJ\",\"INTP\",\"INFP\",\"INFP\",\"INFP\",\"INFP\",\"INFJ\",\"ISFP\",\"INFP\",\"INFP\",\"INFP\",\"INTP\",\"INFP\",\"INTP\",\"INTP\",\"INTJ\",\"ENFP\",\"ISFJ\",\"INFP\",\"ISFP\",\"INTJ\",\"INTJ\",\"ENFP\",\"ENTP\",\"INFP\",\"ENTJ\",\"INFP\",\"INFJ\",\"ENTP\",\"INTP\",\"ENFP\",\"INFJ\",\"INTJ\",\"INTP\",\"INFP\",\"ISFP\",\"INFP\",\"INTJ\",\"ESFP\",\"INTP\",\"INTJ\",\"INFP\",\"ISFP\",\"ISTP\",\"ENTP\",\"INTP\",\"ISTJ\",\"ENTP\",\"ENTP\",\"INFP\",\"INFJ\",\"ISTJ\",\"INTP\",\"ISFP\",\"ENFJ\",\"ENFP\",\"INFP\",\"INFJ\",\"INFJ\",\"INFJ\",\"INTP\",\"INTJ\",\"INFP\",\"ENTP\",\"ENFP\",\"INFJ\",\"ENTP\",\"INFP\",\"INTP\",\"INFJ\",\"INTJ\",\"ENTJ\",\"INTP\",\"ENTP\",\"ISTP\",\"INFP\",\"ISTJ\",\"INFP\",\"ISTP\",\"INFP\",\"INTJ\",\"INFJ\",\"ENTJ\",\"ENTJ\",\"INFP\",\"INTP\",\"ISTJ\",\"ISTJ\",\"INFP\",\"INFJ\",\"INTJ\",\"INTP\",\"ENFP\",\"INFJ\",\"INTP\",\"INTJ\",\"ISFP\",\"INFJ\",\"ENFP\",\"INTP\",\"INFJ\",\"INFP\",\"ENTP\",\"ENTP\",\"INFP\",\"INTP\",\"INFP\",\"INTP\",\"INTP\",\"INFP\",\"INTP\",\"INFP\",\"ENTJ\",\"INFJ\",\"INFJ\",\"INFP\",\"INFJ\",\"INFP\",\"ENTP\",\"INFP\",\"ISFJ\",\"ENTJ\",\"INFJ\",\"ISFP\",\"INFJ\",\"ENFP\",\"ISTP\",\"INFP\",\"INFJ\",\"ENTP\",\"INTP\",\"ISTJ\",\"INFP\",\"ENTP\",\"INFJ\",\"INFP\",\"INFP\",\"INTP\",\"INFJ\",\"ENTP\",\"INFJ\",\"ISFP\",\"INFP\",\"INFP\",\"INFP\",\"ISFP\",\"INTJ\",\"INTP\",\"ENFP\",\"ENFP\",\"INTJ\",\"INTJ\",\"INFJ\",\"INTJ\",\"INTP\",\"ISFP\",\"ISFP\",\"ESTJ\",\"ISFJ\",\"INTP\",\"INFJ\",\"ENFP\",\"ENFJ\",\"INTJ\",\"INTP\",\"INTJ\",\"INTJ\",\"INTP\",\"ISTP\",\"INFJ\",\"ISTP\",\"ISTP\",\"INFJ\",\"INTJ\",\"ENTJ\",\"INFJ\",\"ENFP\",\"ENTP\",\"ENTP\",\"ESFP\",\"ENTP\",\"INTP\",\"INTJ\",\"INTP\",\"ENFP\",\"INFJ\",\"INTP\",\"ISTP\",\"INTJ\",\"ENFP\",\"ENTJ\",\"INFJ\",\"ISFP\",\"INFJ\",\"INTP\",\"INTP\",\"ENTP\",\"ENTP\",\"INTP\",\"INFJ\",\"INFJ\",\"ENFJ\",\"ENFP\",\"INTJ\",\"INTP\",\"ISTJ\",\"INTP\",\"INFP\",\"INTP\",\"INFP\",\"INFP\",\"INFJ\",\"INTJ\",\"ISFJ\",\"INTJ\",\"ENTP\",\"INTP\",\"INFJ\",\"INFJ\",\"INTP\",\"ISFP\",\"INTJ\",\"ENFJ\",\"INFJ\",\"INFJ\",\"INFP\",\"INFJ\",\"INFP\",\"ENFP\",\"INFP\",\"INTJ\",\"ESTP\",\"ISTP\",\"ESTP\",\"INFP\",\"ENTP\",\"INFP\",\"INFJ\",\"INTJ\",\"ENFP\",\"INFJ\",\"INFJ\",\"ENFP\",\"INFP\",\"INFP\",\"ENFP\",\"ESTJ\",\"INFJ\",\"ISTJ\",\"INTP\",\"ISFP\",\"ENFP\",\"INFP\",\"INTJ\",\"INFJ\",\"INFJ\",\"INFP\",\"INTJ\",\"INFJ\",\"ENTP\",\"INTP\",\"INFJ\",\"ISFP\",\"ISFJ\",\"INTJ\",\"INTJ\",\"INTP\",\"INTJ\",\"ENTP\",\"ENTJ\",\"ISTP\",\"ESTP\",\"INFJ\",\"ENTJ\",\"INFJ\",\"INTP\",\"INTJ\",\"ISFJ\",\"ENTP\",\"INFP\",\"INFP\",\"ENFP\",\"INTP\",\"ENFP\",\"INTJ\",\"INFP\",\"INFP\",\"INFJ\",\"ESTP\",\"INFP\",\"INTJ\",\"INFJ\",\"INTP\",\"INTP\",\"ENFJ\",\"ISFJ\",\"ISTP\",\"INFJ\",\"ISFP\",\"INTJ\",\"ENFP\",\"ISTJ\",\"ENTP\",\"INTP\",\"ESFJ\",\"INTP\",\"ENTJ\",\"ISFP\",\"INFJ\",\"ENFJ\",\"ENFP\",\"INTP\",\"ISTJ\",\"ISFJ\",\"INFP\",\"INFP\",\"INFJ\",\"INTP\",\"INFJ\",\"INFJ\",\"INFJ\",\"ENFP\",\"INFJ\",\"ESFP\",\"INTP\",\"INTP\",\"INFJ\",\"INFJ\",\"INTP\",\"INTJ\",\"INFJ\",\"ENFP\",\"ENFP\",\"INFP\",\"ISFJ\",\"INFJ\",\"ENTJ\",\"INFP\",\"INTP\",\"INTP\",\"ISFP\",\"ISTP\",\"INFP\",\"INTP\",\"ENTP\",\"ISFJ\",\"INTP\",\"INFP\",\"ENFJ\",\"INTP\",\"ENTP\",\"INFP\",\"ENFP\",\"INTP\",\"INFP\",\"INTP\",\"INFP\",\"INTJ\",\"ENFP\",\"INFJ\",\"ESFP\",\"INTP\",\"ENFJ\",\"INFP\",\"INFP\",\"INFJ\",\"ENTJ\",\"INTP\",\"INFP\",\"ISTP\",\"ESFP\",\"INTP\",\"INFP\",\"ENFJ\",\"ENFP\",\"ENFJ\",\"INFP\",\"INFP\",\"INFJ\",\"INFJ\",\"INFJ\",\"ENFP\",\"INFP\",\"INFP\",\"INFP\",\"ENFP\",\"ENTJ\",\"ISTJ\",\"INFJ\",\"ISFP\",\"INTP\",\"INTJ\",\"ISFJ\",\"INFJ\",\"ENFP\",\"INFP\",\"INFJ\",\"ESFJ\",\"ISFJ\",\"INTJ\",\"INTP\",\"INFP\",\"INFP\",\"ENTP\",\"ENFP\",\"INTJ\",\"ISTP\",\"ENTP\",\"INFJ\",\"ISFJ\",\"ENTP\",\"ISFP\",\"INFP\",\"INTP\",\"ISTP\",\"INTP\",\"INTJ\",\"ENFP\",\"INFP\",\"INFJ\",\"INFJ\",\"ENTJ\",\"INTP\",\"INFP\",\"INTP\",\"INFP\",\"INFP\",\"INFJ\",\"INFJ\",\"ENTJ\",\"ISFP\",\"INFP\",\"INTP\",\"INFP\",\"ENTP\",\"INTJ\",\"INTJ\",\"ENTP\",\"INFP\",\"ENTP\",\"INFP\",\"INFP\",\"ISFJ\",\"INFP\",\"INFJ\",\"INTP\",\"ENTP\",\"INFP\",\"INFP\",\"INFP\",\"INTP\",\"ISTP\",\"INTP\",\"INTJ\",\"INTP\",\"INFJ\",\"ISTP\",\"INTJ\",\"INFJ\",\"INFP\",\"ENFP\",\"INFJ\",\"INTP\",\"INTP\",\"INFJ\",\"INTJ\",\"ENFP\",\"INTJ\",\"INFJ\",\"INTJ\",\"ENTP\",\"INFP\",\"INFJ\",\"INTP\",\"ESTJ\",\"ISTP\",\"ENTP\",\"INTJ\",\"INTJ\",\"INFP\",\"INFP\",\"INTP\",\"INFP\",\"INFJ\",\"ENTP\",\"ENTJ\",\"INTJ\",\"ISFJ\",\"INFP\",\"INFP\",\"ENFP\",\"INFP\",\"ENFP\",\"INFP\",\"INTJ\",\"INTJ\",\"INFP\",\"ENFP\",\"INFJ\",\"ISTP\",\"INFP\",\"INFJ\",\"ISTP\",\"INTP\",\"INFJ\",\"INTJ\",\"INFP\",\"INTJ\",\"INFJ\",\"INTP\",\"ISFJ\",\"ENTP\",\"INFP\",\"INTP\",\"INTP\",\"INTJ\",\"ENTP\",\"INFJ\",\"INTJ\",\"INTP\",\"INTP\",\"ENFP\",\"ENTP\",\"ENFP\",\"ESFP\",\"ENFP\",\"INTP\",\"INTP\",\"INTJ\",\"INFJ\",\"ISTP\",\"ISFP\",\"INTP\",\"ENTP\",\"INTJ\",\"INFJ\",\"ENTJ\",\"ISTP\",\"INFP\",\"ENFJ\",\"ISTJ\",\"INTP\",\"INFP\",\"ISFP\",\"ISTJ\",\"INFJ\",\"INTJ\",\"ESTP\",\"ISFP\",\"ENTP\",\"INTP\",\"INTJ\",\"ENFJ\",\"ISFJ\",\"INFP\",\"INFJ\",\"INFJ\",\"INFJ\",\"INFP\",\"INTP\",\"ISFP\",\"ENFP\",\"INFJ\",\"INFP\",\"ENTJ\",\"INFP\",\"INFP\",\"INFP\",\"ISFJ\",\"INTJ\",\"ISTP\",\"ENFJ\",\"INTJ\",\"ENTJ\",\"INTP\",\"ISFJ\",\"INFP\",\"INFP\",\"INTP\",\"INFP\",\"INFJ\",\"INTP\",\"INTJ\",\"ENFP\",\"INTJ\",\"INFP\",\"INTJ\",\"INFJ\",\"INFJ\",\"ISTP\",\"INFP\",\"INFP\",\"INTJ\",\"INTP\",\"INFJ\",\"INFJ\",\"INTJ\",\"INTP\",\"ENTP\",\"ENTP\",\"ENFJ\",\"INFP\",\"INTP\",\"INTJ\",\"INTP\",\"INFJ\",\"ISFJ\",\"INFJ\",\"INFP\",\"INFJ\",\"INFP\",\"INTP\",\"INFP\",\"ISTJ\",\"ENTP\",\"INTP\",\"INFJ\",\"INFJ\",\"ISTJ\",\"ENTP\",\"ENFP\",\"ENFP\",\"INFJ\",\"INFP\",\"INFP\",\"INTJ\",\"ENFP\",\"ISTP\",\"ENTP\",\"INFP\",\"INFP\",\"INTJ\",\"ENTP\",\"ENFP\",\"ESTJ\",\"INTP\",\"ISFJ\",\"INFP\",\"ISTP\",\"INFP\",\"INTP\",\"INTP\",\"ENFP\",\"INFP\",\"INTP\",\"ENTP\",\"INTP\",\"ENFP\",\"INTP\",\"ISTP\",\"ISTP\",\"ENTP\",\"INFP\",\"ENTP\",\"ENFP\",\"ENTP\",\"INFJ\",\"INFJ\",\"INFJ\",\"INTP\",\"ENTJ\",\"INTJ\",\"INTP\",\"INFP\",\"INFP\",\"INTP\",\"ENTP\",\"INTJ\",\"INFJ\",\"ENTP\",\"ISFP\",\"INTJ\",\"INFP\",\"ENFP\",\"INFJ\",\"INFP\",\"INFJ\",\"INTP\",\"ISTJ\",\"INTP\",\"INTJ\",\"ENTJ\",\"INFJ\",\"INTJ\",\"INFP\",\"ESTP\",\"INTP\",\"ENFP\",\"INFJ\",\"INFJ\",\"ISTJ\",\"INTP\",\"INTP\",\"ENTP\",\"ISFJ\",\"ENTJ\",\"INFP\",\"INTP\",\"INTP\",\"INFJ\",\"ENFP\",\"ISFP\",\"INTJ\",\"INFP\",\"ENTP\",\"ESTP\",\"ENFP\",\"INTP\",\"INFJ\",\"ISFP\",\"INFP\",\"INTP\",\"INFP\",\"INFP\",\"ENFP\",\"INFP\",\"INFJ\",\"ENTP\",\"INTJ\",\"INFP\",\"ENFP\",\"INTP\",\"INFP\",\"ENFJ\",\"INFJ\",\"INTP\",\"ENTJ\",\"ISFP\",\"INTP\",\"ESTP\",\"INFP\",\"INTJ\",\"ESTJ\",\"ENTP\",\"INTJ\",\"INFJ\",\"INTP\",\"INFP\",\"ISTP\",\"INFJ\",\"INTP\",\"ENFP\",\"INTJ\",\"INTP\",\"INFJ\",\"INFJ\",\"INFP\",\"ENFP\",\"INTJ\",\"INTP\",\"INTP\",\"INFP\",\"INFP\",\"INFP\",\"INTP\",\"INTP\",\"INFJ\",\"INTP\",\"INTJ\",\"INFJ\",\"ENTP\",\"ISTJ\",\"ENTP\",\"ENFJ\",\"ENFJ\",\"INTJ\",\"ISTJ\",\"ESTP\",\"INFP\",\"INFJ\",\"INTJ\",\"ENTP\",\"ISTJ\",\"ISTJ\",\"INFP\",\"INFP\",\"ISTP\",\"INTJ\",\"INTJ\",\"ENFJ\",\"INFP\",\"INFP\",\"INTJ\",\"ENFP\",\"ENFP\",\"INTP\",\"INFJ\",\"INFJ\",\"INFJ\",\"ENFP\",\"ENTP\",\"INTJ\",\"INFJ\",\"INTJ\",\"ISFP\",\"INTP\",\"INTJ\",\"INTP\",\"ESFP\",\"INFP\",\"INTP\",\"INFJ\",\"ISTP\",\"INTJ\",\"ENFJ\",\"INFJ\",\"INTP\",\"INTJ\",\"INFP\",\"ENFP\",\"INTJ\",\"ENTP\",\"INFJ\",\"INFJ\",\"ENFP\",\"INFP\",\"INTJ\",\"INFP\",\"ENTJ\",\"INFJ\",\"INFP\",\"INTJ\",\"INTJ\",\"INFP\",\"ISTJ\",\"INFP\",\"INFP\",\"ISTP\",\"INTJ\",\"INFP\",\"ENTP\",\"INFP\",\"INFJ\",\"ISTP\",\"INTJ\",\"INTJ\",\"INTJ\",\"ENTJ\",\"INTP\",\"ENFP\",\"INFP\",\"INFJ\",\"ENFP\",\"INFJ\",\"INTJ\",\"ISTJ\",\"ENFP\",\"ENTJ\",\"INFJ\",\"ENTP\",\"INFJ\",\"ENFJ\",\"INFJ\",\"INTP\",\"INTP\",\"ISFP\",\"ISFJ\",\"INFJ\",\"INFJ\",\"INFP\",\"ENTP\",\"INTP\",\"INFJ\",\"INTP\",\"INFJ\",\"INFP\",\"INTJ\",\"INTP\",\"INFP\",\"INFP\",\"INFJ\",\"INTP\",\"INFP\",\"INFP\",\"INTP\",\"INFJ\",\"INTJ\",\"ISTJ\",\"ENTJ\",\"ENFP\",\"INTP\",\"INTJ\",\"INFJ\",\"ENTP\",\"INTP\",\"INFJ\",\"ISFP\",\"INTP\",\"ENFP\",\"ENTJ\",\"ENTP\",\"INFJ\",\"INFJ\",\"INFP\",\"INFP\",\"INFJ\",\"ESTP\",\"INFJ\",\"ISTP\",\"INFJ\",\"INFP\",\"INTP\",\"INFJ\",\"ENTP\",\"INFJ\",\"INTP\",\"INTJ\",\"ENFP\",\"INTJ\",\"INTP\",\"INTP\",\"INTP\",\"ENTP\",\"ENFP\",\"INFP\",\"INFJ\",\"INTP\",\"INFJ\",\"ENFP\",\"ENTJ\",\"INTJ\",\"INFJ\",\"ENTJ\",\"ENTJ\",\"INFJ\",\"ENFP\",\"INTP\",\"INFJ\",\"INTJ\",\"INFP\",\"ENTJ\",\"ISFP\",\"ISTJ\",\"ISTP\",\"INFJ\",\"INTP\",\"INFP\",\"ESTP\",\"INTJ\",\"ISTP\",\"INFJ\",\"INFJ\",\"INFJ\",\"INFP\",\"INFP\",\"INTP\",\"INFJ\",\"INTP\",\"INFP\",\"INTJ\",\"ISFJ\",\"INTP\",\"INFJ\",\"ENTJ\",\"INFP\",\"INTP\",\"INFP\",\"ISTJ\",\"INFP\",\"INTJ\",\"ISTJ\",\"ENTP\",\"INFJ\",\"ESTJ\",\"ENTJ\",\"ISTJ\",\"INTP\",\"ISTP\",\"INFP\",\"ENFP\",\"ENFJ\",\"INTP\",\"INFJ\",\"INTP\",\"ISFJ\",\"INFJ\",\"INFP\",\"ENFJ\",\"ENTJ\",\"INTJ\",\"ISFJ\",\"INTJ\",\"INFP\",\"INFJ\",\"ESTJ\",\"INFP\",\"INTP\",\"INFJ\",\"INTP\",\"ISTP\",\"INFP\",\"ENFP\",\"INTJ\",\"INTJ\",\"ENFP\",\"INFP\",\"INFJ\",\"ESTJ\",\"INTP\",\"INFP\",\"ENFP\",\"ENTP\",\"INFJ\",\"ENTP\",\"INFP\",\"INTP\",\"ISFJ\",\"ENFP\",\"ENTP\",\"INFJ\",\"ENFP\",\"INFJ\",\"INFP\",\"INFP\",\"ENTP\",\"INTP\",\"INTJ\",\"INTJ\",\"ENFP\",\"INTJ\",\"INFP\",\"INFP\",\"INTP\",\"INTP\",\"INFP\",\"ENFP\",\"INFP\",\"INFJ\",\"INFP\",\"INTJ\",\"INTP\",\"ENFP\",\"INFJ\",\"INTP\",\"ISTP\",\"INFP\",\"INFP\",\"ISFJ\",\"ENFP\",\"INTJ\",\"INFJ\",\"INTJ\",\"INFJ\",\"INFP\",\"INTP\",\"INTJ\",\"ENTP\",\"INFJ\",\"ENFP\",\"ISFP\",\"ISFP\",\"INTJ\",\"INTP\",\"INFP\",\"ENTJ\",\"INFJ\",\"INTJ\",\"ISTJ\",\"INFP\",\"ENFP\",\"INFJ\",\"ENFP\",\"ENFP\",\"INFP\",\"INTP\",\"ENTJ\",\"ENTP\",\"ENFP\",\"ISFP\",\"INFP\",\"ENTJ\",\"INFP\",\"INTJ\",\"INFJ\",\"INFJ\",\"INTJ\",\"ENFP\",\"INTJ\",\"INFP\",\"INFP\",\"INFJ\",\"INFP\",\"ISFP\",\"INTP\",\"INFP\",\"INTJ\",\"ISTJ\",\"INFJ\",\"ENTP\",\"ENFP\",\"ENTJ\",\"INFP\",\"INTP\",\"INFP\",\"INFJ\",\"INFJ\",\"INFP\",\"INFP\",\"INTP\",\"ENFP\",\"INTP\",\"INFP\",\"INFP\",\"INFP\",\"INFJ\",\"INTJ\",\"INFJ\",\"ISFP\",\"INFJ\",\"INFP\",\"INTP\",\"INTP\",\"INFP\",\"INTJ\",\"INFJ\",\"INTP\",\"ENFJ\",\"INTJ\",\"INFJ\",\"INTJ\",\"INTP\",\"INFJ\",\"INTJ\",\"INFP\",\"ESFJ\",\"INTJ\",\"ENFJ\",\"ENFP\",\"INFJ\",\"ENTP\",\"INTJ\",\"INTP\",\"INFJ\",\"ISTP\",\"INTJ\",\"INFP\",\"INFP\",\"INTP\",\"INFJ\",\"INTP\",\"INFJ\",\"ISFJ\",\"INFJ\",\"INTJ\",\"INTP\",\"INTJ\",\"INFP\",\"INTP\",\"INTP\",\"INFJ\",\"INFJ\",\"INFJ\",\"INTP\",\"INTP\",\"INFJ\",\"INFJ\",\"INTP\",\"ISFP\",\"INTP\",\"INFP\",\"ENFP\",\"INFP\",\"INFJ\",\"INFJ\",\"ENTJ\",\"INFJ\",\"INTP\",\"ENFP\",\"ENFP\",\"INTJ\",\"INTJ\",\"INTJ\",\"INFP\",\"INFP\",\"INFJ\",\"INTP\",\"ISTJ\",\"INFJ\",\"ENFP\",\"INFJ\",\"INFP\",\"ENFP\",\"ISFP\",\"ENFJ\",\"INFP\",\"ENTP\",\"ISTP\",\"INFJ\",\"INFJ\",\"INFJ\",\"INFJ\",\"INFP\",\"INFJ\",\"INTP\",\"ENTP\",\"INTJ\",\"INTJ\",\"ENFP\",\"INTP\",\"INTJ\",\"INFP\",\"INTP\",\"INFJ\",\"INFP\",\"ENTP\",\"INTJ\",\"ENTP\",\"INFP\",\"INFP\",\"INTP\",\"ENTP\",\"ENTP\",\"INFP\",\"INTJ\",\"INFJ\",\"INFP\",\"INFJ\",\"ISTP\",\"INFJ\",\"INFJ\",\"INTP\",\"INTP\",\"ISTP\",\"ISTJ\",\"ENFP\",\"INTJ\",\"INFJ\",\"ENFP\",\"ENTP\",\"INFP\",\"INTJ\",\"INFJ\",\"INTJ\",\"INTJ\",\"ENFP\",\"INFJ\",\"INTJ\",\"ENFP\",\"INTP\",\"INFP\",\"INFP\",\"ENFJ\",\"INFP\",\"INFP\",\"INTP\",\"INTP\",\"ENTJ\",\"INTP\",\"ISFJ\",\"INTJ\",\"ENFJ\",\"INFP\",\"INFJ\",\"INTP\",\"INTP\",\"INFP\",\"INTP\",\"INFJ\",\"INTJ\",\"INFJ\",\"INFJ\",\"ENTP\",\"INTP\",\"ENFP\",\"ENTJ\",\"ENFP\",\"INFP\",\"ISFP\",\"ENFJ\",\"INTJ\",\"ENFP\",\"INFP\",\"INFJ\",\"INFP\",\"INTJ\",\"ISTJ\",\"ENFP\",\"INFJ\",\"ENTP\",\"INTP\",\"INTJ\",\"ESTP\",\"ENTP\",\"ISTJ\",\"INFJ\",\"INTP\",\"INTP\",\"INTP\",\"ENTP\",\"ISTP\",\"INFJ\",\"INTP\",\"ISTP\",\"ISTP\",\"ISTP\",\"ISTP\",\"INFJ\",\"INTJ\",\"ENTJ\",\"INTP\",\"INTP\",\"ENTP\",\"ISTP\",\"ENTP\",\"INFJ\",\"INFP\",\"INFJ\",\"ENFP\",\"ENFP\",\"INFP\",\"ENTP\",\"INFJ\",\"INFP\",\"ENFP\",\"ENTP\",\"INFJ\",\"INFP\",\"INFJ\",\"ISTP\",\"INTP\",\"ISTP\",\"INFP\",\"INFJ\",\"INFJ\",\"INFP\",\"INFP\",\"INFP\",\"INFP\",\"INFP\",\"INFP\",\"INFP\",\"ESTP\",\"INFJ\",\"INFP\",\"ENTP\",\"ENFP\",\"INFP\",\"ISTJ\",\"ENTP\",\"INFP\",\"INFP\",\"INFP\",\"INTJ\",\"INTJ\",\"INTP\",\"ISFP\",\"INTP\",\"INTP\",\"INTP\",\"INFJ\",\"INFP\",\"INTJ\",\"ESTJ\",\"INFJ\",\"ENTP\",\"INFJ\",\"INFP\",\"INTJ\",\"INFJ\",\"INFP\",\"INFP\",\"ENFP\",\"INFJ\",\"INTP\",\"ISFP\",\"INFP\",\"ISTJ\",\"ISTP\",\"ENFP\",\"INFP\",\"INTP\",\"ISFP\",\"ISFP\",\"INTP\",\"ENTP\",\"ENFJ\",\"INFJ\",\"ENTP\",\"ISFP\",\"INFP\",\"INFP\",\"INFP\",\"ENTJ\",\"INFP\",\"INTP\",\"INTP\",\"ENFP\",\"INFP\",\"INFP\",\"ISFP\",\"INFP\",\"INFP\",\"ENTP\",\"INFJ\",\"INTJ\",\"INTJ\",\"ENFJ\",\"INFJ\",\"INTJ\",\"ENTP\",\"ESFJ\",\"INTP\",\"INFP\",\"INFJ\",\"ENTP\",\"INTJ\",\"INTP\",\"INFP\",\"INFP\",\"ENTP\",\"ISTP\",\"ENTJ\",\"ENTP\",\"ISTP\",\"INFP\",\"INFP\",\"INTJ\",\"INTJ\",\"INTP\",\"ENFJ\",\"ESFP\",\"ENTJ\",\"INFP\",\"ENFP\",\"ISFJ\",\"ENTP\",\"ENFP\",\"ENFP\",\"ENTP\",\"INTP\",\"INFP\",\"INFJ\",\"INFP\",\"ISTP\",\"ISFP\",\"INFP\",\"ENTP\",\"INFJ\",\"INFJ\",\"ENFP\",\"ESFJ\",\"INTJ\",\"INTP\",\"ENTJ\",\"INFP\",\"INFJ\",\"INFJ\",\"INFP\",\"ENFP\",\"ISTJ\",\"INFJ\",\"INFJ\",\"ISFJ\",\"INTJ\",\"INFP\",\"INFP\",\"INFP\",\"ISFP\",\"INTJ\",\"INTP\",\"INFP\",\"INTP\",\"INTJ\",\"INFP\",\"ESTP\",\"INFP\",\"INTJ\",\"INTJ\",\"INTP\",\"INTP\",\"INTP\",\"INFJ\",\"INFP\",\"ISFP\",\"INFP\",\"ENTP\",\"INFJ\",\"ENTP\",\"INFJ\",\"INFP\",\"ISTJ\",\"INTP\",\"INTP\",\"ENFP\",\"INTP\",\"INTP\",\"ENTP\",\"ENFP\",\"ENFP\",\"INFP\",\"ISTP\",\"INFP\",\"INFP\",\"INTP\",\"INTP\",\"INTJ\",\"ENFP\",\"INFJ\",\"INTJ\",\"INFP\",\"INTP\",\"INTJ\",\"INFJ\",\"INTJ\",\"INTP\",\"INTP\",\"ENTP\",\"ENFP\",\"INTJ\",\"INFJ\",\"INTJ\",\"ENTJ\",\"INTJ\",\"ISTP\",\"INFP\",\"ISFJ\",\"ISFP\",\"ISTJ\",\"INTJ\",\"INFP\",\"INTP\",\"INFJ\",\"INFP\",\"INTJ\",\"INTJ\",\"INFP\",\"INFJ\",\"ISTP\",\"ENFP\",\"INFJ\",\"ENFP\",\"ENTP\",\"INTP\",\"INFP\",\"INFP\",\"ISTP\",\"INFJ\",\"INTJ\",\"ENFJ\",\"INTP\",\"INFP\",\"ENFJ\",\"INTP\",\"INTP\",\"INTP\",\"INFJ\",\"INTJ\",\"INFP\",\"INFP\",\"ISTP\",\"ENFP\",\"INTP\",\"INTP\",\"INTP\",\"ISTJ\",\"INTJ\",\"INTJ\",\"INFP\",\"INFP\",\"INFJ\",\"INTP\",\"INFP\",\"INFJ\",\"ISFJ\",\"INFP\",\"INTP\",\"INTJ\",\"ENTP\",\"INTP\",\"ENTP\",\"INTJ\",\"INTJ\",\"INFJ\",\"INTP\",\"INTP\",\"ENTP\",\"ISFP\",\"ISTP\",\"INFP\",\"ISTJ\",\"ENFP\",\"ENFP\",\"ISFP\",\"INTP\",\"ENFP\",\"INFJ\",\"INFP\",\"ENTP\",\"INTP\",\"ENTP\",\"ENFP\",\"ISTJ\",\"INTP\",\"ENTP\",\"INFJ\",\"INFP\",\"ENFP\",\"INFP\",\"INFP\",\"INTJ\",\"ENFP\",\"ENTJ\",\"ENFP\",\"INFP\",\"ISFP\",\"INTP\",\"ENTJ\",\"INTP\",\"INTJ\",\"INFP\",\"ISFP\",\"ENFP\",\"ENTJ\",\"INTP\",\"ENFP\",\"INTP\",\"ISFJ\",\"INFP\",\"INFJ\",\"INTP\",\"INTJ\",\"ENFP\",\"ISTP\",\"INTP\",\"ISFP\",\"INFP\",\"ISTJ\",\"ENTP\",\"INFP\",\"INFJ\",\"INFP\",\"INTJ\",\"INFP\",\"ENTP\",\"INTP\",\"INFP\",\"INFJ\",\"ENTP\",\"INFJ\",\"INFJ\",\"INFP\",\"INTP\",\"INFP\",\"INFP\",\"INFJ\",\"ISTP\",\"ISFJ\",\"INFP\",\"ISTJ\",\"INFJ\",\"INFJ\",\"INTJ\",\"ESFJ\",\"ENFP\",\"INFP\",\"ENTP\",\"INTJ\",\"INTP\",\"INTP\",\"ENTP\",\"INTJ\",\"ENTP\",\"INTJ\",\"INFJ\",\"ISFP\",\"ENFP\",\"INTP\",\"INFP\",\"INFP\"],\"legendgroup\":\"\",\"name\":\"\",\"showlegend\":true,\"type\":\"pie\"}],                        {\"template\":{\"data\":{\"bar\":[{\"error_x\":{\"color\":\"#2a3f5f\"},\"error_y\":{\"color\":\"#2a3f5f\"},\"marker\":{\"line\":{\"color\":\"#E5ECF6\",\"width\":0.5},\"pattern\":{\"fillmode\":\"overlay\",\"size\":10,\"solidity\":0.2}},\"type\":\"bar\"}],\"barpolar\":[{\"marker\":{\"line\":{\"color\":\"#E5ECF6\",\"width\":0.5},\"pattern\":{\"fillmode\":\"overlay\",\"size\":10,\"solidity\":0.2}},\"type\":\"barpolar\"}],\"carpet\":[{\"aaxis\":{\"endlinecolor\":\"#2a3f5f\",\"gridcolor\":\"white\",\"linecolor\":\"white\",\"minorgridcolor\":\"white\",\"startlinecolor\":\"#2a3f5f\"},\"baxis\":{\"endlinecolor\":\"#2a3f5f\",\"gridcolor\":\"white\",\"linecolor\":\"white\",\"minorgridcolor\":\"white\",\"startlinecolor\":\"#2a3f5f\"},\"type\":\"carpet\"}],\"choropleth\":[{\"colorbar\":{\"outlinewidth\":0,\"ticks\":\"\"},\"type\":\"choropleth\"}],\"contour\":[{\"colorbar\":{\"outlinewidth\":0,\"ticks\":\"\"},\"colorscale\":[[0.0,\"#0d0887\"],[0.1111111111111111,\"#46039f\"],[0.2222222222222222,\"#7201a8\"],[0.3333333333333333,\"#9c179e\"],[0.4444444444444444,\"#bd3786\"],[0.5555555555555556,\"#d8576b\"],[0.6666666666666666,\"#ed7953\"],[0.7777777777777778,\"#fb9f3a\"],[0.8888888888888888,\"#fdca26\"],[1.0,\"#f0f921\"]],\"type\":\"contour\"}],\"contourcarpet\":[{\"colorbar\":{\"outlinewidth\":0,\"ticks\":\"\"},\"type\":\"contourcarpet\"}],\"heatmap\":[{\"colorbar\":{\"outlinewidth\":0,\"ticks\":\"\"},\"colorscale\":[[0.0,\"#0d0887\"],[0.1111111111111111,\"#46039f\"],[0.2222222222222222,\"#7201a8\"],[0.3333333333333333,\"#9c179e\"],[0.4444444444444444,\"#bd3786\"],[0.5555555555555556,\"#d8576b\"],[0.6666666666666666,\"#ed7953\"],[0.7777777777777778,\"#fb9f3a\"],[0.8888888888888888,\"#fdca26\"],[1.0,\"#f0f921\"]],\"type\":\"heatmap\"}],\"heatmapgl\":[{\"colorbar\":{\"outlinewidth\":0,\"ticks\":\"\"},\"colorscale\":[[0.0,\"#0d0887\"],[0.1111111111111111,\"#46039f\"],[0.2222222222222222,\"#7201a8\"],[0.3333333333333333,\"#9c179e\"],[0.4444444444444444,\"#bd3786\"],[0.5555555555555556,\"#d8576b\"],[0.6666666666666666,\"#ed7953\"],[0.7777777777777778,\"#fb9f3a\"],[0.8888888888888888,\"#fdca26\"],[1.0,\"#f0f921\"]],\"type\":\"heatmapgl\"}],\"histogram\":[{\"marker\":{\"pattern\":{\"fillmode\":\"overlay\",\"size\":10,\"solidity\":0.2}},\"type\":\"histogram\"}],\"histogram2d\":[{\"colorbar\":{\"outlinewidth\":0,\"ticks\":\"\"},\"colorscale\":[[0.0,\"#0d0887\"],[0.1111111111111111,\"#46039f\"],[0.2222222222222222,\"#7201a8\"],[0.3333333333333333,\"#9c179e\"],[0.4444444444444444,\"#bd3786\"],[0.5555555555555556,\"#d8576b\"],[0.6666666666666666,\"#ed7953\"],[0.7777777777777778,\"#fb9f3a\"],[0.8888888888888888,\"#fdca26\"],[1.0,\"#f0f921\"]],\"type\":\"histogram2d\"}],\"histogram2dcontour\":[{\"colorbar\":{\"outlinewidth\":0,\"ticks\":\"\"},\"colorscale\":[[0.0,\"#0d0887\"],[0.1111111111111111,\"#46039f\"],[0.2222222222222222,\"#7201a8\"],[0.3333333333333333,\"#9c179e\"],[0.4444444444444444,\"#bd3786\"],[0.5555555555555556,\"#d8576b\"],[0.6666666666666666,\"#ed7953\"],[0.7777777777777778,\"#fb9f3a\"],[0.8888888888888888,\"#fdca26\"],[1.0,\"#f0f921\"]],\"type\":\"histogram2dcontour\"}],\"mesh3d\":[{\"colorbar\":{\"outlinewidth\":0,\"ticks\":\"\"},\"type\":\"mesh3d\"}],\"parcoords\":[{\"line\":{\"colorbar\":{\"outlinewidth\":0,\"ticks\":\"\"}},\"type\":\"parcoords\"}],\"pie\":[{\"automargin\":true,\"type\":\"pie\"}],\"scatter\":[{\"marker\":{\"colorbar\":{\"outlinewidth\":0,\"ticks\":\"\"}},\"type\":\"scatter\"}],\"scatter3d\":[{\"line\":{\"colorbar\":{\"outlinewidth\":0,\"ticks\":\"\"}},\"marker\":{\"colorbar\":{\"outlinewidth\":0,\"ticks\":\"\"}},\"type\":\"scatter3d\"}],\"scattercarpet\":[{\"marker\":{\"colorbar\":{\"outlinewidth\":0,\"ticks\":\"\"}},\"type\":\"scattercarpet\"}],\"scattergeo\":[{\"marker\":{\"colorbar\":{\"outlinewidth\":0,\"ticks\":\"\"}},\"type\":\"scattergeo\"}],\"scattergl\":[{\"marker\":{\"colorbar\":{\"outlinewidth\":0,\"ticks\":\"\"}},\"type\":\"scattergl\"}],\"scattermapbox\":[{\"marker\":{\"colorbar\":{\"outlinewidth\":0,\"ticks\":\"\"}},\"type\":\"scattermapbox\"}],\"scatterpolar\":[{\"marker\":{\"colorbar\":{\"outlinewidth\":0,\"ticks\":\"\"}},\"type\":\"scatterpolar\"}],\"scatterpolargl\":[{\"marker\":{\"colorbar\":{\"outlinewidth\":0,\"ticks\":\"\"}},\"type\":\"scatterpolargl\"}],\"scatterternary\":[{\"marker\":{\"colorbar\":{\"outlinewidth\":0,\"ticks\":\"\"}},\"type\":\"scatterternary\"}],\"surface\":[{\"colorbar\":{\"outlinewidth\":0,\"ticks\":\"\"},\"colorscale\":[[0.0,\"#0d0887\"],[0.1111111111111111,\"#46039f\"],[0.2222222222222222,\"#7201a8\"],[0.3333333333333333,\"#9c179e\"],[0.4444444444444444,\"#bd3786\"],[0.5555555555555556,\"#d8576b\"],[0.6666666666666666,\"#ed7953\"],[0.7777777777777778,\"#fb9f3a\"],[0.8888888888888888,\"#fdca26\"],[1.0,\"#f0f921\"]],\"type\":\"surface\"}],\"table\":[{\"cells\":{\"fill\":{\"color\":\"#EBF0F8\"},\"line\":{\"color\":\"white\"}},\"header\":{\"fill\":{\"color\":\"#C8D4E3\"},\"line\":{\"color\":\"white\"}},\"type\":\"table\"}]},\"layout\":{\"annotationdefaults\":{\"arrowcolor\":\"#2a3f5f\",\"arrowhead\":0,\"arrowwidth\":1},\"autotypenumbers\":\"strict\",\"coloraxis\":{\"colorbar\":{\"outlinewidth\":0,\"ticks\":\"\"}},\"colorscale\":{\"diverging\":[[0,\"#8e0152\"],[0.1,\"#c51b7d\"],[0.2,\"#de77ae\"],[0.3,\"#f1b6da\"],[0.4,\"#fde0ef\"],[0.5,\"#f7f7f7\"],[0.6,\"#e6f5d0\"],[0.7,\"#b8e186\"],[0.8,\"#7fbc41\"],[0.9,\"#4d9221\"],[1,\"#276419\"]],\"sequential\":[[0.0,\"#0d0887\"],[0.1111111111111111,\"#46039f\"],[0.2222222222222222,\"#7201a8\"],[0.3333333333333333,\"#9c179e\"],[0.4444444444444444,\"#bd3786\"],[0.5555555555555556,\"#d8576b\"],[0.6666666666666666,\"#ed7953\"],[0.7777777777777778,\"#fb9f3a\"],[0.8888888888888888,\"#fdca26\"],[1.0,\"#f0f921\"]],\"sequentialminus\":[[0.0,\"#0d0887\"],[0.1111111111111111,\"#46039f\"],[0.2222222222222222,\"#7201a8\"],[0.3333333333333333,\"#9c179e\"],[0.4444444444444444,\"#bd3786\"],[0.5555555555555556,\"#d8576b\"],[0.6666666666666666,\"#ed7953\"],[0.7777777777777778,\"#fb9f3a\"],[0.8888888888888888,\"#fdca26\"],[1.0,\"#f0f921\"]]},\"colorway\":[\"#636efa\",\"#EF553B\",\"#00cc96\",\"#ab63fa\",\"#FFA15A\",\"#19d3f3\",\"#FF6692\",\"#B6E880\",\"#FF97FF\",\"#FECB52\"],\"font\":{\"color\":\"#2a3f5f\"},\"geo\":{\"bgcolor\":\"white\",\"lakecolor\":\"white\",\"landcolor\":\"#E5ECF6\",\"showlakes\":true,\"showland\":true,\"subunitcolor\":\"white\"},\"hoverlabel\":{\"align\":\"left\"},\"hovermode\":\"closest\",\"mapbox\":{\"style\":\"light\"},\"paper_bgcolor\":\"white\",\"plot_bgcolor\":\"#E5ECF6\",\"polar\":{\"angularaxis\":{\"gridcolor\":\"white\",\"linecolor\":\"white\",\"ticks\":\"\"},\"bgcolor\":\"#E5ECF6\",\"radialaxis\":{\"gridcolor\":\"white\",\"linecolor\":\"white\",\"ticks\":\"\"}},\"scene\":{\"xaxis\":{\"backgroundcolor\":\"#E5ECF6\",\"gridcolor\":\"white\",\"gridwidth\":2,\"linecolor\":\"white\",\"showbackground\":true,\"ticks\":\"\",\"zerolinecolor\":\"white\"},\"yaxis\":{\"backgroundcolor\":\"#E5ECF6\",\"gridcolor\":\"white\",\"gridwidth\":2,\"linecolor\":\"white\",\"showbackground\":true,\"ticks\":\"\",\"zerolinecolor\":\"white\"},\"zaxis\":{\"backgroundcolor\":\"#E5ECF6\",\"gridcolor\":\"white\",\"gridwidth\":2,\"linecolor\":\"white\",\"showbackground\":true,\"ticks\":\"\",\"zerolinecolor\":\"white\"}},\"shapedefaults\":{\"line\":{\"color\":\"#2a3f5f\"}},\"ternary\":{\"aaxis\":{\"gridcolor\":\"white\",\"linecolor\":\"white\",\"ticks\":\"\"},\"baxis\":{\"gridcolor\":\"white\",\"linecolor\":\"white\",\"ticks\":\"\"},\"bgcolor\":\"#E5ECF6\",\"caxis\":{\"gridcolor\":\"white\",\"linecolor\":\"white\",\"ticks\":\"\"}},\"title\":{\"x\":0.05},\"xaxis\":{\"automargin\":true,\"gridcolor\":\"white\",\"linecolor\":\"white\",\"ticks\":\"\",\"title\":{\"standoff\":15},\"zerolinecolor\":\"white\",\"zerolinewidth\":2},\"yaxis\":{\"automargin\":true,\"gridcolor\":\"white\",\"linecolor\":\"white\",\"ticks\":\"\",\"title\":{\"standoff\":15},\"zerolinecolor\":\"white\",\"zerolinewidth\":2}}},\"legend\":{\"tracegroupgap\":0},\"title\":{\"text\":\"Distribution of personality types\"}},                        {\"responsive\": true}                    ).then(function(){\n",
              "                            \n",
              "var gd = document.getElementById('e76d0ad3-2be5-4053-a5ae-05bcae322cd8');\n",
              "var x = new MutationObserver(function (mutations, observer) {{\n",
              "        var display = window.getComputedStyle(gd).display;\n",
              "        if (!display || display === 'none') {{\n",
              "            console.log([gd, 'removed!']);\n",
              "            Plotly.purge(gd);\n",
              "            observer.disconnect();\n",
              "        }}\n",
              "}});\n",
              "\n",
              "// Listen for the removal of the full notebook cells\n",
              "var notebookContainer = gd.closest('#notebook-container');\n",
              "if (notebookContainer) {{\n",
              "    x.observe(notebookContainer, {childList: true});\n",
              "}}\n",
              "\n",
              "// Listen for the clearing of the current output cell\n",
              "var outputEl = gd.closest('.output');\n",
              "if (outputEl) {{\n",
              "    x.observe(outputEl, {childList: true});\n",
              "}}\n",
              "\n",
              "                        })                };                            </script>        </div>\n",
              "</body>\n",
              "</html>"
            ]
          },
          "metadata": {}
        }
      ]
    },
    {
      "cell_type": "code",
      "source": [
        "data['words_per_comment'] = data['posts'].apply(lambda x: len(x.split())/50)\n",
        "data['variance_of_word_counts'] = data['posts'].apply(lambda x: var_row(x))\n",
        "\n",
        "plt.figure(figsize=(15,10))\n",
        "sns.swarmplot(\"type\", \"words_per_comment\", data=data)"
      ],
      "metadata": {
        "colab": {
          "base_uri": "https://localhost:8080/",
          "height": 414
        },
        "id": "MQqmgpPzN0XQ",
        "outputId": "b8e7e8e9-e9b7-44f8-ae10-c82a53418bce"
      },
      "execution_count": null,
      "outputs": [
        {
          "output_type": "error",
          "ename": "NameError",
          "evalue": "ignored",
          "traceback": [
            "\u001b[0;31m---------------------------------------------------------------------------\u001b[0m",
            "\u001b[0;31mNameError\u001b[0m                                 Traceback (most recent call last)",
            "\u001b[0;32m<ipython-input-15-56fb96c5cd8b>\u001b[0m in \u001b[0;36m<module>\u001b[0;34m()\u001b[0m\n\u001b[1;32m      1\u001b[0m \u001b[0mdata\u001b[0m\u001b[0;34m[\u001b[0m\u001b[0;34m'words_per_comment'\u001b[0m\u001b[0;34m]\u001b[0m \u001b[0;34m=\u001b[0m \u001b[0mdata\u001b[0m\u001b[0;34m[\u001b[0m\u001b[0;34m'posts'\u001b[0m\u001b[0;34m]\u001b[0m\u001b[0;34m.\u001b[0m\u001b[0mapply\u001b[0m\u001b[0;34m(\u001b[0m\u001b[0;32mlambda\u001b[0m \u001b[0mx\u001b[0m\u001b[0;34m:\u001b[0m \u001b[0mlen\u001b[0m\u001b[0;34m(\u001b[0m\u001b[0mx\u001b[0m\u001b[0;34m.\u001b[0m\u001b[0msplit\u001b[0m\u001b[0;34m(\u001b[0m\u001b[0;34m)\u001b[0m\u001b[0;34m)\u001b[0m\u001b[0;34m/\u001b[0m\u001b[0;36m50\u001b[0m\u001b[0;34m)\u001b[0m\u001b[0;34m\u001b[0m\u001b[0;34m\u001b[0m\u001b[0m\n\u001b[0;32m----> 2\u001b[0;31m \u001b[0mdata\u001b[0m\u001b[0;34m[\u001b[0m\u001b[0;34m'variance_of_word_counts'\u001b[0m\u001b[0;34m]\u001b[0m \u001b[0;34m=\u001b[0m \u001b[0mdata\u001b[0m\u001b[0;34m[\u001b[0m\u001b[0;34m'posts'\u001b[0m\u001b[0;34m]\u001b[0m\u001b[0;34m.\u001b[0m\u001b[0mapply\u001b[0m\u001b[0;34m(\u001b[0m\u001b[0;32mlambda\u001b[0m \u001b[0mx\u001b[0m\u001b[0;34m:\u001b[0m \u001b[0mvar_row\u001b[0m\u001b[0;34m(\u001b[0m\u001b[0mx\u001b[0m\u001b[0;34m)\u001b[0m\u001b[0;34m)\u001b[0m\u001b[0;34m\u001b[0m\u001b[0;34m\u001b[0m\u001b[0m\n\u001b[0m\u001b[1;32m      3\u001b[0m \u001b[0;34m\u001b[0m\u001b[0m\n\u001b[1;32m      4\u001b[0m \u001b[0mplt\u001b[0m\u001b[0;34m.\u001b[0m\u001b[0mfigure\u001b[0m\u001b[0;34m(\u001b[0m\u001b[0mfigsize\u001b[0m\u001b[0;34m=\u001b[0m\u001b[0;34m(\u001b[0m\u001b[0;36m15\u001b[0m\u001b[0;34m,\u001b[0m\u001b[0;36m10\u001b[0m\u001b[0;34m)\u001b[0m\u001b[0;34m)\u001b[0m\u001b[0;34m\u001b[0m\u001b[0;34m\u001b[0m\u001b[0m\n\u001b[1;32m      5\u001b[0m \u001b[0msns\u001b[0m\u001b[0;34m.\u001b[0m\u001b[0mswarmplot\u001b[0m\u001b[0;34m(\u001b[0m\u001b[0;34m\"type\"\u001b[0m\u001b[0;34m,\u001b[0m \u001b[0;34m\"words_per_comment\"\u001b[0m\u001b[0;34m,\u001b[0m \u001b[0mdata\u001b[0m\u001b[0;34m=\u001b[0m\u001b[0mdata\u001b[0m\u001b[0;34m)\u001b[0m\u001b[0;34m\u001b[0m\u001b[0;34m\u001b[0m\u001b[0m\n",
            "\u001b[0;32m/usr/local/lib/python3.7/dist-packages/pandas/core/series.py\u001b[0m in \u001b[0;36mapply\u001b[0;34m(self, func, convert_dtype, args, **kwargs)\u001b[0m\n\u001b[1;32m   4355\u001b[0m         \u001b[0mdtype\u001b[0m\u001b[0;34m:\u001b[0m \u001b[0mfloat64\u001b[0m\u001b[0;34m\u001b[0m\u001b[0;34m\u001b[0m\u001b[0m\n\u001b[1;32m   4356\u001b[0m         \"\"\"\n\u001b[0;32m-> 4357\u001b[0;31m         \u001b[0;32mreturn\u001b[0m \u001b[0mSeriesApply\u001b[0m\u001b[0;34m(\u001b[0m\u001b[0mself\u001b[0m\u001b[0;34m,\u001b[0m \u001b[0mfunc\u001b[0m\u001b[0;34m,\u001b[0m \u001b[0mconvert_dtype\u001b[0m\u001b[0;34m,\u001b[0m \u001b[0margs\u001b[0m\u001b[0;34m,\u001b[0m \u001b[0mkwargs\u001b[0m\u001b[0;34m)\u001b[0m\u001b[0;34m.\u001b[0m\u001b[0mapply\u001b[0m\u001b[0;34m(\u001b[0m\u001b[0;34m)\u001b[0m\u001b[0;34m\u001b[0m\u001b[0;34m\u001b[0m\u001b[0m\n\u001b[0m\u001b[1;32m   4358\u001b[0m \u001b[0;34m\u001b[0m\u001b[0m\n\u001b[1;32m   4359\u001b[0m     def _reduce(\n",
            "\u001b[0;32m/usr/local/lib/python3.7/dist-packages/pandas/core/apply.py\u001b[0m in \u001b[0;36mapply\u001b[0;34m(self)\u001b[0m\n\u001b[1;32m   1041\u001b[0m             \u001b[0;32mreturn\u001b[0m \u001b[0mself\u001b[0m\u001b[0;34m.\u001b[0m\u001b[0mapply_str\u001b[0m\u001b[0;34m(\u001b[0m\u001b[0;34m)\u001b[0m\u001b[0;34m\u001b[0m\u001b[0;34m\u001b[0m\u001b[0m\n\u001b[1;32m   1042\u001b[0m \u001b[0;34m\u001b[0m\u001b[0m\n\u001b[0;32m-> 1043\u001b[0;31m         \u001b[0;32mreturn\u001b[0m \u001b[0mself\u001b[0m\u001b[0;34m.\u001b[0m\u001b[0mapply_standard\u001b[0m\u001b[0;34m(\u001b[0m\u001b[0;34m)\u001b[0m\u001b[0;34m\u001b[0m\u001b[0;34m\u001b[0m\u001b[0m\n\u001b[0m\u001b[1;32m   1044\u001b[0m \u001b[0;34m\u001b[0m\u001b[0m\n\u001b[1;32m   1045\u001b[0m     \u001b[0;32mdef\u001b[0m \u001b[0magg\u001b[0m\u001b[0;34m(\u001b[0m\u001b[0mself\u001b[0m\u001b[0;34m)\u001b[0m\u001b[0;34m:\u001b[0m\u001b[0;34m\u001b[0m\u001b[0;34m\u001b[0m\u001b[0m\n",
            "\u001b[0;32m/usr/local/lib/python3.7/dist-packages/pandas/core/apply.py\u001b[0m in \u001b[0;36mapply_standard\u001b[0;34m(self)\u001b[0m\n\u001b[1;32m   1099\u001b[0m                     \u001b[0mvalues\u001b[0m\u001b[0;34m,\u001b[0m\u001b[0;34m\u001b[0m\u001b[0;34m\u001b[0m\u001b[0m\n\u001b[1;32m   1100\u001b[0m                     \u001b[0mf\u001b[0m\u001b[0;34m,\u001b[0m  \u001b[0;31m# type: ignore[arg-type]\u001b[0m\u001b[0;34m\u001b[0m\u001b[0;34m\u001b[0m\u001b[0m\n\u001b[0;32m-> 1101\u001b[0;31m                     \u001b[0mconvert\u001b[0m\u001b[0;34m=\u001b[0m\u001b[0mself\u001b[0m\u001b[0;34m.\u001b[0m\u001b[0mconvert_dtype\u001b[0m\u001b[0;34m,\u001b[0m\u001b[0;34m\u001b[0m\u001b[0;34m\u001b[0m\u001b[0m\n\u001b[0m\u001b[1;32m   1102\u001b[0m                 )\n\u001b[1;32m   1103\u001b[0m \u001b[0;34m\u001b[0m\u001b[0m\n",
            "\u001b[0;32m/usr/local/lib/python3.7/dist-packages/pandas/_libs/lib.pyx\u001b[0m in \u001b[0;36mpandas._libs.lib.map_infer\u001b[0;34m()\u001b[0m\n",
            "\u001b[0;32m<ipython-input-15-56fb96c5cd8b>\u001b[0m in \u001b[0;36m<lambda>\u001b[0;34m(x)\u001b[0m\n\u001b[1;32m      1\u001b[0m \u001b[0mdata\u001b[0m\u001b[0;34m[\u001b[0m\u001b[0;34m'words_per_comment'\u001b[0m\u001b[0;34m]\u001b[0m \u001b[0;34m=\u001b[0m \u001b[0mdata\u001b[0m\u001b[0;34m[\u001b[0m\u001b[0;34m'posts'\u001b[0m\u001b[0;34m]\u001b[0m\u001b[0;34m.\u001b[0m\u001b[0mapply\u001b[0m\u001b[0;34m(\u001b[0m\u001b[0;32mlambda\u001b[0m \u001b[0mx\u001b[0m\u001b[0;34m:\u001b[0m \u001b[0mlen\u001b[0m\u001b[0;34m(\u001b[0m\u001b[0mx\u001b[0m\u001b[0;34m.\u001b[0m\u001b[0msplit\u001b[0m\u001b[0;34m(\u001b[0m\u001b[0;34m)\u001b[0m\u001b[0;34m)\u001b[0m\u001b[0;34m/\u001b[0m\u001b[0;36m50\u001b[0m\u001b[0;34m)\u001b[0m\u001b[0;34m\u001b[0m\u001b[0;34m\u001b[0m\u001b[0m\n\u001b[0;32m----> 2\u001b[0;31m \u001b[0mdata\u001b[0m\u001b[0;34m[\u001b[0m\u001b[0;34m'variance_of_word_counts'\u001b[0m\u001b[0;34m]\u001b[0m \u001b[0;34m=\u001b[0m \u001b[0mdata\u001b[0m\u001b[0;34m[\u001b[0m\u001b[0;34m'posts'\u001b[0m\u001b[0;34m]\u001b[0m\u001b[0;34m.\u001b[0m\u001b[0mapply\u001b[0m\u001b[0;34m(\u001b[0m\u001b[0;32mlambda\u001b[0m \u001b[0mx\u001b[0m\u001b[0;34m:\u001b[0m \u001b[0mvar_row\u001b[0m\u001b[0;34m(\u001b[0m\u001b[0mx\u001b[0m\u001b[0;34m)\u001b[0m\u001b[0;34m)\u001b[0m\u001b[0;34m\u001b[0m\u001b[0;34m\u001b[0m\u001b[0m\n\u001b[0m\u001b[1;32m      3\u001b[0m \u001b[0;34m\u001b[0m\u001b[0m\n\u001b[1;32m      4\u001b[0m \u001b[0mplt\u001b[0m\u001b[0;34m.\u001b[0m\u001b[0mfigure\u001b[0m\u001b[0;34m(\u001b[0m\u001b[0mfigsize\u001b[0m\u001b[0;34m=\u001b[0m\u001b[0;34m(\u001b[0m\u001b[0;36m15\u001b[0m\u001b[0;34m,\u001b[0m\u001b[0;36m10\u001b[0m\u001b[0;34m)\u001b[0m\u001b[0;34m)\u001b[0m\u001b[0;34m\u001b[0m\u001b[0;34m\u001b[0m\u001b[0m\n\u001b[1;32m      5\u001b[0m \u001b[0msns\u001b[0m\u001b[0;34m.\u001b[0m\u001b[0mswarmplot\u001b[0m\u001b[0;34m(\u001b[0m\u001b[0;34m\"type\"\u001b[0m\u001b[0;34m,\u001b[0m \u001b[0;34m\"words_per_comment\"\u001b[0m\u001b[0;34m,\u001b[0m \u001b[0mdata\u001b[0m\u001b[0;34m=\u001b[0m\u001b[0mdata\u001b[0m\u001b[0;34m)\u001b[0m\u001b[0;34m\u001b[0m\u001b[0;34m\u001b[0m\u001b[0m\n",
            "\u001b[0;31mNameError\u001b[0m: name 'var_row' is not defined"
          ]
        }
      ]
    },
    {
      "cell_type": "code",
      "source": [
        "data['type'].value_counts()"
      ],
      "metadata": {
        "colab": {
          "base_uri": "https://localhost:8080/"
        },
        "id": "RO1vlQegrjvS",
        "outputId": "9abba85d-04eb-4b82-f8ca-13ef1cd72126"
      },
      "execution_count": null,
      "outputs": [
        {
          "output_type": "execute_result",
          "data": {
            "text/plain": [
              "INFP    1832\n",
              "INFJ    1470\n",
              "INTP    1304\n",
              "INTJ    1091\n",
              "ENTP     685\n",
              "ENFP     675\n",
              "ISTP     337\n",
              "ISFP     271\n",
              "ENTJ     231\n",
              "ISTJ     205\n",
              "ENFJ     190\n",
              "ISFJ     166\n",
              "ESTP      89\n",
              "ESFP      48\n",
              "ESFJ      42\n",
              "ESTJ      39\n",
              "Name: type, dtype: int64"
            ]
          },
          "metadata": {},
          "execution_count": 82
        }
      ]
    },
    {
      "cell_type": "code",
      "source": [
        "# converting posts into lower case\n",
        "data[\"posts\"] = data[\"posts\"].str.lower()\n",
        "\n",
        "# dropping MBTIs mentioned in the posts. There are quite a few mention of these types in these posts.\n",
        "mbti = data[\"type\"].unique()\n",
        "for type_word in mbti:\n",
        "    data[\"posts\"] = data[\"posts\"].str.replace(\n",
        "        type_word.lower(), \"\"\n",
        "    )\n",
        "data    "
      ],
      "metadata": {
        "colab": {
          "base_uri": "https://localhost:8080/",
          "height": 423
        },
        "id": "-3lydEydGM2n",
        "outputId": "9160ab5e-0c49-413d-b8d0-b78394f85f8d"
      },
      "execution_count": null,
      "outputs": [
        {
          "output_type": "execute_result",
          "data": {
            "text/plain": [
              "      type                                              posts\n",
              "0     INFJ  'http://www.youtube.com/watch?v=qsxhcwe3krw|||...\n",
              "1     ENTP  'i'm finding the lack of me in these posts ver...\n",
              "2     INTP  'good one  _____   https://www.youtube.com/wat...\n",
              "3     INTJ  'dear ,   i enjoyed our conversation the other...\n",
              "4     ENTJ  'you're fired.|||that's another silly misconce...\n",
              "...    ...                                                ...\n",
              "8670  ISFP  'https://www.youtube.com/watch?v=t8edhb_h908||...\n",
              "8671  ENFP  'so...if this thread already exists someplace ...\n",
              "8672  INTP  'so many questions when i do these things.  i ...\n",
              "8673  INFP  'i am very conflicted right now when it comes ...\n",
              "8674  INFP  'it has been too long since i have been on per...\n",
              "\n",
              "[8675 rows x 2 columns]"
            ],
            "text/html": [
              "\n",
              "  <div id=\"df-ae749c42-5b35-4ba6-894e-dbf20e248368\">\n",
              "    <div class=\"colab-df-container\">\n",
              "      <div>\n",
              "<style scoped>\n",
              "    .dataframe tbody tr th:only-of-type {\n",
              "        vertical-align: middle;\n",
              "    }\n",
              "\n",
              "    .dataframe tbody tr th {\n",
              "        vertical-align: top;\n",
              "    }\n",
              "\n",
              "    .dataframe thead th {\n",
              "        text-align: right;\n",
              "    }\n",
              "</style>\n",
              "<table border=\"1\" class=\"dataframe\">\n",
              "  <thead>\n",
              "    <tr style=\"text-align: right;\">\n",
              "      <th></th>\n",
              "      <th>type</th>\n",
              "      <th>posts</th>\n",
              "    </tr>\n",
              "  </thead>\n",
              "  <tbody>\n",
              "    <tr>\n",
              "      <th>0</th>\n",
              "      <td>INFJ</td>\n",
              "      <td>'http://www.youtube.com/watch?v=qsxhcwe3krw|||...</td>\n",
              "    </tr>\n",
              "    <tr>\n",
              "      <th>1</th>\n",
              "      <td>ENTP</td>\n",
              "      <td>'i'm finding the lack of me in these posts ver...</td>\n",
              "    </tr>\n",
              "    <tr>\n",
              "      <th>2</th>\n",
              "      <td>INTP</td>\n",
              "      <td>'good one  _____   https://www.youtube.com/wat...</td>\n",
              "    </tr>\n",
              "    <tr>\n",
              "      <th>3</th>\n",
              "      <td>INTJ</td>\n",
              "      <td>'dear ,   i enjoyed our conversation the other...</td>\n",
              "    </tr>\n",
              "    <tr>\n",
              "      <th>4</th>\n",
              "      <td>ENTJ</td>\n",
              "      <td>'you're fired.|||that's another silly misconce...</td>\n",
              "    </tr>\n",
              "    <tr>\n",
              "      <th>...</th>\n",
              "      <td>...</td>\n",
              "      <td>...</td>\n",
              "    </tr>\n",
              "    <tr>\n",
              "      <th>8670</th>\n",
              "      <td>ISFP</td>\n",
              "      <td>'https://www.youtube.com/watch?v=t8edhb_h908||...</td>\n",
              "    </tr>\n",
              "    <tr>\n",
              "      <th>8671</th>\n",
              "      <td>ENFP</td>\n",
              "      <td>'so...if this thread already exists someplace ...</td>\n",
              "    </tr>\n",
              "    <tr>\n",
              "      <th>8672</th>\n",
              "      <td>INTP</td>\n",
              "      <td>'so many questions when i do these things.  i ...</td>\n",
              "    </tr>\n",
              "    <tr>\n",
              "      <th>8673</th>\n",
              "      <td>INFP</td>\n",
              "      <td>'i am very conflicted right now when it comes ...</td>\n",
              "    </tr>\n",
              "    <tr>\n",
              "      <th>8674</th>\n",
              "      <td>INFP</td>\n",
              "      <td>'it has been too long since i have been on per...</td>\n",
              "    </tr>\n",
              "  </tbody>\n",
              "</table>\n",
              "<p>8675 rows × 2 columns</p>\n",
              "</div>\n",
              "      <button class=\"colab-df-convert\" onclick=\"convertToInteractive('df-ae749c42-5b35-4ba6-894e-dbf20e248368')\"\n",
              "              title=\"Convert this dataframe to an interactive table.\"\n",
              "              style=\"display:none;\">\n",
              "        \n",
              "  <svg xmlns=\"http://www.w3.org/2000/svg\" height=\"24px\"viewBox=\"0 0 24 24\"\n",
              "       width=\"24px\">\n",
              "    <path d=\"M0 0h24v24H0V0z\" fill=\"none\"/>\n",
              "    <path d=\"M18.56 5.44l.94 2.06.94-2.06 2.06-.94-2.06-.94-.94-2.06-.94 2.06-2.06.94zm-11 1L8.5 8.5l.94-2.06 2.06-.94-2.06-.94L8.5 2.5l-.94 2.06-2.06.94zm10 10l.94 2.06.94-2.06 2.06-.94-2.06-.94-.94-2.06-.94 2.06-2.06.94z\"/><path d=\"M17.41 7.96l-1.37-1.37c-.4-.4-.92-.59-1.43-.59-.52 0-1.04.2-1.43.59L10.3 9.45l-7.72 7.72c-.78.78-.78 2.05 0 2.83L4 21.41c.39.39.9.59 1.41.59.51 0 1.02-.2 1.41-.59l7.78-7.78 2.81-2.81c.8-.78.8-2.07 0-2.86zM5.41 20L4 18.59l7.72-7.72 1.47 1.35L5.41 20z\"/>\n",
              "  </svg>\n",
              "      </button>\n",
              "      \n",
              "  <style>\n",
              "    .colab-df-container {\n",
              "      display:flex;\n",
              "      flex-wrap:wrap;\n",
              "      gap: 12px;\n",
              "    }\n",
              "\n",
              "    .colab-df-convert {\n",
              "      background-color: #E8F0FE;\n",
              "      border: none;\n",
              "      border-radius: 50%;\n",
              "      cursor: pointer;\n",
              "      display: none;\n",
              "      fill: #1967D2;\n",
              "      height: 32px;\n",
              "      padding: 0 0 0 0;\n",
              "      width: 32px;\n",
              "    }\n",
              "\n",
              "    .colab-df-convert:hover {\n",
              "      background-color: #E2EBFA;\n",
              "      box-shadow: 0px 1px 2px rgba(60, 64, 67, 0.3), 0px 1px 3px 1px rgba(60, 64, 67, 0.15);\n",
              "      fill: #174EA6;\n",
              "    }\n",
              "\n",
              "    [theme=dark] .colab-df-convert {\n",
              "      background-color: #3B4455;\n",
              "      fill: #D2E3FC;\n",
              "    }\n",
              "\n",
              "    [theme=dark] .colab-df-convert:hover {\n",
              "      background-color: #434B5C;\n",
              "      box-shadow: 0px 1px 3px 1px rgba(0, 0, 0, 0.15);\n",
              "      filter: drop-shadow(0px 1px 2px rgba(0, 0, 0, 0.3));\n",
              "      fill: #FFFFFF;\n",
              "    }\n",
              "  </style>\n",
              "\n",
              "      <script>\n",
              "        const buttonEl =\n",
              "          document.querySelector('#df-ae749c42-5b35-4ba6-894e-dbf20e248368 button.colab-df-convert');\n",
              "        buttonEl.style.display =\n",
              "          google.colab.kernel.accessAllowed ? 'block' : 'none';\n",
              "\n",
              "        async function convertToInteractive(key) {\n",
              "          const element = document.querySelector('#df-ae749c42-5b35-4ba6-894e-dbf20e248368');\n",
              "          const dataTable =\n",
              "            await google.colab.kernel.invokeFunction('convertToInteractive',\n",
              "                                                     [key], {});\n",
              "          if (!dataTable) return;\n",
              "\n",
              "          const docLinkHtml = 'Like what you see? Visit the ' +\n",
              "            '<a target=\"_blank\" href=https://colab.research.google.com/notebooks/data_table.ipynb>data table notebook</a>'\n",
              "            + ' to learn more about interactive tables.';\n",
              "          element.innerHTML = '';\n",
              "          dataTable['output_type'] = 'display_data';\n",
              "          await google.colab.output.renderOutput(dataTable, element);\n",
              "          const docLink = document.createElement('div');\n",
              "          docLink.innerHTML = docLinkHtml;\n",
              "          element.appendChild(docLink);\n",
              "        }\n",
              "      </script>\n",
              "    </div>\n",
              "  </div>\n",
              "  "
            ]
          },
          "metadata": {},
          "execution_count": 83
        }
      ]
    },
    {
      "cell_type": "code",
      "source": [
        "def clean_text(data):\n",
        "    data_length=[]\n",
        "    lemmatizer=WordNetLemmatizer()\n",
        "    cleaned_text=[]\n",
        "    for sentence in tqdm(data.posts):\n",
        "        sentence=sentence.lower()\n",
        "        \n",
        "        #removing links from text data\n",
        "        sentence=re.sub('https?://[^\\s<>\"]+|www\\.[^\\s<>\"]+',' ',sentence)\n",
        "    \n",
        "        #removing other symbols\n",
        "        sentence=re.sub('[^0-9a-z]',' ',sentence)\n",
        "    \n",
        "        \n",
        "        data_length.append(len(sentence.split()))\n",
        "        cleaned_text.append(sentence)\n",
        "    return cleaned_text"
      ],
      "metadata": {
        "id": "VFn79ANcwm6l"
      },
      "execution_count": null,
      "outputs": []
    },
    {
      "cell_type": "code",
      "source": [
        "data.posts = clean_text(data)\n",
        "data"
      ],
      "metadata": {
        "colab": {
          "base_uri": "https://localhost:8080/",
          "height": 455,
          "referenced_widgets": [
            "eaab18ee791b4d009269a2b3161d3a6d",
            "f233951ebf0d49209ed04000ab81f6f4",
            "17b18d2b14a9491cba69a91f7fedab08",
            "a9e76577dcce4e10a8e8a9d6733d325c",
            "f14c4818a4b74be89ed5df4cc4fc96e9",
            "4bf81109a4fc43058a725e462534675a",
            "4b391beafd904fdd9f0ed7410f54c2f7",
            "e99fb5ef992c49bc87e5b20b9742aa50",
            "96813c5710114e4fa5eb5b255ebf8543",
            "aacb1f5548f141998753ea27c490c5e2",
            "b265806a950748cf8649eeacf7b1e979"
          ]
        },
        "id": "MJNhq78Vugbp",
        "outputId": "6da57638-2dd1-460a-da23-0c8d898977e6"
      },
      "execution_count": null,
      "outputs": [
        {
          "output_type": "display_data",
          "data": {
            "text/plain": [
              "  0%|          | 0/8675 [00:00<?, ?it/s]"
            ],
            "application/vnd.jupyter.widget-view+json": {
              "version_major": 2,
              "version_minor": 0,
              "model_id": "eaab18ee791b4d009269a2b3161d3a6d"
            }
          },
          "metadata": {}
        },
        {
          "output_type": "execute_result",
          "data": {
            "text/plain": [
              "      type                                              posts\n",
              "0     INFJ     and  moments     sportscenter not top ten p...\n",
              "1     ENTP   i m finding the lack of me in these posts ver...\n",
              "2     INTP   good one            course  to which i say i ...\n",
              "3     INTJ   dear     i enjoyed our conversation the other...\n",
              "4     ENTJ   you re fired    that s another silly misconce...\n",
              "...    ...                                                ...\n",
              "8670  ISFP     just because i always think of cats as fi d...\n",
              "8671  ENFP   so   if this thread already exists someplace ...\n",
              "8672  INTP   so many questions when i do these things   i ...\n",
              "8673  INFP   i am very conflicted right now when it comes ...\n",
              "8674  INFP   it has been too long since i have been on per...\n",
              "\n",
              "[8675 rows x 2 columns]"
            ],
            "text/html": [
              "\n",
              "  <div id=\"df-699e04de-c57f-48f1-a3bf-62416fa27b0d\">\n",
              "    <div class=\"colab-df-container\">\n",
              "      <div>\n",
              "<style scoped>\n",
              "    .dataframe tbody tr th:only-of-type {\n",
              "        vertical-align: middle;\n",
              "    }\n",
              "\n",
              "    .dataframe tbody tr th {\n",
              "        vertical-align: top;\n",
              "    }\n",
              "\n",
              "    .dataframe thead th {\n",
              "        text-align: right;\n",
              "    }\n",
              "</style>\n",
              "<table border=\"1\" class=\"dataframe\">\n",
              "  <thead>\n",
              "    <tr style=\"text-align: right;\">\n",
              "      <th></th>\n",
              "      <th>type</th>\n",
              "      <th>posts</th>\n",
              "    </tr>\n",
              "  </thead>\n",
              "  <tbody>\n",
              "    <tr>\n",
              "      <th>0</th>\n",
              "      <td>INFJ</td>\n",
              "      <td>and  moments     sportscenter not top ten p...</td>\n",
              "    </tr>\n",
              "    <tr>\n",
              "      <th>1</th>\n",
              "      <td>ENTP</td>\n",
              "      <td>i m finding the lack of me in these posts ver...</td>\n",
              "    </tr>\n",
              "    <tr>\n",
              "      <th>2</th>\n",
              "      <td>INTP</td>\n",
              "      <td>good one            course  to which i say i ...</td>\n",
              "    </tr>\n",
              "    <tr>\n",
              "      <th>3</th>\n",
              "      <td>INTJ</td>\n",
              "      <td>dear     i enjoyed our conversation the other...</td>\n",
              "    </tr>\n",
              "    <tr>\n",
              "      <th>4</th>\n",
              "      <td>ENTJ</td>\n",
              "      <td>you re fired    that s another silly misconce...</td>\n",
              "    </tr>\n",
              "    <tr>\n",
              "      <th>...</th>\n",
              "      <td>...</td>\n",
              "      <td>...</td>\n",
              "    </tr>\n",
              "    <tr>\n",
              "      <th>8670</th>\n",
              "      <td>ISFP</td>\n",
              "      <td>just because i always think of cats as fi d...</td>\n",
              "    </tr>\n",
              "    <tr>\n",
              "      <th>8671</th>\n",
              "      <td>ENFP</td>\n",
              "      <td>so   if this thread already exists someplace ...</td>\n",
              "    </tr>\n",
              "    <tr>\n",
              "      <th>8672</th>\n",
              "      <td>INTP</td>\n",
              "      <td>so many questions when i do these things   i ...</td>\n",
              "    </tr>\n",
              "    <tr>\n",
              "      <th>8673</th>\n",
              "      <td>INFP</td>\n",
              "      <td>i am very conflicted right now when it comes ...</td>\n",
              "    </tr>\n",
              "    <tr>\n",
              "      <th>8674</th>\n",
              "      <td>INFP</td>\n",
              "      <td>it has been too long since i have been on per...</td>\n",
              "    </tr>\n",
              "  </tbody>\n",
              "</table>\n",
              "<p>8675 rows × 2 columns</p>\n",
              "</div>\n",
              "      <button class=\"colab-df-convert\" onclick=\"convertToInteractive('df-699e04de-c57f-48f1-a3bf-62416fa27b0d')\"\n",
              "              title=\"Convert this dataframe to an interactive table.\"\n",
              "              style=\"display:none;\">\n",
              "        \n",
              "  <svg xmlns=\"http://www.w3.org/2000/svg\" height=\"24px\"viewBox=\"0 0 24 24\"\n",
              "       width=\"24px\">\n",
              "    <path d=\"M0 0h24v24H0V0z\" fill=\"none\"/>\n",
              "    <path d=\"M18.56 5.44l.94 2.06.94-2.06 2.06-.94-2.06-.94-.94-2.06-.94 2.06-2.06.94zm-11 1L8.5 8.5l.94-2.06 2.06-.94-2.06-.94L8.5 2.5l-.94 2.06-2.06.94zm10 10l.94 2.06.94-2.06 2.06-.94-2.06-.94-.94-2.06-.94 2.06-2.06.94z\"/><path d=\"M17.41 7.96l-1.37-1.37c-.4-.4-.92-.59-1.43-.59-.52 0-1.04.2-1.43.59L10.3 9.45l-7.72 7.72c-.78.78-.78 2.05 0 2.83L4 21.41c.39.39.9.59 1.41.59.51 0 1.02-.2 1.41-.59l7.78-7.78 2.81-2.81c.8-.78.8-2.07 0-2.86zM5.41 20L4 18.59l7.72-7.72 1.47 1.35L5.41 20z\"/>\n",
              "  </svg>\n",
              "      </button>\n",
              "      \n",
              "  <style>\n",
              "    .colab-df-container {\n",
              "      display:flex;\n",
              "      flex-wrap:wrap;\n",
              "      gap: 12px;\n",
              "    }\n",
              "\n",
              "    .colab-df-convert {\n",
              "      background-color: #E8F0FE;\n",
              "      border: none;\n",
              "      border-radius: 50%;\n",
              "      cursor: pointer;\n",
              "      display: none;\n",
              "      fill: #1967D2;\n",
              "      height: 32px;\n",
              "      padding: 0 0 0 0;\n",
              "      width: 32px;\n",
              "    }\n",
              "\n",
              "    .colab-df-convert:hover {\n",
              "      background-color: #E2EBFA;\n",
              "      box-shadow: 0px 1px 2px rgba(60, 64, 67, 0.3), 0px 1px 3px 1px rgba(60, 64, 67, 0.15);\n",
              "      fill: #174EA6;\n",
              "    }\n",
              "\n",
              "    [theme=dark] .colab-df-convert {\n",
              "      background-color: #3B4455;\n",
              "      fill: #D2E3FC;\n",
              "    }\n",
              "\n",
              "    [theme=dark] .colab-df-convert:hover {\n",
              "      background-color: #434B5C;\n",
              "      box-shadow: 0px 1px 3px 1px rgba(0, 0, 0, 0.15);\n",
              "      filter: drop-shadow(0px 1px 2px rgba(0, 0, 0, 0.3));\n",
              "      fill: #FFFFFF;\n",
              "    }\n",
              "  </style>\n",
              "\n",
              "      <script>\n",
              "        const buttonEl =\n",
              "          document.querySelector('#df-699e04de-c57f-48f1-a3bf-62416fa27b0d button.colab-df-convert');\n",
              "        buttonEl.style.display =\n",
              "          google.colab.kernel.accessAllowed ? 'block' : 'none';\n",
              "\n",
              "        async function convertToInteractive(key) {\n",
              "          const element = document.querySelector('#df-699e04de-c57f-48f1-a3bf-62416fa27b0d');\n",
              "          const dataTable =\n",
              "            await google.colab.kernel.invokeFunction('convertToInteractive',\n",
              "                                                     [key], {});\n",
              "          if (!dataTable) return;\n",
              "\n",
              "          const docLinkHtml = 'Like what you see? Visit the ' +\n",
              "            '<a target=\"_blank\" href=https://colab.research.google.com/notebooks/data_table.ipynb>data table notebook</a>'\n",
              "            + ' to learn more about interactive tables.';\n",
              "          element.innerHTML = '';\n",
              "          dataTable['output_type'] = 'display_data';\n",
              "          await google.colab.output.renderOutput(dataTable, element);\n",
              "          const docLink = document.createElement('div');\n",
              "          docLink.innerHTML = docLinkHtml;\n",
              "          element.appendChild(docLink);\n",
              "        }\n",
              "      </script>\n",
              "    </div>\n",
              "  </div>\n",
              "  "
            ]
          },
          "metadata": {},
          "execution_count": 85
        }
      ]
    },
    {
      "cell_type": "code",
      "source": [
        "#Split dataset\n",
        "from sklearn.model_selection import train_test_split\n",
        "\n",
        "posts = data['posts'].values\n",
        "labels =  data['type'].values\n",
        "train_data, test_data = train_test_split(data, random_state=0, test_size=0.2)\n",
        "\n",
        "train_size = len(train_data)\n",
        "test_size = len(test_data)\n",
        "train_size, test_size"
      ],
      "metadata": {
        "colab": {
          "base_uri": "https://localhost:8080/"
        },
        "id": "gMBA8u-dx_uT",
        "outputId": "01926761-c2f3-49f0-f1cc-f3f1723bc66b"
      },
      "execution_count": null,
      "outputs": [
        {
          "output_type": "execute_result",
          "data": {
            "text/plain": [
              "(6940, 1735)"
            ]
          },
          "metadata": {},
          "execution_count": 87
        }
      ]
    },
    {
      "cell_type": "code",
      "source": [
        "#Initialize Bert tokenizer and masks\n",
        "!pip install transformers\n",
        "from transformers import BertTokenizer\n",
        "from keras.preprocessing.sequence import pad_sequences\n",
        "\n",
        "bert_model_name = 'bert-base-uncased'\n",
        "\n",
        "tokenizer = BertTokenizer.from_pretrained(bert_model_name, do_lower_case=True)\n",
        "MAX_LEN = 1800\n",
        "\n",
        "def tokenize_sentences(sentences, tokenizer, max_seq_len = 1800):\n",
        "    tokenized_sentences = []\n",
        "\n",
        "    for sentence in tqdm(sentences):\n",
        "        tokenized_sentence = tokenizer.encode(\n",
        "                            sentence,                  # Sentence to encode.\n",
        "                            add_special_tokens = True, # Add '[CLS]' and '[SEP]'\n",
        "                            max_length = max_seq_len,  # Truncate all sentences.\n",
        "                    )\n",
        "        tokenized_sentences.append(tokenized_sentence)\n",
        "        \n",
        "    return tokenized_sentences\n",
        "\n",
        "def create_attention_masks(tokenized_and_padded_sentences):\n",
        "    attention_masks = []\n",
        "\n",
        "    for sentence in tokenized_and_padded_sentences:\n",
        "        att_mask = [int(token_id > 0) for token_id in sentence]\n",
        "        attention_masks.append(att_mask)\n",
        "\n",
        "    return np.asarray(attention_masks)\n",
        "\n",
        "train_input_ids = tokenize_sentences(train_data['posts'], tokenizer, MAX_LEN)\n",
        "train_input_ids = pad_sequences(train_input_ids, maxlen=MAX_LEN, dtype=\"long\", value=0, truncating=\"post\", padding=\"post\")\n",
        "train_attention_masks = create_attention_masks(train_input_ids)\n",
        "\n",
        "test_input_ids = tokenize_sentences(test_data['posts'], tokenizer, MAX_LEN)\n",
        "test_input_ids = pad_sequences(test_input_ids, maxlen=MAX_LEN, dtype=\"long\", value=0, truncating=\"post\", padding=\"post\")\n",
        "test_attention_masks = create_attention_masks(test_input_ids)"
      ],
      "metadata": {
        "colab": {
          "base_uri": "https://localhost:8080/",
          "height": 500,
          "referenced_widgets": [
            "d0ec3a58f898466aa8e431b1eb3871f6",
            "ef728a56f8214691a3d1b698b40bccc5",
            "f2fbb31355a440d2a805341893915991",
            "e29396d4b4644235bbd6e669725e76b8",
            "3b1ce286269d43819a59a7409965bfbb",
            "9114374edede49e7b5adc85a10288e83",
            "79d9861ea7b840598c635dd17016eabd",
            "93a70a6a8a9547ff9169edb8f88b87a3",
            "17ede8e05a80463cb054c3eb5b8487ba",
            "f69a3abaa90942629abe5e8a6ff948e7",
            "8430f0639d184e2fbd9ceb80f7f176c6",
            "e6df180b09ee4ccf84bf087d87080433",
            "6657a1dd09f647b5a84e419b9737637e",
            "e332af453a7643979bd53ff50483ff12",
            "8ad7a88c37db4326a45829cd33933388",
            "473591577e0b40c38ed1d51b110c72f7",
            "c091603f2c5443aaba3be7f2b5e0d842",
            "fb3527ac2b7045d2afc2c1a160a9f10f",
            "a0cb7da46dda468493bf2487f35496ed",
            "eea17fcbeecd415da5b82826fac13034",
            "43b4db4a43f64897a9467fca97c05d54",
            "0a7fec47ff464793b5a4c4308faa25df"
          ]
        },
        "id": "uMMLh1ldyrc_",
        "outputId": "9382722e-15ba-49c7-d33f-74eb71871cdd"
      },
      "execution_count": null,
      "outputs": [
        {
          "output_type": "stream",
          "name": "stdout",
          "text": [
            "Requirement already satisfied: transformers in /usr/local/lib/python3.7/dist-packages (4.18.0)\n",
            "Requirement already satisfied: tokenizers!=0.11.3,<0.13,>=0.11.1 in /usr/local/lib/python3.7/dist-packages (from transformers) (0.12.1)\n",
            "Requirement already satisfied: pyyaml>=5.1 in /usr/local/lib/python3.7/dist-packages (from transformers) (6.0)\n",
            "Requirement already satisfied: huggingface-hub<1.0,>=0.1.0 in /usr/local/lib/python3.7/dist-packages (from transformers) (0.5.1)\n",
            "Requirement already satisfied: sacremoses in /usr/local/lib/python3.7/dist-packages (from transformers) (0.0.49)\n",
            "Requirement already satisfied: filelock in /usr/local/lib/python3.7/dist-packages (from transformers) (3.6.0)\n",
            "Requirement already satisfied: numpy>=1.17 in /usr/local/lib/python3.7/dist-packages (from transformers) (1.21.6)\n",
            "Requirement already satisfied: regex!=2019.12.17 in /usr/local/lib/python3.7/dist-packages (from transformers) (2019.12.20)\n",
            "Requirement already satisfied: importlib-metadata in /usr/local/lib/python3.7/dist-packages (from transformers) (4.11.3)\n",
            "Requirement already satisfied: packaging>=20.0 in /usr/local/lib/python3.7/dist-packages (from transformers) (21.3)\n",
            "Requirement already satisfied: requests in /usr/local/lib/python3.7/dist-packages (from transformers) (2.23.0)\n",
            "Requirement already satisfied: tqdm>=4.27 in /usr/local/lib/python3.7/dist-packages (from transformers) (4.64.0)\n",
            "Requirement already satisfied: typing-extensions>=3.7.4.3 in /usr/local/lib/python3.7/dist-packages (from huggingface-hub<1.0,>=0.1.0->transformers) (4.1.1)\n",
            "Requirement already satisfied: pyparsing!=3.0.5,>=2.0.2 in /usr/local/lib/python3.7/dist-packages (from packaging>=20.0->transformers) (3.0.8)\n",
            "Requirement already satisfied: zipp>=0.5 in /usr/local/lib/python3.7/dist-packages (from importlib-metadata->transformers) (3.8.0)\n",
            "Requirement already satisfied: idna<3,>=2.5 in /usr/local/lib/python3.7/dist-packages (from requests->transformers) (2.10)\n",
            "Requirement already satisfied: certifi>=2017.4.17 in /usr/local/lib/python3.7/dist-packages (from requests->transformers) (2021.10.8)\n",
            "Requirement already satisfied: chardet<4,>=3.0.2 in /usr/local/lib/python3.7/dist-packages (from requests->transformers) (3.0.4)\n",
            "Requirement already satisfied: urllib3!=1.25.0,!=1.25.1,<1.26,>=1.21.1 in /usr/local/lib/python3.7/dist-packages (from requests->transformers) (1.24.3)\n",
            "Requirement already satisfied: six in /usr/local/lib/python3.7/dist-packages (from sacremoses->transformers) (1.15.0)\n",
            "Requirement already satisfied: joblib in /usr/local/lib/python3.7/dist-packages (from sacremoses->transformers) (1.1.0)\n",
            "Requirement already satisfied: click in /usr/local/lib/python3.7/dist-packages (from sacremoses->transformers) (7.1.2)\n"
          ]
        },
        {
          "output_type": "display_data",
          "data": {
            "text/plain": [
              "  0%|          | 0/6940 [00:00<?, ?it/s]"
            ],
            "application/vnd.jupyter.widget-view+json": {
              "version_major": 2,
              "version_minor": 0,
              "model_id": "d0ec3a58f898466aa8e431b1eb3871f6"
            }
          },
          "metadata": {}
        },
        {
          "output_type": "stream",
          "name": "stderr",
          "text": [
            "Truncation was not explicitly activated but `max_length` is provided a specific value, please use `truncation=True` to explicitly truncate examples to max length. Defaulting to 'longest_first' truncation strategy. If you encode pairs of sequences (GLUE-style) with the tokenizer you can select this strategy more precisely by providing a specific strategy to `truncation`.\n"
          ]
        },
        {
          "output_type": "display_data",
          "data": {
            "text/plain": [
              "  0%|          | 0/1735 [00:00<?, ?it/s]"
            ],
            "application/vnd.jupyter.widget-view+json": {
              "version_major": 2,
              "version_minor": 0,
              "model_id": "e6df180b09ee4ccf84bf087d87080433"
            }
          },
          "metadata": {}
        }
      ]
    },
    {
      "cell_type": "code",
      "source": [
        "#train_masks,test_masks, _, _ = train_test_split(attention_masks, labels, random_state=0, test_size=0.2)"
      ],
      "metadata": {
        "id": "qTNGIoTp2O6K"
      },
      "execution_count": null,
      "outputs": []
    },
    {
      "cell_type": "code",
      "source": [
        "#Create train and test datasets\n",
        "BATCH_SIZE=32 \n",
        "NR_EPOCHS=20\n",
        "#def create_dataset(data_tuple, epochs=1, batch_size=32, buffer_size=10000, train=True):\n",
        "#    dataset = tf.data.Dataset.from_tensor_slices(data_tuple)\n",
        "#    if train:\n",
        "#        dataset = dataset.shuffle(buffer_size=buffer_size)\n",
        "#    dataset = dataset.repeat(epochs)\n",
        "#    dataset = dataset.batch(batch_size)\n",
        "#    if train:\n",
        "#        dataset = dataset.prefetch(1)\n",
        "    \n",
        " #   return dataset\n",
        "\n",
        "#train_dataset = create_dataset((train_inputs, train_masks, train_labels), epochs=NR_EPOCHS, batch_size=BATCH_SIZE)\n",
        "#test_dataset = create_dataset((test_inputs, test_masks, test_labels), epochs=NR_EPOCHS, batch_size=BATCH_SIZE, train=False)"
      ],
      "metadata": {
        "id": "MeMk5J4u2Vs_"
      },
      "execution_count": null,
      "outputs": []
    },
    {
      "cell_type": "code",
      "source": [
        "#Define f1 functions for evaluation\n",
        "def f1_m(y_true, y_pred):\n",
        "    precision = precision_m(y_true, y_pred)\n",
        "    recall = recall_m(y_true, y_pred)\n",
        "    return 2*((precision*recall)/(precision+recall+K.epsilon()))\n",
        "\n",
        "def recall_m(y_true, y_pred):\n",
        "    true_positives = K.sum(K.round(K.clip(y_true * y_pred, 0, 1)))\n",
        "    possible_positives = K.sum(K.round(K.clip(y_true, 0, 1)))\n",
        "    recall = true_positives / (possible_positives + K.epsilon())\n",
        "    return recall\n",
        "\n",
        "def precision_m(y_true, y_pred):\n",
        "    true_positives = K.sum(K.round(K.clip(y_true * y_pred, 0, 1)))\n",
        "    predicted_positives = K.sum(K.round(K.clip(y_pred, 0, 1)))\n",
        "    precision = true_positives / (predicted_positives + K.epsilon())\n",
        "    return precision"
      ],
      "metadata": {
        "id": "O0CVfd9W2ZYw"
      },
      "execution_count": null,
      "outputs": []
    },
    {
      "cell_type": "code",
      "source": [
        "def create_model(): \n",
        "    input_word_ids = tf.keras.layers.Input(shape=(MAX_LEN,), dtype=tf.int32,\n",
        "                                           name=\"input_word_ids\")\n",
        "    bert_layer = transformers.TFBertModel.from_pretrained('bert-large-uncased')\n",
        "    bert_outputs = bert_layer(input_word_ids)[0]\n",
        "    pred = tf.keras.layers.Dense(16, activation='softmax')(bert_outputs[:,0,:])\n",
        "    \n",
        "    model = tf.keras.models.Model(inputs=input_word_ids, outputs=pred)\n",
        "    loss = tf.keras.losses.SparseCategoricalCrossentropy(from_logits=True)\n",
        "    model.compile(loss='categorical_crossentropy', optimizer=tf.keras.optimizers.Adam(\n",
        "    learning_rate=0.00002), metrics=['accuracy', f1_m, precision_m, recall_m])\n",
        "    return model"
      ],
      "metadata": {
        "id": "agLlgiWF2jkC"
      },
      "execution_count": null,
      "outputs": []
    },
    {
      "cell_type": "code",
      "source": [
        "import transformers\n",
        "use_tpu = True\n",
        "if use_tpu:\n",
        "    # Create distribution strategy\n",
        "    tpu = tf.distribute.cluster_resolver.TPUClusterResolver()\n",
        "    tf.config.experimental_connect_to_cluster(tpu)\n",
        "    tf.tpu.experimental.initialize_tpu_system(tpu)\n",
        "    strategy = tf.distribute.experimental.TPUStrategy(tpu)\n",
        "\n",
        "    # Create model\n",
        "    with strategy.scope():\n",
        "        model = create_model()\n",
        "else:\n",
        "    model = create_model()\n",
        "    \n",
        "model.summary()"
      ],
      "metadata": {
        "colab": {
          "base_uri": "https://localhost:8080/",
          "height": 1000,
          "referenced_widgets": [
            "8c777c12e1b04aa59abdb9e62a16c6ca",
            "6d90a633c2234c339ed238f952092d6b",
            "e1ec677b96054030aec35fd0ee9db9e2",
            "23a85aa614404f36a93ee61afa1f3f63",
            "b36922e1bb1e4d95b11d11a4d6e075e5",
            "0b2a48cfa33747bf914b65bd8b2c7b4b",
            "208d6ff78ca34305aa96af1dcbc0699b",
            "b478720af85f4011902f957c173ea35a",
            "e97b8b4548774fa4a237b2c306b00404",
            "ed2ab3efd2cf4764bcc2519cbb70d75e",
            "c702ad1ee47a4c50bf51ed08f8e54c20",
            "4dd9932cb3e043528064f452e1941621",
            "c50d6cb205804f3fb8de0a9e73243f2a",
            "0349c6235e6444b5ab5928fc4c84faca",
            "b2b7b0395a5d4a7d872faaad04a34557",
            "416007c684ad424b9a6e0531b93ba530",
            "d50c60584b0f463baeaa464f6c71abd4",
            "7015955ca4d14ecb9fcf32a079a6fa03",
            "f9f31c3cc3db4b00855a4c380e2b4823",
            "f30b2dc1ee9c4623bf0cf761b4a5c93a",
            "0c53b912b17748edba413bcd10d84fd9",
            "912c14d72f1f4e2f8d7eb497c18d520b"
          ]
        },
        "id": "L5UHFao62l7N",
        "outputId": "6df6f0cb-12dd-4a6b-bc1b-e4305b894a6f"
      },
      "execution_count": null,
      "outputs": [
        {
          "output_type": "stream",
          "name": "stdout",
          "text": [
            "INFO:tensorflow:Deallocate tpu buffers before initializing tpu system.\n"
          ]
        },
        {
          "output_type": "stream",
          "name": "stderr",
          "text": [
            "INFO:tensorflow:Deallocate tpu buffers before initializing tpu system.\n"
          ]
        },
        {
          "output_type": "stream",
          "name": "stdout",
          "text": [
            "WARNING:tensorflow:TPU system grpc://10.118.233.250:8470 has already been initialized. Reinitializing the TPU can cause previously created variables on TPU to be lost.\n"
          ]
        },
        {
          "output_type": "stream",
          "name": "stderr",
          "text": [
            "WARNING:tensorflow:TPU system grpc://10.118.233.250:8470 has already been initialized. Reinitializing the TPU can cause previously created variables on TPU to be lost.\n"
          ]
        },
        {
          "output_type": "stream",
          "name": "stdout",
          "text": [
            "INFO:tensorflow:Initializing the TPU system: grpc://10.118.233.250:8470\n"
          ]
        },
        {
          "output_type": "stream",
          "name": "stderr",
          "text": [
            "INFO:tensorflow:Initializing the TPU system: grpc://10.118.233.250:8470\n"
          ]
        },
        {
          "output_type": "stream",
          "name": "stdout",
          "text": [
            "INFO:tensorflow:Finished initializing TPU system.\n"
          ]
        },
        {
          "output_type": "stream",
          "name": "stderr",
          "text": [
            "INFO:tensorflow:Finished initializing TPU system.\n",
            "WARNING:absl:`tf.distribute.experimental.TPUStrategy` is deprecated, please use  the non experimental symbol `tf.distribute.TPUStrategy` instead.\n"
          ]
        },
        {
          "output_type": "stream",
          "name": "stdout",
          "text": [
            "INFO:tensorflow:Found TPU system:\n"
          ]
        },
        {
          "output_type": "stream",
          "name": "stderr",
          "text": [
            "INFO:tensorflow:Found TPU system:\n"
          ]
        },
        {
          "output_type": "stream",
          "name": "stdout",
          "text": [
            "INFO:tensorflow:*** Num TPU Cores: 8\n"
          ]
        },
        {
          "output_type": "stream",
          "name": "stderr",
          "text": [
            "INFO:tensorflow:*** Num TPU Cores: 8\n"
          ]
        },
        {
          "output_type": "stream",
          "name": "stdout",
          "text": [
            "INFO:tensorflow:*** Num TPU Workers: 1\n"
          ]
        },
        {
          "output_type": "stream",
          "name": "stderr",
          "text": [
            "INFO:tensorflow:*** Num TPU Workers: 1\n"
          ]
        },
        {
          "output_type": "stream",
          "name": "stdout",
          "text": [
            "INFO:tensorflow:*** Num TPU Cores Per Worker: 8\n"
          ]
        },
        {
          "output_type": "stream",
          "name": "stderr",
          "text": [
            "INFO:tensorflow:*** Num TPU Cores Per Worker: 8\n"
          ]
        },
        {
          "output_type": "stream",
          "name": "stdout",
          "text": [
            "INFO:tensorflow:*** Available Device: _DeviceAttributes(/job:localhost/replica:0/task:0/device:CPU:0, CPU, 0, 0)\n"
          ]
        },
        {
          "output_type": "stream",
          "name": "stderr",
          "text": [
            "INFO:tensorflow:*** Available Device: _DeviceAttributes(/job:localhost/replica:0/task:0/device:CPU:0, CPU, 0, 0)\n"
          ]
        },
        {
          "output_type": "stream",
          "name": "stdout",
          "text": [
            "INFO:tensorflow:*** Available Device: _DeviceAttributes(/job:worker/replica:0/task:0/device:CPU:0, CPU, 0, 0)\n"
          ]
        },
        {
          "output_type": "stream",
          "name": "stderr",
          "text": [
            "INFO:tensorflow:*** Available Device: _DeviceAttributes(/job:worker/replica:0/task:0/device:CPU:0, CPU, 0, 0)\n"
          ]
        },
        {
          "output_type": "stream",
          "name": "stdout",
          "text": [
            "INFO:tensorflow:*** Available Device: _DeviceAttributes(/job:worker/replica:0/task:0/device:TPU:0, TPU, 0, 0)\n"
          ]
        },
        {
          "output_type": "stream",
          "name": "stderr",
          "text": [
            "INFO:tensorflow:*** Available Device: _DeviceAttributes(/job:worker/replica:0/task:0/device:TPU:0, TPU, 0, 0)\n"
          ]
        },
        {
          "output_type": "stream",
          "name": "stdout",
          "text": [
            "INFO:tensorflow:*** Available Device: _DeviceAttributes(/job:worker/replica:0/task:0/device:TPU:1, TPU, 0, 0)\n"
          ]
        },
        {
          "output_type": "stream",
          "name": "stderr",
          "text": [
            "INFO:tensorflow:*** Available Device: _DeviceAttributes(/job:worker/replica:0/task:0/device:TPU:1, TPU, 0, 0)\n"
          ]
        },
        {
          "output_type": "stream",
          "name": "stdout",
          "text": [
            "INFO:tensorflow:*** Available Device: _DeviceAttributes(/job:worker/replica:0/task:0/device:TPU:2, TPU, 0, 0)\n"
          ]
        },
        {
          "output_type": "stream",
          "name": "stderr",
          "text": [
            "INFO:tensorflow:*** Available Device: _DeviceAttributes(/job:worker/replica:0/task:0/device:TPU:2, TPU, 0, 0)\n"
          ]
        },
        {
          "output_type": "stream",
          "name": "stdout",
          "text": [
            "INFO:tensorflow:*** Available Device: _DeviceAttributes(/job:worker/replica:0/task:0/device:TPU:3, TPU, 0, 0)\n"
          ]
        },
        {
          "output_type": "stream",
          "name": "stderr",
          "text": [
            "INFO:tensorflow:*** Available Device: _DeviceAttributes(/job:worker/replica:0/task:0/device:TPU:3, TPU, 0, 0)\n"
          ]
        },
        {
          "output_type": "stream",
          "name": "stdout",
          "text": [
            "INFO:tensorflow:*** Available Device: _DeviceAttributes(/job:worker/replica:0/task:0/device:TPU:4, TPU, 0, 0)\n"
          ]
        },
        {
          "output_type": "stream",
          "name": "stderr",
          "text": [
            "INFO:tensorflow:*** Available Device: _DeviceAttributes(/job:worker/replica:0/task:0/device:TPU:4, TPU, 0, 0)\n"
          ]
        },
        {
          "output_type": "stream",
          "name": "stdout",
          "text": [
            "INFO:tensorflow:*** Available Device: _DeviceAttributes(/job:worker/replica:0/task:0/device:TPU:5, TPU, 0, 0)\n"
          ]
        },
        {
          "output_type": "stream",
          "name": "stderr",
          "text": [
            "INFO:tensorflow:*** Available Device: _DeviceAttributes(/job:worker/replica:0/task:0/device:TPU:5, TPU, 0, 0)\n"
          ]
        },
        {
          "output_type": "stream",
          "name": "stdout",
          "text": [
            "INFO:tensorflow:*** Available Device: _DeviceAttributes(/job:worker/replica:0/task:0/device:TPU:6, TPU, 0, 0)\n"
          ]
        },
        {
          "output_type": "stream",
          "name": "stderr",
          "text": [
            "INFO:tensorflow:*** Available Device: _DeviceAttributes(/job:worker/replica:0/task:0/device:TPU:6, TPU, 0, 0)\n"
          ]
        },
        {
          "output_type": "stream",
          "name": "stdout",
          "text": [
            "INFO:tensorflow:*** Available Device: _DeviceAttributes(/job:worker/replica:0/task:0/device:TPU:7, TPU, 0, 0)\n"
          ]
        },
        {
          "output_type": "stream",
          "name": "stderr",
          "text": [
            "INFO:tensorflow:*** Available Device: _DeviceAttributes(/job:worker/replica:0/task:0/device:TPU:7, TPU, 0, 0)\n"
          ]
        },
        {
          "output_type": "stream",
          "name": "stdout",
          "text": [
            "INFO:tensorflow:*** Available Device: _DeviceAttributes(/job:worker/replica:0/task:0/device:TPU_SYSTEM:0, TPU_SYSTEM, 0, 0)\n"
          ]
        },
        {
          "output_type": "stream",
          "name": "stderr",
          "text": [
            "INFO:tensorflow:*** Available Device: _DeviceAttributes(/job:worker/replica:0/task:0/device:TPU_SYSTEM:0, TPU_SYSTEM, 0, 0)\n"
          ]
        },
        {
          "output_type": "stream",
          "name": "stdout",
          "text": [
            "INFO:tensorflow:*** Available Device: _DeviceAttributes(/job:worker/replica:0/task:0/device:XLA_CPU:0, XLA_CPU, 0, 0)\n"
          ]
        },
        {
          "output_type": "stream",
          "name": "stderr",
          "text": [
            "INFO:tensorflow:*** Available Device: _DeviceAttributes(/job:worker/replica:0/task:0/device:XLA_CPU:0, XLA_CPU, 0, 0)\n"
          ]
        },
        {
          "output_type": "display_data",
          "data": {
            "text/plain": [
              "Downloading:   0%|          | 0.00/571 [00:00<?, ?B/s]"
            ],
            "application/vnd.jupyter.widget-view+json": {
              "version_major": 2,
              "version_minor": 0,
              "model_id": "8c777c12e1b04aa59abdb9e62a16c6ca"
            }
          },
          "metadata": {}
        },
        {
          "output_type": "display_data",
          "data": {
            "text/plain": [
              "Downloading:   0%|          | 0.00/1.37G [00:00<?, ?B/s]"
            ],
            "application/vnd.jupyter.widget-view+json": {
              "version_major": 2,
              "version_minor": 0,
              "model_id": "4dd9932cb3e043528064f452e1941621"
            }
          },
          "metadata": {}
        },
        {
          "output_type": "stream",
          "name": "stderr",
          "text": [
            "Some layers from the model checkpoint at bert-large-uncased were not used when initializing TFBertModel: ['mlm___cls', 'nsp___cls']\n",
            "- This IS expected if you are initializing TFBertModel from the checkpoint of a model trained on another task or with another architecture (e.g. initializing a BertForSequenceClassification model from a BertForPreTraining model).\n",
            "- This IS NOT expected if you are initializing TFBertModel from the checkpoint of a model that you expect to be exactly identical (initializing a BertForSequenceClassification model from a BertForSequenceClassification model).\n",
            "All the layers of TFBertModel were initialized from the model checkpoint at bert-large-uncased.\n",
            "If your task is similar to the task the model of the checkpoint was trained on, you can already use TFBertModel for predictions without further training.\n"
          ]
        },
        {
          "output_type": "stream",
          "name": "stdout",
          "text": [
            "Model: \"model\"\n",
            "_________________________________________________________________\n",
            " Layer (type)                Output Shape              Param #   \n",
            "=================================================================\n",
            " input_word_ids (InputLayer)  [(None, 1800)]           0         \n",
            "                                                                 \n",
            " tf_bert_model (TFBertModel)  TFBaseModelOutputWithPoo  335141888\n",
            "                             lingAndCrossAttentions(l            \n",
            "                             ast_hidden_state=(None,             \n",
            "                             1800, 1024),                        \n",
            "                              pooler_output=(None, 10            \n",
            "                             24),                                \n",
            "                              past_key_values=None, h            \n",
            "                             idden_states=None, atten            \n",
            "                             tions=None, cross_attent            \n",
            "                             ions=None)                          \n",
            "                                                                 \n",
            " tf.__operators__.getitem (S  (None, 1024)             0         \n",
            " licingOpLambda)                                                 \n",
            "                                                                 \n",
            " dense (Dense)               (None, 16)                16400     \n",
            "                                                                 \n",
            "=================================================================\n",
            "Total params: 335,158,288\n",
            "Trainable params: 335,158,288\n",
            "Non-trainable params: 0\n",
            "_________________________________________________________________\n"
          ]
        }
      ]
    },
    {
      "cell_type": "code",
      "source": [
        "types = np.unique(data.type.values)\n",
        "\n",
        "def get_type_index(string):\n",
        "    return list(types).index(string)"
      ],
      "metadata": {
        "id": "rK5wOrnsq1gv"
      },
      "execution_count": null,
      "outputs": []
    },
    {
      "cell_type": "code",
      "source": [
        "train_data['type_index'] = data['type'].apply(get_type_index)\n",
        "train_data"
      ],
      "metadata": {
        "colab": {
          "base_uri": "https://localhost:8080/",
          "height": 423
        },
        "id": "TjZFy-fCrHnz",
        "outputId": "b359ed0e-6439-48ba-9e8f-0b650e9ca6bc"
      },
      "execution_count": null,
      "outputs": [
        {
          "output_type": "execute_result",
          "data": {
            "text/plain": [
              "      type                                              posts  type_index\n",
              "984   INTP  phrases i never want to hear again a k a if yo...          11\n",
              "6706  INTP   yeah  you say you primarily value people who ...          11\n",
              "143   ENFP   63915 i got my hair cut   d some people say t...           1\n",
              "4844  INFP  as far as i live in this world  i ve never bee...           9\n",
              "4388  ISFP     meh it s overplayed ya but still its good n...          13\n",
              "...    ...                                                ...         ...\n",
              "4373  INFP   hey  it seems like you have a great foundatio...           9\n",
              "7891  INFJ   dear istj mother    when i started my very fi...           8\n",
              "4859  INTP   oh entjs  how can you be scary and exciting a...          11\n",
              "3264  ENFJ   hi  entp  and welcome to the forum  wink    f...           0\n",
              "2732  ENTP  interesting  you ve gone from se dominant to n...           3\n",
              "\n",
              "[6940 rows x 3 columns]"
            ],
            "text/html": [
              "\n",
              "  <div id=\"df-71d018ff-f454-4060-8844-d4fe8c30a15c\">\n",
              "    <div class=\"colab-df-container\">\n",
              "      <div>\n",
              "<style scoped>\n",
              "    .dataframe tbody tr th:only-of-type {\n",
              "        vertical-align: middle;\n",
              "    }\n",
              "\n",
              "    .dataframe tbody tr th {\n",
              "        vertical-align: top;\n",
              "    }\n",
              "\n",
              "    .dataframe thead th {\n",
              "        text-align: right;\n",
              "    }\n",
              "</style>\n",
              "<table border=\"1\" class=\"dataframe\">\n",
              "  <thead>\n",
              "    <tr style=\"text-align: right;\">\n",
              "      <th></th>\n",
              "      <th>type</th>\n",
              "      <th>posts</th>\n",
              "      <th>type_index</th>\n",
              "    </tr>\n",
              "  </thead>\n",
              "  <tbody>\n",
              "    <tr>\n",
              "      <th>984</th>\n",
              "      <td>INTP</td>\n",
              "      <td>phrases i never want to hear again a k a if yo...</td>\n",
              "      <td>11</td>\n",
              "    </tr>\n",
              "    <tr>\n",
              "      <th>6706</th>\n",
              "      <td>INTP</td>\n",
              "      <td>yeah  you say you primarily value people who ...</td>\n",
              "      <td>11</td>\n",
              "    </tr>\n",
              "    <tr>\n",
              "      <th>143</th>\n",
              "      <td>ENFP</td>\n",
              "      <td>63915 i got my hair cut   d some people say t...</td>\n",
              "      <td>1</td>\n",
              "    </tr>\n",
              "    <tr>\n",
              "      <th>4844</th>\n",
              "      <td>INFP</td>\n",
              "      <td>as far as i live in this world  i ve never bee...</td>\n",
              "      <td>9</td>\n",
              "    </tr>\n",
              "    <tr>\n",
              "      <th>4388</th>\n",
              "      <td>ISFP</td>\n",
              "      <td>meh it s overplayed ya but still its good n...</td>\n",
              "      <td>13</td>\n",
              "    </tr>\n",
              "    <tr>\n",
              "      <th>...</th>\n",
              "      <td>...</td>\n",
              "      <td>...</td>\n",
              "      <td>...</td>\n",
              "    </tr>\n",
              "    <tr>\n",
              "      <th>4373</th>\n",
              "      <td>INFP</td>\n",
              "      <td>hey  it seems like you have a great foundatio...</td>\n",
              "      <td>9</td>\n",
              "    </tr>\n",
              "    <tr>\n",
              "      <th>7891</th>\n",
              "      <td>INFJ</td>\n",
              "      <td>dear istj mother    when i started my very fi...</td>\n",
              "      <td>8</td>\n",
              "    </tr>\n",
              "    <tr>\n",
              "      <th>4859</th>\n",
              "      <td>INTP</td>\n",
              "      <td>oh entjs  how can you be scary and exciting a...</td>\n",
              "      <td>11</td>\n",
              "    </tr>\n",
              "    <tr>\n",
              "      <th>3264</th>\n",
              "      <td>ENFJ</td>\n",
              "      <td>hi  entp  and welcome to the forum  wink    f...</td>\n",
              "      <td>0</td>\n",
              "    </tr>\n",
              "    <tr>\n",
              "      <th>2732</th>\n",
              "      <td>ENTP</td>\n",
              "      <td>interesting  you ve gone from se dominant to n...</td>\n",
              "      <td>3</td>\n",
              "    </tr>\n",
              "  </tbody>\n",
              "</table>\n",
              "<p>6940 rows × 3 columns</p>\n",
              "</div>\n",
              "      <button class=\"colab-df-convert\" onclick=\"convertToInteractive('df-71d018ff-f454-4060-8844-d4fe8c30a15c')\"\n",
              "              title=\"Convert this dataframe to an interactive table.\"\n",
              "              style=\"display:none;\">\n",
              "        \n",
              "  <svg xmlns=\"http://www.w3.org/2000/svg\" height=\"24px\"viewBox=\"0 0 24 24\"\n",
              "       width=\"24px\">\n",
              "    <path d=\"M0 0h24v24H0V0z\" fill=\"none\"/>\n",
              "    <path d=\"M18.56 5.44l.94 2.06.94-2.06 2.06-.94-2.06-.94-.94-2.06-.94 2.06-2.06.94zm-11 1L8.5 8.5l.94-2.06 2.06-.94-2.06-.94L8.5 2.5l-.94 2.06-2.06.94zm10 10l.94 2.06.94-2.06 2.06-.94-2.06-.94-.94-2.06-.94 2.06-2.06.94z\"/><path d=\"M17.41 7.96l-1.37-1.37c-.4-.4-.92-.59-1.43-.59-.52 0-1.04.2-1.43.59L10.3 9.45l-7.72 7.72c-.78.78-.78 2.05 0 2.83L4 21.41c.39.39.9.59 1.41.59.51 0 1.02-.2 1.41-.59l7.78-7.78 2.81-2.81c.8-.78.8-2.07 0-2.86zM5.41 20L4 18.59l7.72-7.72 1.47 1.35L5.41 20z\"/>\n",
              "  </svg>\n",
              "      </button>\n",
              "      \n",
              "  <style>\n",
              "    .colab-df-container {\n",
              "      display:flex;\n",
              "      flex-wrap:wrap;\n",
              "      gap: 12px;\n",
              "    }\n",
              "\n",
              "    .colab-df-convert {\n",
              "      background-color: #E8F0FE;\n",
              "      border: none;\n",
              "      border-radius: 50%;\n",
              "      cursor: pointer;\n",
              "      display: none;\n",
              "      fill: #1967D2;\n",
              "      height: 32px;\n",
              "      padding: 0 0 0 0;\n",
              "      width: 32px;\n",
              "    }\n",
              "\n",
              "    .colab-df-convert:hover {\n",
              "      background-color: #E2EBFA;\n",
              "      box-shadow: 0px 1px 2px rgba(60, 64, 67, 0.3), 0px 1px 3px 1px rgba(60, 64, 67, 0.15);\n",
              "      fill: #174EA6;\n",
              "    }\n",
              "\n",
              "    [theme=dark] .colab-df-convert {\n",
              "      background-color: #3B4455;\n",
              "      fill: #D2E3FC;\n",
              "    }\n",
              "\n",
              "    [theme=dark] .colab-df-convert:hover {\n",
              "      background-color: #434B5C;\n",
              "      box-shadow: 0px 1px 3px 1px rgba(0, 0, 0, 0.15);\n",
              "      filter: drop-shadow(0px 1px 2px rgba(0, 0, 0, 0.3));\n",
              "      fill: #FFFFFF;\n",
              "    }\n",
              "  </style>\n",
              "\n",
              "      <script>\n",
              "        const buttonEl =\n",
              "          document.querySelector('#df-71d018ff-f454-4060-8844-d4fe8c30a15c button.colab-df-convert');\n",
              "        buttonEl.style.display =\n",
              "          google.colab.kernel.accessAllowed ? 'block' : 'none';\n",
              "\n",
              "        async function convertToInteractive(key) {\n",
              "          const element = document.querySelector('#df-71d018ff-f454-4060-8844-d4fe8c30a15c');\n",
              "          const dataTable =\n",
              "            await google.colab.kernel.invokeFunction('convertToInteractive',\n",
              "                                                     [key], {});\n",
              "          if (!dataTable) return;\n",
              "\n",
              "          const docLinkHtml = 'Like what you see? Visit the ' +\n",
              "            '<a target=\"_blank\" href=https://colab.research.google.com/notebooks/data_table.ipynb>data table notebook</a>'\n",
              "            + ' to learn more about interactive tables.';\n",
              "          element.innerHTML = '';\n",
              "          dataTable['output_type'] = 'display_data';\n",
              "          await google.colab.output.renderOutput(dataTable, element);\n",
              "          const docLink = document.createElement('div');\n",
              "          docLink.innerHTML = docLinkHtml;\n",
              "          element.appendChild(docLink);\n",
              "        }\n",
              "      </script>\n",
              "    </div>\n",
              "  </div>\n",
              "  "
            ]
          },
          "metadata": {},
          "execution_count": 18
        }
      ]
    },
    {
      "cell_type": "code",
      "source": [
        "one_hot_labels = tf.keras.utils.to_categorical(train_data.type_index.values, num_classes=16)"
      ],
      "metadata": {
        "id": "hx-BtgETrMEh"
      },
      "execution_count": null,
      "outputs": []
    },
    {
      "cell_type": "code",
      "source": [
        "model.fit(np.array(train_input_ids), one_hot_labels, verbose = 1, epochs = NR_EPOCHS, batch_size = BATCH_SIZE,  callbacks = [tf.keras.callbacks.EarlyStopping(patience = 5)])"
      ],
      "metadata": {
        "colab": {
          "base_uri": "https://localhost:8080/",
          "height": 504
        },
        "id": "pmY2oBZUrNOr",
        "outputId": "848003d3-feb4-4ef1-c262-e67a4d28adde"
      },
      "execution_count": null,
      "outputs": [
        {
          "output_type": "stream",
          "name": "stdout",
          "text": [
            "Epoch 1/20\n",
            "WARNING:tensorflow:Gradients do not exist for variables ['tf_bert_model/bert/pooler/dense/kernel:0', 'tf_bert_model/bert/pooler/dense/bias:0'] when minimizing the loss. If you're using `model.compile()`, did you forget to provide a `loss`argument?\n"
          ]
        },
        {
          "output_type": "stream",
          "name": "stderr",
          "text": [
            "WARNING:tensorflow:Gradients do not exist for variables ['tf_bert_model/bert/pooler/dense/kernel:0', 'tf_bert_model/bert/pooler/dense/bias:0'] when minimizing the loss. If you're using `model.compile()`, did you forget to provide a `loss`argument?\n"
          ]
        },
        {
          "output_type": "stream",
          "name": "stdout",
          "text": [
            "WARNING:tensorflow:Gradients do not exist for variables ['tf_bert_model/bert/pooler/dense/kernel:0', 'tf_bert_model/bert/pooler/dense/bias:0'] when minimizing the loss. If you're using `model.compile()`, did you forget to provide a `loss`argument?\n"
          ]
        },
        {
          "output_type": "stream",
          "name": "stderr",
          "text": [
            "WARNING:tensorflow:Gradients do not exist for variables ['tf_bert_model/bert/pooler/dense/kernel:0', 'tf_bert_model/bert/pooler/dense/bias:0'] when minimizing the loss. If you're using `model.compile()`, did you forget to provide a `loss`argument?\n"
          ]
        },
        {
          "output_type": "error",
          "ename": "ResourceExhaustedError",
          "evalue": "ignored",
          "traceback": [
            "\u001b[0;31m---------------------------------------------------------------------------\u001b[0m",
            "\u001b[0;31mResourceExhaustedError\u001b[0m                    Traceback (most recent call last)",
            "\u001b[0;32m<ipython-input-20-6deba561c352>\u001b[0m in \u001b[0;36m<module>\u001b[0;34m()\u001b[0m\n\u001b[0;32m----> 1\u001b[0;31m \u001b[0mmodel\u001b[0m\u001b[0;34m.\u001b[0m\u001b[0mfit\u001b[0m\u001b[0;34m(\u001b[0m\u001b[0mnp\u001b[0m\u001b[0;34m.\u001b[0m\u001b[0marray\u001b[0m\u001b[0;34m(\u001b[0m\u001b[0mtrain_input_ids\u001b[0m\u001b[0;34m)\u001b[0m\u001b[0;34m,\u001b[0m \u001b[0mone_hot_labels\u001b[0m\u001b[0;34m,\u001b[0m \u001b[0mverbose\u001b[0m \u001b[0;34m=\u001b[0m \u001b[0;36m1\u001b[0m\u001b[0;34m,\u001b[0m \u001b[0mepochs\u001b[0m \u001b[0;34m=\u001b[0m \u001b[0mNR_EPOCHS\u001b[0m\u001b[0;34m,\u001b[0m \u001b[0mbatch_size\u001b[0m \u001b[0;34m=\u001b[0m \u001b[0mBATCH_SIZE\u001b[0m\u001b[0;34m,\u001b[0m  \u001b[0mcallbacks\u001b[0m \u001b[0;34m=\u001b[0m \u001b[0;34m[\u001b[0m\u001b[0mtf\u001b[0m\u001b[0;34m.\u001b[0m\u001b[0mkeras\u001b[0m\u001b[0;34m.\u001b[0m\u001b[0mcallbacks\u001b[0m\u001b[0;34m.\u001b[0m\u001b[0mEarlyStopping\u001b[0m\u001b[0;34m(\u001b[0m\u001b[0mpatience\u001b[0m \u001b[0;34m=\u001b[0m \u001b[0;36m5\u001b[0m\u001b[0;34m)\u001b[0m\u001b[0;34m]\u001b[0m\u001b[0;34m)\u001b[0m\u001b[0;34m\u001b[0m\u001b[0;34m\u001b[0m\u001b[0m\n\u001b[0m",
            "\u001b[0;32m/usr/local/lib/python3.7/dist-packages/keras/utils/traceback_utils.py\u001b[0m in \u001b[0;36merror_handler\u001b[0;34m(*args, **kwargs)\u001b[0m\n\u001b[1;32m     65\u001b[0m     \u001b[0;32mexcept\u001b[0m \u001b[0mException\u001b[0m \u001b[0;32mas\u001b[0m \u001b[0me\u001b[0m\u001b[0;34m:\u001b[0m  \u001b[0;31m# pylint: disable=broad-except\u001b[0m\u001b[0;34m\u001b[0m\u001b[0;34m\u001b[0m\u001b[0m\n\u001b[1;32m     66\u001b[0m       \u001b[0mfiltered_tb\u001b[0m \u001b[0;34m=\u001b[0m \u001b[0m_process_traceback_frames\u001b[0m\u001b[0;34m(\u001b[0m\u001b[0me\u001b[0m\u001b[0;34m.\u001b[0m\u001b[0m__traceback__\u001b[0m\u001b[0;34m)\u001b[0m\u001b[0;34m\u001b[0m\u001b[0;34m\u001b[0m\u001b[0m\n\u001b[0;32m---> 67\u001b[0;31m       \u001b[0;32mraise\u001b[0m \u001b[0me\u001b[0m\u001b[0;34m.\u001b[0m\u001b[0mwith_traceback\u001b[0m\u001b[0;34m(\u001b[0m\u001b[0mfiltered_tb\u001b[0m\u001b[0;34m)\u001b[0m \u001b[0;32mfrom\u001b[0m \u001b[0;32mNone\u001b[0m\u001b[0;34m\u001b[0m\u001b[0;34m\u001b[0m\u001b[0m\n\u001b[0m\u001b[1;32m     68\u001b[0m     \u001b[0;32mfinally\u001b[0m\u001b[0;34m:\u001b[0m\u001b[0;34m\u001b[0m\u001b[0;34m\u001b[0m\u001b[0m\n\u001b[1;32m     69\u001b[0m       \u001b[0;32mdel\u001b[0m \u001b[0mfiltered_tb\u001b[0m\u001b[0;34m\u001b[0m\u001b[0;34m\u001b[0m\u001b[0m\n",
            "\u001b[0;32m/usr/local/lib/python3.7/dist-packages/tensorflow/python/framework/ops.py\u001b[0m in \u001b[0;36m_numpy\u001b[0;34m(self)\u001b[0m\n\u001b[1;32m   1189\u001b[0m       \u001b[0;32mreturn\u001b[0m \u001b[0mself\u001b[0m\u001b[0;34m.\u001b[0m\u001b[0m_numpy_internal\u001b[0m\u001b[0;34m(\u001b[0m\u001b[0;34m)\u001b[0m\u001b[0;34m\u001b[0m\u001b[0;34m\u001b[0m\u001b[0m\n\u001b[1;32m   1190\u001b[0m     \u001b[0;32mexcept\u001b[0m \u001b[0mcore\u001b[0m\u001b[0;34m.\u001b[0m\u001b[0m_NotOkStatusException\u001b[0m \u001b[0;32mas\u001b[0m \u001b[0me\u001b[0m\u001b[0;34m:\u001b[0m  \u001b[0;31m# pylint: disable=protected-access\u001b[0m\u001b[0;34m\u001b[0m\u001b[0;34m\u001b[0m\u001b[0m\n\u001b[0;32m-> 1191\u001b[0;31m       \u001b[0;32mraise\u001b[0m \u001b[0mcore\u001b[0m\u001b[0;34m.\u001b[0m\u001b[0m_status_to_exception\u001b[0m\u001b[0;34m(\u001b[0m\u001b[0me\u001b[0m\u001b[0;34m)\u001b[0m \u001b[0;32mfrom\u001b[0m \u001b[0;32mNone\u001b[0m  \u001b[0;31m# pylint: disable=protected-access\u001b[0m\u001b[0;34m\u001b[0m\u001b[0;34m\u001b[0m\u001b[0m\n\u001b[0m\u001b[1;32m   1192\u001b[0m \u001b[0;34m\u001b[0m\u001b[0m\n\u001b[1;32m   1193\u001b[0m   \u001b[0;34m@\u001b[0m\u001b[0mproperty\u001b[0m\u001b[0;34m\u001b[0m\u001b[0;34m\u001b[0m\u001b[0m\n",
            "\u001b[0;31mResourceExhaustedError\u001b[0m: received trailing metadata size exceeds limit"
          ]
        }
      ]
    },
    {
      "cell_type": "code",
      "source": [
        "test_data['type_index'] = data['type'].apply(get_type_index)\n",
        "test_data"
      ],
      "metadata": {
        "colab": {
          "base_uri": "https://localhost:8080/",
          "height": 423
        },
        "id": "Z79DptykrPtF",
        "outputId": "f01e2f5c-0b00-44e7-a268-31a28107a2a6"
      },
      "execution_count": null,
      "outputs": [
        {
          "output_type": "execute_result",
          "data": {
            "text/plain": [
              "      type                                              posts  type_index\n",
              "4587  ISFP   dear isfj mother  i wish you were less of a w...          13\n",
              "2786  INFJ   to me  i think you guys may be over analyzing...           8\n",
              "2813  ENFP   nihm while nihm has her intj husband  i ve go...           1\n",
              "3705  INTP   i want 5 kids    an astro nuclear theoretical...          11\n",
              "5957  ISFP   i have the same thing as well  i ve noticed t...          13\n",
              "...    ...                                                ...         ...\n",
              "418   INFJ   yes  i do it all the time  i just throw up my...           8\n",
              "6712  ISFP   hah   yes     that would be fantastic    d  d...          13\n",
              "6390  ISFP   the fact that she s an intj too pretty much e...          13\n",
              "4925  INFJ   to be perfectly honest  i don t know why you ...           8\n",
              "6868  INTJ   thanks for the link  i think it certainly hel...          10\n",
              "\n",
              "[1735 rows x 3 columns]"
            ],
            "text/html": [
              "\n",
              "  <div id=\"df-e95fb214-94b3-4573-9dbf-a80f70f9a5da\">\n",
              "    <div class=\"colab-df-container\">\n",
              "      <div>\n",
              "<style scoped>\n",
              "    .dataframe tbody tr th:only-of-type {\n",
              "        vertical-align: middle;\n",
              "    }\n",
              "\n",
              "    .dataframe tbody tr th {\n",
              "        vertical-align: top;\n",
              "    }\n",
              "\n",
              "    .dataframe thead th {\n",
              "        text-align: right;\n",
              "    }\n",
              "</style>\n",
              "<table border=\"1\" class=\"dataframe\">\n",
              "  <thead>\n",
              "    <tr style=\"text-align: right;\">\n",
              "      <th></th>\n",
              "      <th>type</th>\n",
              "      <th>posts</th>\n",
              "      <th>type_index</th>\n",
              "    </tr>\n",
              "  </thead>\n",
              "  <tbody>\n",
              "    <tr>\n",
              "      <th>4587</th>\n",
              "      <td>ISFP</td>\n",
              "      <td>dear isfj mother  i wish you were less of a w...</td>\n",
              "      <td>13</td>\n",
              "    </tr>\n",
              "    <tr>\n",
              "      <th>2786</th>\n",
              "      <td>INFJ</td>\n",
              "      <td>to me  i think you guys may be over analyzing...</td>\n",
              "      <td>8</td>\n",
              "    </tr>\n",
              "    <tr>\n",
              "      <th>2813</th>\n",
              "      <td>ENFP</td>\n",
              "      <td>nihm while nihm has her intj husband  i ve go...</td>\n",
              "      <td>1</td>\n",
              "    </tr>\n",
              "    <tr>\n",
              "      <th>3705</th>\n",
              "      <td>INTP</td>\n",
              "      <td>i want 5 kids    an astro nuclear theoretical...</td>\n",
              "      <td>11</td>\n",
              "    </tr>\n",
              "    <tr>\n",
              "      <th>5957</th>\n",
              "      <td>ISFP</td>\n",
              "      <td>i have the same thing as well  i ve noticed t...</td>\n",
              "      <td>13</td>\n",
              "    </tr>\n",
              "    <tr>\n",
              "      <th>...</th>\n",
              "      <td>...</td>\n",
              "      <td>...</td>\n",
              "      <td>...</td>\n",
              "    </tr>\n",
              "    <tr>\n",
              "      <th>418</th>\n",
              "      <td>INFJ</td>\n",
              "      <td>yes  i do it all the time  i just throw up my...</td>\n",
              "      <td>8</td>\n",
              "    </tr>\n",
              "    <tr>\n",
              "      <th>6712</th>\n",
              "      <td>ISFP</td>\n",
              "      <td>hah   yes     that would be fantastic    d  d...</td>\n",
              "      <td>13</td>\n",
              "    </tr>\n",
              "    <tr>\n",
              "      <th>6390</th>\n",
              "      <td>ISFP</td>\n",
              "      <td>the fact that she s an intj too pretty much e...</td>\n",
              "      <td>13</td>\n",
              "    </tr>\n",
              "    <tr>\n",
              "      <th>4925</th>\n",
              "      <td>INFJ</td>\n",
              "      <td>to be perfectly honest  i don t know why you ...</td>\n",
              "      <td>8</td>\n",
              "    </tr>\n",
              "    <tr>\n",
              "      <th>6868</th>\n",
              "      <td>INTJ</td>\n",
              "      <td>thanks for the link  i think it certainly hel...</td>\n",
              "      <td>10</td>\n",
              "    </tr>\n",
              "  </tbody>\n",
              "</table>\n",
              "<p>1735 rows × 3 columns</p>\n",
              "</div>\n",
              "      <button class=\"colab-df-convert\" onclick=\"convertToInteractive('df-e95fb214-94b3-4573-9dbf-a80f70f9a5da')\"\n",
              "              title=\"Convert this dataframe to an interactive table.\"\n",
              "              style=\"display:none;\">\n",
              "        \n",
              "  <svg xmlns=\"http://www.w3.org/2000/svg\" height=\"24px\"viewBox=\"0 0 24 24\"\n",
              "       width=\"24px\">\n",
              "    <path d=\"M0 0h24v24H0V0z\" fill=\"none\"/>\n",
              "    <path d=\"M18.56 5.44l.94 2.06.94-2.06 2.06-.94-2.06-.94-.94-2.06-.94 2.06-2.06.94zm-11 1L8.5 8.5l.94-2.06 2.06-.94-2.06-.94L8.5 2.5l-.94 2.06-2.06.94zm10 10l.94 2.06.94-2.06 2.06-.94-2.06-.94-.94-2.06-.94 2.06-2.06.94z\"/><path d=\"M17.41 7.96l-1.37-1.37c-.4-.4-.92-.59-1.43-.59-.52 0-1.04.2-1.43.59L10.3 9.45l-7.72 7.72c-.78.78-.78 2.05 0 2.83L4 21.41c.39.39.9.59 1.41.59.51 0 1.02-.2 1.41-.59l7.78-7.78 2.81-2.81c.8-.78.8-2.07 0-2.86zM5.41 20L4 18.59l7.72-7.72 1.47 1.35L5.41 20z\"/>\n",
              "  </svg>\n",
              "      </button>\n",
              "      \n",
              "  <style>\n",
              "    .colab-df-container {\n",
              "      display:flex;\n",
              "      flex-wrap:wrap;\n",
              "      gap: 12px;\n",
              "    }\n",
              "\n",
              "    .colab-df-convert {\n",
              "      background-color: #E8F0FE;\n",
              "      border: none;\n",
              "      border-radius: 50%;\n",
              "      cursor: pointer;\n",
              "      display: none;\n",
              "      fill: #1967D2;\n",
              "      height: 32px;\n",
              "      padding: 0 0 0 0;\n",
              "      width: 32px;\n",
              "    }\n",
              "\n",
              "    .colab-df-convert:hover {\n",
              "      background-color: #E2EBFA;\n",
              "      box-shadow: 0px 1px 2px rgba(60, 64, 67, 0.3), 0px 1px 3px 1px rgba(60, 64, 67, 0.15);\n",
              "      fill: #174EA6;\n",
              "    }\n",
              "\n",
              "    [theme=dark] .colab-df-convert {\n",
              "      background-color: #3B4455;\n",
              "      fill: #D2E3FC;\n",
              "    }\n",
              "\n",
              "    [theme=dark] .colab-df-convert:hover {\n",
              "      background-color: #434B5C;\n",
              "      box-shadow: 0px 1px 3px 1px rgba(0, 0, 0, 0.15);\n",
              "      filter: drop-shadow(0px 1px 2px rgba(0, 0, 0, 0.3));\n",
              "      fill: #FFFFFF;\n",
              "    }\n",
              "  </style>\n",
              "\n",
              "      <script>\n",
              "        const buttonEl =\n",
              "          document.querySelector('#df-e95fb214-94b3-4573-9dbf-a80f70f9a5da button.colab-df-convert');\n",
              "        buttonEl.style.display =\n",
              "          google.colab.kernel.accessAllowed ? 'block' : 'none';\n",
              "\n",
              "        async function convertToInteractive(key) {\n",
              "          const element = document.querySelector('#df-e95fb214-94b3-4573-9dbf-a80f70f9a5da');\n",
              "          const dataTable =\n",
              "            await google.colab.kernel.invokeFunction('convertToInteractive',\n",
              "                                                     [key], {});\n",
              "          if (!dataTable) return;\n",
              "\n",
              "          const docLinkHtml = 'Like what you see? Visit the ' +\n",
              "            '<a target=\"_blank\" href=https://colab.research.google.com/notebooks/data_table.ipynb>data table notebook</a>'\n",
              "            + ' to learn more about interactive tables.';\n",
              "          element.innerHTML = '';\n",
              "          dataTable['output_type'] = 'display_data';\n",
              "          await google.colab.output.renderOutput(dataTable, element);\n",
              "          const docLink = document.createElement('div');\n",
              "          docLink.innerHTML = docLinkHtml;\n",
              "          element.appendChild(docLink);\n",
              "        }\n",
              "      </script>\n",
              "    </div>\n",
              "  </div>\n",
              "  "
            ]
          },
          "metadata": {},
          "execution_count": 21
        }
      ]
    },
    {
      "cell_type": "code",
      "source": [
        "test_labels = tf.keras.utils.to_categorical(test_data.type_index.values, num_classes=16)"
      ],
      "metadata": {
        "id": "Dzy2O5WJr9ZP"
      },
      "execution_count": null,
      "outputs": []
    },
    {
      "cell_type": "code",
      "source": [
        "model.evaluate(np.array(test_input_ids), test_labels)"
      ],
      "metadata": {
        "colab": {
          "base_uri": "https://localhost:8080/"
        },
        "id": "wdLAt7_pr_gf",
        "outputId": "fd9e3204-2897-467a-e6fe-32dfb7214f1d"
      },
      "execution_count": null,
      "outputs": [
        {
          "output_type": "stream",
          "name": "stdout",
          "text": [
            "55/55 [==============================] - 72s 910ms/step - loss: 2.8314 - accuracy: 0.1061 - f1_m: 0.0000e+00 - precision_m: 0.0000e+00 - recall_m: 0.0000e+00\n"
          ]
        },
        {
          "output_type": "execute_result",
          "data": {
            "text/plain": [
              "[2.8313796520233154, 0.10605187714099884, 0.0, 0.0, 0.0]"
            ]
          },
          "metadata": {},
          "execution_count": 23
        }
      ]
    },
    {
      "cell_type": "code",
      "source": [
        "cols = data['type'].unique()\n",
        "cols = cols.tolist()\n",
        "\n",
        "colnames = ['sentence']\n",
        "colnames = colnames+cols"
      ],
      "metadata": {
        "id": "beJqk6yRsQiS"
      },
      "execution_count": null,
      "outputs": []
    },
    {
      "cell_type": "code",
      "source": [
        "df_predict = pd.DataFrame(columns = colnames)\n",
        "sentence = \"Time to debate on it. Strike at the weakest point and make others cry with facts\"\n",
        "\n",
        "df_predict.loc[0, 'sentence'] = sentence"
      ],
      "metadata": {
        "id": "Ww2TVnOGsXnO"
      },
      "execution_count": null,
      "outputs": []
    },
    {
      "cell_type": "code",
      "source": [
        "sentence_inputs = tokenize_sentences(df_predict['sentence'], tokenizer, MAX_LEN)\n",
        "sentence_inputs = pad_sequences(sentence_inputs, maxlen=MAX_LEN, dtype=\"long\", value=0, truncating=\"post\", padding=\"post\")\n",
        "prediction = model.predict(np.array(sentence_inputs))\n",
        "df_predict.loc[0, cols] = prediction\n",
        "\n",
        "df_predict"
      ],
      "metadata": {
        "colab": {
          "base_uri": "https://localhost:8080/",
          "height": 281,
          "referenced_widgets": [
            "3302b47e03cc468a9cde1aab91a73aa6",
            "8114e19a57c54e9f8b1b23178c20b6d5",
            "e2f24c0f5d61444fb9f193e2de729489",
            "b33b1ce9fdc24eac891f622344ea28ba",
            "fde242ede8664cab8eb3646b537c0231",
            "dbe791aadbd342c4ab3aa68b21125207",
            "97f5a27352e34c7fb960216ea010e435",
            "47a1c83908874c2bb79e467f3380e44d",
            "ad1cba1c422048d983fe0cad3a0c9524",
            "1615037f7cff446daaee82aae4e4f918",
            "d115fa98e42f491ea5cb537fc6d62dce"
          ]
        },
        "id": "0E5baYj_sY8m",
        "outputId": "bc144985-3db2-4756-f0c7-8c14e84c04e1"
      },
      "execution_count": null,
      "outputs": [
        {
          "output_type": "display_data",
          "data": {
            "text/plain": [
              "  0%|          | 0/1 [00:00<?, ?it/s]"
            ],
            "application/vnd.jupyter.widget-view+json": {
              "version_major": 2,
              "version_minor": 0,
              "model_id": "3302b47e03cc468a9cde1aab91a73aa6"
            }
          },
          "metadata": {}
        },
        {
          "output_type": "execute_result",
          "data": {
            "text/plain": [
              "                                            sentence    INFJ      ENTP  \\\n",
              "0  Time to debate on it. Strike at the weakest po...  0.0101  0.004024   \n",
              "\n",
              "       INTP      INTJ      ENTJ      ENFJ      INFP      ENFP      ISFP  \\\n",
              "0  0.132186  0.011056  0.098095  0.033902  0.171427  0.018321  0.028055   \n",
              "\n",
              "       ISTP      ISFJ      ISTJ      ESTP      ESFP      ESTJ      ESFJ  \n",
              "0  0.090763  0.162511  0.007294  0.042644  0.120266  0.012194  0.057161  "
            ],
            "text/html": [
              "\n",
              "  <div id=\"df-82121f34-ad89-495d-964c-647a83b05c56\">\n",
              "    <div class=\"colab-df-container\">\n",
              "      <div>\n",
              "<style scoped>\n",
              "    .dataframe tbody tr th:only-of-type {\n",
              "        vertical-align: middle;\n",
              "    }\n",
              "\n",
              "    .dataframe tbody tr th {\n",
              "        vertical-align: top;\n",
              "    }\n",
              "\n",
              "    .dataframe thead th {\n",
              "        text-align: right;\n",
              "    }\n",
              "</style>\n",
              "<table border=\"1\" class=\"dataframe\">\n",
              "  <thead>\n",
              "    <tr style=\"text-align: right;\">\n",
              "      <th></th>\n",
              "      <th>sentence</th>\n",
              "      <th>INFJ</th>\n",
              "      <th>ENTP</th>\n",
              "      <th>INTP</th>\n",
              "      <th>INTJ</th>\n",
              "      <th>ENTJ</th>\n",
              "      <th>ENFJ</th>\n",
              "      <th>INFP</th>\n",
              "      <th>ENFP</th>\n",
              "      <th>ISFP</th>\n",
              "      <th>ISTP</th>\n",
              "      <th>ISFJ</th>\n",
              "      <th>ISTJ</th>\n",
              "      <th>ESTP</th>\n",
              "      <th>ESFP</th>\n",
              "      <th>ESTJ</th>\n",
              "      <th>ESFJ</th>\n",
              "    </tr>\n",
              "  </thead>\n",
              "  <tbody>\n",
              "    <tr>\n",
              "      <th>0</th>\n",
              "      <td>Time to debate on it. Strike at the weakest po...</td>\n",
              "      <td>0.0101</td>\n",
              "      <td>0.004024</td>\n",
              "      <td>0.132186</td>\n",
              "      <td>0.011056</td>\n",
              "      <td>0.098095</td>\n",
              "      <td>0.033902</td>\n",
              "      <td>0.171427</td>\n",
              "      <td>0.018321</td>\n",
              "      <td>0.028055</td>\n",
              "      <td>0.090763</td>\n",
              "      <td>0.162511</td>\n",
              "      <td>0.007294</td>\n",
              "      <td>0.042644</td>\n",
              "      <td>0.120266</td>\n",
              "      <td>0.012194</td>\n",
              "      <td>0.057161</td>\n",
              "    </tr>\n",
              "  </tbody>\n",
              "</table>\n",
              "</div>\n",
              "      <button class=\"colab-df-convert\" onclick=\"convertToInteractive('df-82121f34-ad89-495d-964c-647a83b05c56')\"\n",
              "              title=\"Convert this dataframe to an interactive table.\"\n",
              "              style=\"display:none;\">\n",
              "        \n",
              "  <svg xmlns=\"http://www.w3.org/2000/svg\" height=\"24px\"viewBox=\"0 0 24 24\"\n",
              "       width=\"24px\">\n",
              "    <path d=\"M0 0h24v24H0V0z\" fill=\"none\"/>\n",
              "    <path d=\"M18.56 5.44l.94 2.06.94-2.06 2.06-.94-2.06-.94-.94-2.06-.94 2.06-2.06.94zm-11 1L8.5 8.5l.94-2.06 2.06-.94-2.06-.94L8.5 2.5l-.94 2.06-2.06.94zm10 10l.94 2.06.94-2.06 2.06-.94-2.06-.94-.94-2.06-.94 2.06-2.06.94z\"/><path d=\"M17.41 7.96l-1.37-1.37c-.4-.4-.92-.59-1.43-.59-.52 0-1.04.2-1.43.59L10.3 9.45l-7.72 7.72c-.78.78-.78 2.05 0 2.83L4 21.41c.39.39.9.59 1.41.59.51 0 1.02-.2 1.41-.59l7.78-7.78 2.81-2.81c.8-.78.8-2.07 0-2.86zM5.41 20L4 18.59l7.72-7.72 1.47 1.35L5.41 20z\"/>\n",
              "  </svg>\n",
              "      </button>\n",
              "      \n",
              "  <style>\n",
              "    .colab-df-container {\n",
              "      display:flex;\n",
              "      flex-wrap:wrap;\n",
              "      gap: 12px;\n",
              "    }\n",
              "\n",
              "    .colab-df-convert {\n",
              "      background-color: #E8F0FE;\n",
              "      border: none;\n",
              "      border-radius: 50%;\n",
              "      cursor: pointer;\n",
              "      display: none;\n",
              "      fill: #1967D2;\n",
              "      height: 32px;\n",
              "      padding: 0 0 0 0;\n",
              "      width: 32px;\n",
              "    }\n",
              "\n",
              "    .colab-df-convert:hover {\n",
              "      background-color: #E2EBFA;\n",
              "      box-shadow: 0px 1px 2px rgba(60, 64, 67, 0.3), 0px 1px 3px 1px rgba(60, 64, 67, 0.15);\n",
              "      fill: #174EA6;\n",
              "    }\n",
              "\n",
              "    [theme=dark] .colab-df-convert {\n",
              "      background-color: #3B4455;\n",
              "      fill: #D2E3FC;\n",
              "    }\n",
              "\n",
              "    [theme=dark] .colab-df-convert:hover {\n",
              "      background-color: #434B5C;\n",
              "      box-shadow: 0px 1px 3px 1px rgba(0, 0, 0, 0.15);\n",
              "      filter: drop-shadow(0px 1px 2px rgba(0, 0, 0, 0.3));\n",
              "      fill: #FFFFFF;\n",
              "    }\n",
              "  </style>\n",
              "\n",
              "      <script>\n",
              "        const buttonEl =\n",
              "          document.querySelector('#df-82121f34-ad89-495d-964c-647a83b05c56 button.colab-df-convert');\n",
              "        buttonEl.style.display =\n",
              "          google.colab.kernel.accessAllowed ? 'block' : 'none';\n",
              "\n",
              "        async function convertToInteractive(key) {\n",
              "          const element = document.querySelector('#df-82121f34-ad89-495d-964c-647a83b05c56');\n",
              "          const dataTable =\n",
              "            await google.colab.kernel.invokeFunction('convertToInteractive',\n",
              "                                                     [key], {});\n",
              "          if (!dataTable) return;\n",
              "\n",
              "          const docLinkHtml = 'Like what you see? Visit the ' +\n",
              "            '<a target=\"_blank\" href=https://colab.research.google.com/notebooks/data_table.ipynb>data table notebook</a>'\n",
              "            + ' to learn more about interactive tables.';\n",
              "          element.innerHTML = '';\n",
              "          dataTable['output_type'] = 'display_data';\n",
              "          await google.colab.output.renderOutput(dataTable, element);\n",
              "          const docLink = document.createElement('div');\n",
              "          docLink.innerHTML = docLinkHtml;\n",
              "          element.appendChild(docLink);\n",
              "        }\n",
              "      </script>\n",
              "    </div>\n",
              "  </div>\n",
              "  "
            ]
          },
          "metadata": {},
          "execution_count": 26
        }
      ]
    }
  ]
}